{
 "cells": [
  {
   "cell_type": "markdown",
   "metadata": {},
   "source": [
    "<img src=\"http://imgur.com/1ZcRyrc.png\" style=\"float: left; margin: 15px; height: 80px\">\n",
    "\n",
    "# Project 4\n",
    "\n",
    "## San Francisco Data\n",
    "\n",
    "---\n",
    "\n",
    "[San Francisco provides a wealth of data on the city to the public.](https://data.sfgov.org/) Project 4 is all about exploring this data and modeling interesting relationships with regression.\n",
    "\n",
    "Project 4 is also much more open-ended than the previous projects. You are more responsible for finding things about the data that interest you, coming up with your own hypothesis about it, and reporting on the analysis you carry out. That being said, there are still specific requirements and restrictions on the type of models you will be constructing.\n",
    "\n",
    "---\n",
    "\n",
    "## Notes on the data\n",
    "\n",
    "We have gone through the above website and pulled out a variety of different datasets that we think are particularly interesting. Some of the datasets are from external sources as well, but all are related to San Francisco. A high level overview of data folders is provided after the project requirements section.\n",
    "\n",
    "**There is a lot of different data. You are _NOT_ expected to explore all of it or include all of it in analyses.** The point of the project is to focus on aspects of San Francisco that are particularly interesting to you from a modeling point of view. \n",
    "\n",
    "**The uncompressed data is a large filesize.** Even the compressed data is pretty large. The data is compressed into a .7z format which has one of the smallest filesizes available. You will likely need a 3rd party app to extract it. \n",
    "\n",
    "### Recommended Utilities for .7z\n",
    "- For OSX [Keka](http://www.kekaosx.com/en/) or [The Unarchiver](http://wakaba.c3.cx/s/apps/unarchiver.html). \n",
    "- For Windows [7-zip](http://www.7-zip.org/) is the standard. \n",
    "- For Linux try the `p7zip` utility.  `sudo apt-get install p7zip`.\n",
    "\n",
    "---\n",
    "\n",
    "## Project requirements\n",
    "\n",
    "**You will be performing 4 different sections of analysis on the San Francisco data.**\n",
    "\n",
    "**Models must be regression. This means that your target variable needs to be numeric/continuous**\n",
    "\n",
    "Do not perform classification models – this will be the topic of week 4.\n"
   ]
  },
  {
   "cell_type": "markdown",
   "metadata": {},
   "source": [
    "<img src=\"http://imgur.com/l5NasQj.png\" style=\"float: left; margin: 25px 15px 0px 0px; height: 25px\">\n",
    "\n",
    "### 1. Choose a dataset or datasets of interest to you and perform EDA\n",
    "\n",
    "---\n",
    "\n",
    "1. Explain what the data is. This may include multiple csv files. Some of this data has hard to understand codes representing the variables. Nearly all data is pulled from https://data.sfgov.org/ so this is a very good resource for determining what the data is.\n",
    "- Clean the data.\n",
    "- Develop and state clearly a hypothesis about the data that you would want to test.\n",
    "- Create some initial visualizations on the portions of the data relevant to your hypothesis."
   ]
  },
  {
   "cell_type": "code",
   "execution_count": 1,
   "metadata": {
    "collapsed": false
   },
   "outputs": [
    {
     "name": "stderr",
     "output_type": "stream",
     "text": [
      "//anaconda/envs/dsi/lib/python2.7/site-packages/matplotlib/font_manager.py:273: UserWarning: Matplotlib is building the font cache using fc-list. This may take a moment.\n",
      "  warnings.warn('Matplotlib is building the font cache using fc-list. This may take a moment.')\n"
     ]
    }
   ],
   "source": [
    "#import dictionaries\n",
    "import pandas as pd\n",
    "import numpy as np\n",
    "import patsy\n",
    "import seaborn as sns\n",
    "import sklearn\n",
    "from sklearn.linear_model import LinearRegression\n",
    "\n",
    "# for cross validation\n",
    "\n",
    "from sklearn.cross_validation import cross_val_score, cross_val_predict\n",
    "from sklearn import metrics\n",
    "from sklearn import datasets\n",
    "from sklearn.cross_validation import cross_val_predict, train_test_split,cross_val_score\n",
    "from sklearn import linear_model\n",
    "import matplotlib\n",
    "import matplotlib.pyplot as plt\n",
    "\n",
    "#For Regularization\n",
    "\n",
    "from sklearn.linear_model import Ridge, Lasso, ElasticNet, RidgeCV, LassoCV, ElasticNetCV\n",
    "\n",
    "\n",
    "\n",
    "%config InlineBackend.figure_format = 'retina'\n",
    "%matplotlib inline"
   ]
  },
  {
   "cell_type": "code",
   "execution_count": 2,
   "metadata": {
    "collapsed": false
   },
   "outputs": [
    {
     "name": "stdout",
     "output_type": "stream",
     "text": [
      "(254287, 10)\n",
      "(254232, 10)\n"
     ]
    },
    {
     "data": {
      "text/html": [
       "<div>\n",
       "<table border=\"1\" class=\"dataframe\">\n",
       "  <thead>\n",
       "    <tr style=\"text-align: right;\">\n",
       "      <th></th>\n",
       "      <th>Interval</th>\n",
       "      <th>Velocity</th>\n",
       "      <th>Wind_Variance</th>\n",
       "      <th>Wind_Direction</th>\n",
       "      <th>Ambient_Temp</th>\n",
       "      <th>Irradiance</th>\n",
       "    </tr>\n",
       "  </thead>\n",
       "  <tbody>\n",
       "    <tr>\n",
       "      <th>count</th>\n",
       "      <td>254232.0</td>\n",
       "      <td>254232.000000</td>\n",
       "      <td>254232.000000</td>\n",
       "      <td>254232.000000</td>\n",
       "      <td>254232.000000</td>\n",
       "      <td>254232.000000</td>\n",
       "    </tr>\n",
       "    <tr>\n",
       "      <th>mean</th>\n",
       "      <td>5.0</td>\n",
       "      <td>1.844396</td>\n",
       "      <td>11.334451</td>\n",
       "      <td>158.515257</td>\n",
       "      <td>14.489808</td>\n",
       "      <td>194.282441</td>\n",
       "    </tr>\n",
       "    <tr>\n",
       "      <th>std</th>\n",
       "      <td>0.0</td>\n",
       "      <td>1.577735</td>\n",
       "      <td>16.657000</td>\n",
       "      <td>121.503113</td>\n",
       "      <td>5.152112</td>\n",
       "      <td>288.043776</td>\n",
       "    </tr>\n",
       "    <tr>\n",
       "      <th>min</th>\n",
       "      <td>5.0</td>\n",
       "      <td>0.000000</td>\n",
       "      <td>0.000000</td>\n",
       "      <td>0.000000</td>\n",
       "      <td>0.000000</td>\n",
       "      <td>0.000000</td>\n",
       "    </tr>\n",
       "    <tr>\n",
       "      <th>25%</th>\n",
       "      <td>5.0</td>\n",
       "      <td>0.373000</td>\n",
       "      <td>0.000000</td>\n",
       "      <td>41.870000</td>\n",
       "      <td>11.650000</td>\n",
       "      <td>0.000000</td>\n",
       "    </tr>\n",
       "    <tr>\n",
       "      <th>50%</th>\n",
       "      <td>5.0</td>\n",
       "      <td>1.668000</td>\n",
       "      <td>0.023000</td>\n",
       "      <td>130.900000</td>\n",
       "      <td>13.820000</td>\n",
       "      <td>2.748000</td>\n",
       "    </tr>\n",
       "    <tr>\n",
       "      <th>75%</th>\n",
       "      <td>5.0</td>\n",
       "      <td>2.852000</td>\n",
       "      <td>18.370000</td>\n",
       "      <td>260.900000</td>\n",
       "      <td>16.630000</td>\n",
       "      <td>332.400000</td>\n",
       "    </tr>\n",
       "    <tr>\n",
       "      <th>max</th>\n",
       "      <td>5.0</td>\n",
       "      <td>9.550000</td>\n",
       "      <td>103.000000</td>\n",
       "      <td>360.000000</td>\n",
       "      <td>39.760000</td>\n",
       "      <td>1184.000000</td>\n",
       "    </tr>\n",
       "  </tbody>\n",
       "</table>\n",
       "</div>"
      ],
      "text/plain": [
       "       Interval       Velocity  Wind_Variance  Wind_Direction   Ambient_Temp  \\\n",
       "count  254232.0  254232.000000  254232.000000   254232.000000  254232.000000   \n",
       "mean        5.0       1.844396      11.334451      158.515257      14.489808   \n",
       "std         0.0       1.577735      16.657000      121.503113       5.152112   \n",
       "min         5.0       0.000000       0.000000        0.000000       0.000000   \n",
       "25%         5.0       0.373000       0.000000       41.870000      11.650000   \n",
       "50%         5.0       1.668000       0.023000      130.900000      13.820000   \n",
       "75%         5.0       2.852000      18.370000      260.900000      16.630000   \n",
       "max         5.0       9.550000     103.000000      360.000000      39.760000   \n",
       "\n",
       "          Irradiance  \n",
       "count  254232.000000  \n",
       "mean      194.282441  \n",
       "std       288.043776  \n",
       "min         0.000000  \n",
       "25%         0.000000  \n",
       "50%         2.748000  \n",
       "75%       332.400000  \n",
       "max      1184.000000  "
      ]
     },
     "execution_count": 2,
     "metadata": {},
     "output_type": "execute_result"
    }
   ],
   "source": [
    "# this data represents various wind measurements taken at 6 different points in san francisco.  It ws found at the above link.  \n",
    "#The hypothesis being tested is that the wind and the measured global horizontal irradiance measured are  highly correlated with the \n",
    "#target or wind velocity.\n",
    "\n",
    "# read in the weather files into a data frame\n",
    "\n",
    "weather_list=[]\n",
    "directory = '/Users/paulmartin/Desktop/DSI-SF-2-GitPaulM/datasets/san_francisco/san_francisco/weather/'\n",
    "flist = ['04','15','17','18','36','37']\n",
    "\n",
    "for file_syllable in flist:\n",
    "    filename = \"SF\" + file_syllable +'.csv'\n",
    "    weather_list.append(pd.read_csv(directory+filename))\n",
    "\n",
    "weather = pd.concat(weather_list)\n",
    "weather.head()\n",
    "weather.rename(columns = {'Interval_Minutes':'Interval','Wind_Velocity_Mtr_Sec':'Velocity','Wind_Direction_Variance_Deg':'Wind_Variance',\n",
    "                           'Wind_Direction_Deg':'Wind_Direction','Ambient_Temperature_Deg_C':'Ambient_Temp','Global_Horizontal_Irradiance':'Irradiance'}\n",
    "                           ,inplace=True)\n",
    "print weather.shape\n",
    "weather = weather[weather['Velocity'].notnull()]\n",
    "print weather.shape\n",
    "weather.describe()\n"
   ]
  },
  {
   "cell_type": "code",
   "execution_count": 3,
   "metadata": {
    "collapsed": false
   },
   "outputs": [
    {
     "name": "stdout",
     "output_type": "stream",
     "text": [
      "<class 'pandas.core.frame.DataFrame'>\n",
      "Int64Index: 254232 entries, 0 to 32078\n",
      "Data columns (total 10 columns):\n",
      "Station_ID           254232 non-null object\n",
      "Station_Name         254232 non-null object\n",
      "Location_Label       254232 non-null object\n",
      "Interval             254232 non-null int64\n",
      "Interval_End_Time    254232 non-null object\n",
      "Velocity             254232 non-null float64\n",
      "Wind_Variance        254232 non-null float64\n",
      "Wind_Direction       254232 non-null float64\n",
      "Ambient_Temp         254232 non-null float64\n",
      "Irradiance           254232 non-null float64\n",
      "dtypes: float64(5), int64(1), object(4)\n",
      "memory usage: 21.3+ MB\n"
     ]
    },
    {
     "data": {
      "text/html": [
       "<div>\n",
       "<table border=\"1\" class=\"dataframe\">\n",
       "  <thead>\n",
       "    <tr style=\"text-align: right;\">\n",
       "      <th></th>\n",
       "      <th>Station_ID</th>\n",
       "      <th>Location_Label</th>\n",
       "      <th>Interval</th>\n",
       "      <th>Interval_End_Time</th>\n",
       "      <th>Velocity</th>\n",
       "      <th>Wind_Variance</th>\n",
       "      <th>Wind_Direction</th>\n",
       "      <th>Ambient_Temp</th>\n",
       "      <th>Irradiance</th>\n",
       "    </tr>\n",
       "    <tr>\n",
       "      <th>Station_Name</th>\n",
       "      <th></th>\n",
       "      <th></th>\n",
       "      <th></th>\n",
       "      <th></th>\n",
       "      <th></th>\n",
       "      <th></th>\n",
       "      <th></th>\n",
       "      <th></th>\n",
       "      <th></th>\n",
       "    </tr>\n",
       "  </thead>\n",
       "  <tbody>\n",
       "    <tr>\n",
       "      <th>Chinatown Medical Center</th>\n",
       "      <td>32079</td>\n",
       "      <td>32079</td>\n",
       "      <td>32079</td>\n",
       "      <td>32079</td>\n",
       "      <td>32079</td>\n",
       "      <td>32079</td>\n",
       "      <td>32079</td>\n",
       "      <td>32079</td>\n",
       "      <td>32079</td>\n",
       "    </tr>\n",
       "    <tr>\n",
       "      <th>Lincoln High School</th>\n",
       "      <td>12537</td>\n",
       "      <td>12537</td>\n",
       "      <td>12537</td>\n",
       "      <td>12537</td>\n",
       "      <td>12537</td>\n",
       "      <td>12537</td>\n",
       "      <td>12537</td>\n",
       "      <td>12537</td>\n",
       "      <td>12537</td>\n",
       "    </tr>\n",
       "    <tr>\n",
       "      <th>Muni Woods</th>\n",
       "      <td>52404</td>\n",
       "      <td>52404</td>\n",
       "      <td>52404</td>\n",
       "      <td>52404</td>\n",
       "      <td>52404</td>\n",
       "      <td>52404</td>\n",
       "      <td>52404</td>\n",
       "      <td>52404</td>\n",
       "      <td>52404</td>\n",
       "    </tr>\n",
       "    <tr>\n",
       "      <th>Pier 40</th>\n",
       "      <td>52404</td>\n",
       "      <td>52404</td>\n",
       "      <td>52404</td>\n",
       "      <td>52404</td>\n",
       "      <td>52404</td>\n",
       "      <td>52404</td>\n",
       "      <td>52404</td>\n",
       "      <td>52404</td>\n",
       "      <td>52404</td>\n",
       "    </tr>\n",
       "    <tr>\n",
       "      <th>Pulgas Reservoir, San Mateo</th>\n",
       "      <td>52404</td>\n",
       "      <td>52404</td>\n",
       "      <td>52404</td>\n",
       "      <td>52404</td>\n",
       "      <td>52404</td>\n",
       "      <td>52404</td>\n",
       "      <td>52404</td>\n",
       "      <td>52404</td>\n",
       "      <td>52404</td>\n",
       "    </tr>\n",
       "    <tr>\n",
       "      <th>Warnerville Switchyard, Oakdale</th>\n",
       "      <td>52404</td>\n",
       "      <td>52404</td>\n",
       "      <td>52404</td>\n",
       "      <td>52404</td>\n",
       "      <td>52404</td>\n",
       "      <td>52404</td>\n",
       "      <td>52404</td>\n",
       "      <td>52404</td>\n",
       "      <td>52404</td>\n",
       "    </tr>\n",
       "  </tbody>\n",
       "</table>\n",
       "</div>"
      ],
      "text/plain": [
       "                                 Station_ID  Location_Label  Interval  \\\n",
       "Station_Name                                                            \n",
       "Chinatown Medical Center              32079           32079     32079   \n",
       "Lincoln High School                   12537           12537     12537   \n",
       "Muni Woods                            52404           52404     52404   \n",
       "Pier 40                               52404           52404     52404   \n",
       "Pulgas Reservoir, San Mateo           52404           52404     52404   \n",
       "Warnerville Switchyard, Oakdale       52404           52404     52404   \n",
       "\n",
       "                                 Interval_End_Time  Velocity  Wind_Variance  \\\n",
       "Station_Name                                                                  \n",
       "Chinatown Medical Center                     32079     32079          32079   \n",
       "Lincoln High School                          12537     12537          12537   \n",
       "Muni Woods                                   52404     52404          52404   \n",
       "Pier 40                                      52404     52404          52404   \n",
       "Pulgas Reservoir, San Mateo                  52404     52404          52404   \n",
       "Warnerville Switchyard, Oakdale              52404     52404          52404   \n",
       "\n",
       "                                 Wind_Direction  Ambient_Temp  Irradiance  \n",
       "Station_Name                                                               \n",
       "Chinatown Medical Center                  32079         32079       32079  \n",
       "Lincoln High School                       12537         12537       12537  \n",
       "Muni Woods                                52404         52404       52404  \n",
       "Pier 40                                   52404         52404       52404  \n",
       "Pulgas Reservoir, San Mateo               52404         52404       52404  \n",
       "Warnerville Switchyard, Oakdale           52404         52404       52404  "
      ]
     },
     "execution_count": 3,
     "metadata": {},
     "output_type": "execute_result"
    }
   ],
   "source": [
    "weather.info()\n",
    "weather.groupby('Station_Name').count()\n"
   ]
  },
  {
   "cell_type": "markdown",
   "metadata": {},
   "source": [
    "<img src=\"http://imgur.com/l5NasQj.png\" style=\"float: left; margin: 25px 15px 0px 0px; height: 25px\">\n",
    "\n",
    "### 2. Construct and evaluate a linear regression model on the data\n",
    "\n",
    "---\n",
    "\n",
    "1. State the variables that are predictors in your linear regression and the target variable.\n",
    "- Investigate and remove any outliers or other problems in your data. _This is a subjective process._\n",
    "- Construct a linear regression model.\n",
    "- Evaluate the model. How does the $R^2$ of the overall model compare to cross-validated $R^2$. What do the differences in $R^2$ mean?\n",
    "  - Use test / train split\n",
    "  - Use K-Folds\n",
    "  - Compare and explain your results with both\n",
    "- Visualize the evaluation metrics of your analysis in clear charts.\n",
    "- Summarize your results in the context of your hypothesis. Frame this as if you are presenting to non-technical readers.\n"
   ]
  },
  {
   "cell_type": "code",
   "execution_count": 4,
   "metadata": {
    "collapsed": false
   },
   "outputs": [
    {
     "data": {
      "text/html": [
       "<div>\n",
       "<table border=\"1\" class=\"dataframe\">\n",
       "  <thead>\n",
       "    <tr style=\"text-align: right;\">\n",
       "      <th></th>\n",
       "      <th>Station_ID</th>\n",
       "      <th>Station_Name</th>\n",
       "      <th>Location_Label</th>\n",
       "      <th>Interval</th>\n",
       "      <th>Interval_End_Time</th>\n",
       "      <th>Velocity</th>\n",
       "      <th>Wind_Variance</th>\n",
       "      <th>Wind_Direction</th>\n",
       "      <th>Ambient_Temp</th>\n",
       "      <th>Irradiance</th>\n",
       "    </tr>\n",
       "  </thead>\n",
       "  <tbody>\n",
       "    <tr>\n",
       "      <th>0</th>\n",
       "      <td>SF04</td>\n",
       "      <td>Lincoln High School</td>\n",
       "      <td>2162 24th Ave</td>\n",
       "      <td>5</td>\n",
       "      <td>2016-01-6? 08:05</td>\n",
       "      <td>2.260</td>\n",
       "      <td>72.66</td>\n",
       "      <td>63.09</td>\n",
       "      <td>4.690</td>\n",
       "      <td>0.012</td>\n",
       "    </tr>\n",
       "    <tr>\n",
       "      <th>1</th>\n",
       "      <td>SF04</td>\n",
       "      <td>Lincoln High School</td>\n",
       "      <td>2162 24th Ave</td>\n",
       "      <td>5</td>\n",
       "      <td>2016-01-6? 08:10</td>\n",
       "      <td>2.279</td>\n",
       "      <td>83.60</td>\n",
       "      <td>88.60</td>\n",
       "      <td>4.743</td>\n",
       "      <td>0.002</td>\n",
       "    </tr>\n",
       "    <tr>\n",
       "      <th>2</th>\n",
       "      <td>SF04</td>\n",
       "      <td>Lincoln High School</td>\n",
       "      <td>2162 24th Ave</td>\n",
       "      <td>5</td>\n",
       "      <td>2016-01-6? 08:20</td>\n",
       "      <td>1.760</td>\n",
       "      <td>34.34</td>\n",
       "      <td>193.40</td>\n",
       "      <td>5.076</td>\n",
       "      <td>0.000</td>\n",
       "    </tr>\n",
       "    <tr>\n",
       "      <th>3</th>\n",
       "      <td>SF04</td>\n",
       "      <td>Lincoln High School</td>\n",
       "      <td>2162 24th Ave</td>\n",
       "      <td>5</td>\n",
       "      <td>2016-01-6? 08:25</td>\n",
       "      <td>2.141</td>\n",
       "      <td>67.72</td>\n",
       "      <td>59.85</td>\n",
       "      <td>5.151</td>\n",
       "      <td>0.000</td>\n",
       "    </tr>\n",
       "    <tr>\n",
       "      <th>4</th>\n",
       "      <td>SF04</td>\n",
       "      <td>Lincoln High School</td>\n",
       "      <td>2162 24th Ave</td>\n",
       "      <td>5</td>\n",
       "      <td>2016-01-6? 08:30</td>\n",
       "      <td>1.695</td>\n",
       "      <td>78.95</td>\n",
       "      <td>96.90</td>\n",
       "      <td>5.159</td>\n",
       "      <td>0.000</td>\n",
       "    </tr>\n",
       "    <tr>\n",
       "      <th>5</th>\n",
       "      <td>SF04</td>\n",
       "      <td>Lincoln High School</td>\n",
       "      <td>2162 24th Ave</td>\n",
       "      <td>5</td>\n",
       "      <td>2016-01-6? 08:35</td>\n",
       "      <td>1.997</td>\n",
       "      <td>91.50</td>\n",
       "      <td>73.95</td>\n",
       "      <td>5.291</td>\n",
       "      <td>0.000</td>\n",
       "    </tr>\n",
       "    <tr>\n",
       "      <th>6</th>\n",
       "      <td>SF04</td>\n",
       "      <td>Lincoln High School</td>\n",
       "      <td>2162 24th Ave</td>\n",
       "      <td>5</td>\n",
       "      <td>2016-01-6? 08:40</td>\n",
       "      <td>2.023</td>\n",
       "      <td>76.94</td>\n",
       "      <td>61.81</td>\n",
       "      <td>5.352</td>\n",
       "      <td>0.000</td>\n",
       "    </tr>\n",
       "    <tr>\n",
       "      <th>7</th>\n",
       "      <td>SF04</td>\n",
       "      <td>Lincoln High School</td>\n",
       "      <td>2162 24th Ave</td>\n",
       "      <td>5</td>\n",
       "      <td>2016-01-6? 08:45</td>\n",
       "      <td>1.529</td>\n",
       "      <td>97.30</td>\n",
       "      <td>50.32</td>\n",
       "      <td>5.584</td>\n",
       "      <td>0.000</td>\n",
       "    </tr>\n",
       "    <tr>\n",
       "      <th>8</th>\n",
       "      <td>SF04</td>\n",
       "      <td>Lincoln High School</td>\n",
       "      <td>2162 24th Ave</td>\n",
       "      <td>5</td>\n",
       "      <td>2016-01-6? 08:50</td>\n",
       "      <td>1.777</td>\n",
       "      <td>90.70</td>\n",
       "      <td>208.10</td>\n",
       "      <td>5.534</td>\n",
       "      <td>0.000</td>\n",
       "    </tr>\n",
       "    <tr>\n",
       "      <th>9</th>\n",
       "      <td>SF04</td>\n",
       "      <td>Lincoln High School</td>\n",
       "      <td>2162 24th Ave</td>\n",
       "      <td>5</td>\n",
       "      <td>2016-01-6? 08:55</td>\n",
       "      <td>1.724</td>\n",
       "      <td>95.40</td>\n",
       "      <td>18.92</td>\n",
       "      <td>5.601</td>\n",
       "      <td>0.000</td>\n",
       "    </tr>\n",
       "  </tbody>\n",
       "</table>\n",
       "</div>"
      ],
      "text/plain": [
       "  Station_ID         Station_Name Location_Label  Interval Interval_End_Time  \\\n",
       "0       SF04  Lincoln High School  2162 24th Ave         5  2016-01-6? 08:05   \n",
       "1       SF04  Lincoln High School  2162 24th Ave         5  2016-01-6? 08:10   \n",
       "2       SF04  Lincoln High School  2162 24th Ave         5  2016-01-6? 08:20   \n",
       "3       SF04  Lincoln High School  2162 24th Ave         5  2016-01-6? 08:25   \n",
       "4       SF04  Lincoln High School  2162 24th Ave         5  2016-01-6? 08:30   \n",
       "5       SF04  Lincoln High School  2162 24th Ave         5  2016-01-6? 08:35   \n",
       "6       SF04  Lincoln High School  2162 24th Ave         5  2016-01-6? 08:40   \n",
       "7       SF04  Lincoln High School  2162 24th Ave         5  2016-01-6? 08:45   \n",
       "8       SF04  Lincoln High School  2162 24th Ave         5  2016-01-6? 08:50   \n",
       "9       SF04  Lincoln High School  2162 24th Ave         5  2016-01-6? 08:55   \n",
       "\n",
       "   Velocity  Wind_Variance  Wind_Direction  Ambient_Temp  Irradiance  \n",
       "0     2.260          72.66           63.09         4.690       0.012  \n",
       "1     2.279          83.60           88.60         4.743       0.002  \n",
       "2     1.760          34.34          193.40         5.076       0.000  \n",
       "3     2.141          67.72           59.85         5.151       0.000  \n",
       "4     1.695          78.95           96.90         5.159       0.000  \n",
       "5     1.997          91.50           73.95         5.291       0.000  \n",
       "6     2.023          76.94           61.81         5.352       0.000  \n",
       "7     1.529          97.30           50.32         5.584       0.000  \n",
       "8     1.777          90.70          208.10         5.534       0.000  \n",
       "9     1.724          95.40           18.92         5.601       0.000  "
      ]
     },
     "execution_count": 4,
     "metadata": {},
     "output_type": "execute_result"
    }
   ],
   "source": [
    "#1 Target: Velocity, Predictors: Wind_Variance,Wind_Direction,Ambient_Temp,Irradiance\n",
    "#2 Removed nulls, happy with rest of measurements\n",
    "#3 Velocity ~ Ambient_Temp + Irradiance + Wind_Direction + Wind_Variance \n",
    "weather.head(10)"
   ]
  },
  {
   "cell_type": "code",
   "execution_count": 5,
   "metadata": {
    "collapsed": false
   },
   "outputs": [
    {
     "name": "stdout",
     "output_type": "stream",
     "text": [
      "R^2  \n",
      "0.16947 \n",
      "\n",
      "[[ 0.          0.00306484  0.00136324  0.00318737  0.00665374]]\n"
     ]
    }
   ],
   "source": [
    "#4 Set up the regression model (import patsy, Linear_Regression above)\n",
    "\n",
    "formulae = 'Velocity ~ Ambient_Temp + Irradiance + Wind_Direction + Wind_Variance'\n",
    "y = weather['Velocity']\n",
    "X = weather[['Ambient_Temp', 'Irradiance','Wind_Direction','Wind_Variance']]\n",
    "y,X = patsy.dmatrices(formulae,data=weather,return_type=\"dataframe\")\n",
    "\n",
    "lm = LinearRegression()\n",
    "model = lm.fit(X,y)\n",
    "scores = model.score(X,y)\n",
    "yhats = model.predict(X)\n",
    "print \"R^2  \\n%.5f \\n\" % scores\n",
    "print model.coef_\n",
    "\n"
   ]
  },
  {
   "cell_type": "code",
   "execution_count": 6,
   "metadata": {
    "collapsed": false
   },
   "outputs": [
    {
     "name": "stdout",
     "output_type": "stream",
     "text": [
      "(254232, 5)\n"
     ]
    },
    {
     "data": {
      "image/png": "[encoded data removed]",
      "text/plain": [
       "<matplotlib.figure.Figure at 0x11758da90>"
      ]
     },
     "metadata": {
      "image/png": {
       "height": 429,
       "width": 501
      }
     },
     "output_type": "display_data"
    }
   ],
   "source": [
    "\n",
    "print X.shape\n",
    "corr = X.corr()\n",
    "\n",
    "# Set the default matplotlib figure size:\n",
    "plt.rcParams['figure.figsize']=(9,7)\n",
    "\n",
    "# Generate a mask for the upper triangle (taken from seaborn example gallery)\n",
    "mask = np.zeros_like(corr, dtype=np.bool)\n",
    "mask[np.triu_indices_from(mask)] = True\n",
    "\n",
    "# Plot the heatmap with seaborn.\n",
    "# Assign the matplotlib axis the function returns. This will let us resize the labels.\n",
    "ax = sns.heatmap(corr, mask=mask)\n",
    "\n",
    "# Resize the labels.\n",
    "ax.set_xticklabels(ax.xaxis.get_ticklabels(), fontsize=14)\n",
    "ax.set_yticklabels(ax.yaxis.get_ticklabels(), fontsize=14)\n",
    "\n",
    "# If you put plt.show() at the bottom, it prevents those useless printouts from matplotlib.\n",
    "plt.show()"
   ]
  },
  {
   "cell_type": "code",
   "execution_count": 7,
   "metadata": {
    "collapsed": false
   },
   "outputs": [
    {
     "name": "stdout",
     "output_type": "stream",
     "text": [
      "Train R^2:  0.169462850677\n",
      "Test Score: 0.175253421944\n"
     ]
    }
   ],
   "source": [
    "#Train / test model\n",
    "#Expectation:  no suprise correlation\n",
    "\n",
    "X_train, X_test, y_train, y_test = train_test_split(X, y, test_size=0.30)\n",
    "lm = linear_model.LinearRegression()\n",
    "model = lm.fit(X_train, y_train)\n",
    "scores = lm.score(X,y)\n",
    "print \"Train R^2: \", scores\n",
    "predictions = lm.predict(X_test)\n",
    "print \"Test Score:\", model.score(X_test, y_test)  \n",
    "\n",
    "## The line / model\n",
    "# ## The line / model\n",
    "# plt.scatter(y_test, predictions)\n",
    "# plt.xlabel(\"True Values\")\n",
    "# plt.ylabel(\"Predictions\")\n"
   ]
  },
  {
   "cell_type": "code",
   "execution_count": 8,
   "metadata": {
    "collapsed": false
   },
   "outputs": [
    {
     "name": "stdout",
     "output_type": "stream",
     "text": [
      "Cross-validated scores: [ 0.01396761  0.1336247  -0.95692272  0.14798011 -0.30842716 -0.40592453]\n"
     ]
    }
   ],
   "source": [
    "#Cross Validation / 6-fold\n",
    "# Before we calc, what do we expect?   Given the looseness of the fit it is quit likely we will see some lower and possibly negative R quared\n",
    "\n",
    "\n",
    "# Perform 6-fold cross validation\n",
    "scores = cross_val_score(lm, X, y, cv=6)\n",
    "print \"Cross-validated scores:\", scores\n",
    "\n",
    "# # Make cross validated predictions\n",
    "predictions = cross_val_predict(lm, X, y, cv=6)\n",
    "\n",
    "#  too many points to graph\n",
    "# plt.scatter(y, predictions)\n",
    "# plt.show()\n",
    "\n",
    "#accuracy = metrics.r2_score(y, predictions)\n",
    "#print \"Cross-Predicted Accuracy:\", accuracy\n",
    "#print \"Mean scores:\", np.mean(scores)"
   ]
  },
  {
   "cell_type": "code",
   "execution_count": 9,
   "metadata": {
    "collapsed": true
   },
   "outputs": [],
   "source": [
    "# Grapshs approved to be problematic due to the sample size.\n",
    "# In examining the relationship of Ambient Temperature on Wind Velocity, there was very little correlation or assoication \n",
    "#between the two.  Including additional variables into the linear regression (wind directin, variance etc..)  was not\n",
    "#able to provide any material insight intno the correlation."
   ]
  },
  {
   "cell_type": "markdown",
   "metadata": {},
   "source": [
    "<img src=\"http://imgur.com/xDpSobf.png\" style=\"float: left; margin: 25px 15px 0px 0px; height: 25px\">\n",
    "\n",
    "### 2.2 Explain $R^2$ vs. mean squared error (MSE)\n",
    "\n",
    "---\n",
    "\n",
    "1. If you have negative $R^2$ values in cross-validation, what does this mean? \n",
    "2. Why can $R^2$ only be negative when the model is tested on new data?"
   ]
  },
  {
   "cell_type": "code",
   "execution_count": 10,
   "metadata": {
    "collapsed": true
   },
   "outputs": [],
   "source": [
    "#  Classically, R^2 is never negative.  However the model evolved and when you are predicting using a new dataset on the orignal model the \n",
    "# sum of squares error could increase to the point where the R quared is negative.  This could be symptomatic that the model is not a good fit.\n",
    "# the model is run on actual data (to fit the model), then the sum of square error cannot exceed the sum of squares total.  1 - this ration will always be no greater than one."
   ]
  },
  {
   "cell_type": "markdown",
   "metadata": {},
   "source": [
    "<img src=\"http://imgur.com/l5NasQj.png\" style=\"float: left; margin: 25px 15px 0px 0px; height: 25px\">\n",
    "\n",
    "### 3. Combine multiple sources of data and evaluate a model with regularized regression\n",
    "\n",
    "---\n",
    "\n",
    "**I recommend having many predictors to see benefits from regularization methods, but it's up to you.**\n",
    "\n",
    "1. Use _NEW_ sources of data for this section. It should not be related to your analysis/hypothesis from section 1.\n",
    "- Like in part 1, you should state a hypothesis and perform data cleaning and EDA _only_ on the relevant portions of your data. Don't waste time!\n",
    "- Construct and evaluate different models with cross-validated $R^2$. Compare LinearRegression, Lasso, Ridge, and ElasticNet. Find the optimal hyperparameters (alpha, l1_ratio) using gridsearch.\n",
    "- Report on which model is best, and why that might be the case (hint: does your data have multicollinearity? Irrelevant variables? Both?)\n",
    "- Plot visuals that compare the performance of the four models.\n"
   ]
  },
  {
   "cell_type": "code",
   "execution_count": 11,
   "metadata": {
    "collapsed": false
   },
   "outputs": [
    {
     "name": "stderr",
     "output_type": "stream",
     "text": [
      "//anaconda/envs/dsi/lib/python2.7/site-packages/IPython/core/interactiveshell.py:2723: DtypeWarning: Columns (26) have mixed types. Specify dtype option on import or set low_memory=False.\n",
      "  interactivity=interactivity, compiler=compiler, result=result)\n",
      "//anaconda/envs/dsi/lib/python2.7/site-packages/IPython/core/interactiveshell.py:2723: DtypeWarning: Columns (4,31) have mixed types. Specify dtype option on import or set low_memory=False.\n",
      "  interactivity=interactivity, compiler=compiler, result=result)\n",
      "//anaconda/envs/dsi/lib/python2.7/site-packages/numpy/lib/function_base.py:3834: RuntimeWarning: Invalid value encountered in percentile\n",
      "  RuntimeWarning)\n"
     ]
    },
    {
     "data": {
      "text/html": [
       "<div>\n",
       "<table border=\"1\" class=\"dataframe\">\n",
       "  <thead>\n",
       "    <tr style=\"text-align: right;\">\n",
       "      <th></th>\n",
       "      <th>BASELOT</th>\n",
       "      <th>BASELOTSFX</th>\n",
       "      <th>BATHS</th>\n",
       "      <th>BEDS</th>\n",
       "      <th>BUILTIN</th>\n",
       "      <th>CHGDATE</th>\n",
       "      <th>CONSTTYPE</th>\n",
       "      <th>DEPTH</th>\n",
       "      <th>EXEMPTYPE</th>\n",
       "      <th>FBA</th>\n",
       "      <th>...</th>\n",
       "      <th>RP1PRCLID</th>\n",
       "      <th>RP1RECDAT1</th>\n",
       "      <th>RP1STACDE</th>\n",
       "      <th>RP1TRACDE</th>\n",
       "      <th>RP1VOLUME</th>\n",
       "      <th>SQFT</th>\n",
       "      <th>STOREYNO</th>\n",
       "      <th>UNITS</th>\n",
       "      <th>YRBLT</th>\n",
       "      <th>ZONE</th>\n",
       "    </tr>\n",
       "  </thead>\n",
       "  <tbody>\n",
       "    <tr>\n",
       "      <th>0</th>\n",
       "      <td>NaN</td>\n",
       "      <td>NaN</td>\n",
       "      <td>0</td>\n",
       "      <td>0</td>\n",
       "      <td>NaN</td>\n",
       "      <td>9908</td>\n",
       "      <td>NaN</td>\n",
       "      <td>0.0</td>\n",
       "      <td>NaN</td>\n",
       "      <td>0.0</td>\n",
       "      <td>...</td>\n",
       "      <td>0001 001</td>\n",
       "      <td>970216.0</td>\n",
       "      <td>N</td>\n",
       "      <td>1000.0</td>\n",
       "      <td>1</td>\n",
       "      <td>0</td>\n",
       "      <td>0</td>\n",
       "      <td>0</td>\n",
       "      <td>1900</td>\n",
       "      <td>P</td>\n",
       "    </tr>\n",
       "    <tr>\n",
       "      <th>1</th>\n",
       "      <td>NaN</td>\n",
       "      <td>NaN</td>\n",
       "      <td>0</td>\n",
       "      <td>0</td>\n",
       "      <td>NaN</td>\n",
       "      <td>9908</td>\n",
       "      <td>NaN</td>\n",
       "      <td>0.0</td>\n",
       "      <td>NaN</td>\n",
       "      <td>0.0</td>\n",
       "      <td>...</td>\n",
       "      <td>0002 001</td>\n",
       "      <td>690229.0</td>\n",
       "      <td>N</td>\n",
       "      <td>1000.0</td>\n",
       "      <td>1</td>\n",
       "      <td>0</td>\n",
       "      <td>0</td>\n",
       "      <td>0</td>\n",
       "      <td>1900</td>\n",
       "      <td>C2</td>\n",
       "    </tr>\n",
       "    <tr>\n",
       "      <th>2</th>\n",
       "      <td>NaN</td>\n",
       "      <td>NaN</td>\n",
       "      <td>0</td>\n",
       "      <td>0</td>\n",
       "      <td>NaN</td>\n",
       "      <td>9908</td>\n",
       "      <td>NaN</td>\n",
       "      <td>0.0</td>\n",
       "      <td>NaN</td>\n",
       "      <td>0.0</td>\n",
       "      <td>...</td>\n",
       "      <td>0004 002</td>\n",
       "      <td>791115.0</td>\n",
       "      <td>N</td>\n",
       "      <td>1000.0</td>\n",
       "      <td>1</td>\n",
       "      <td>0</td>\n",
       "      <td>0</td>\n",
       "      <td>0</td>\n",
       "      <td>0</td>\n",
       "      <td>C2</td>\n",
       "    </tr>\n",
       "    <tr>\n",
       "      <th>3</th>\n",
       "      <td>NaN</td>\n",
       "      <td>NaN</td>\n",
       "      <td>0</td>\n",
       "      <td>0</td>\n",
       "      <td>NaN</td>\n",
       "      <td>9908</td>\n",
       "      <td>NaN</td>\n",
       "      <td>0.0</td>\n",
       "      <td>NaN</td>\n",
       "      <td>0.0</td>\n",
       "      <td>...</td>\n",
       "      <td>0005 001</td>\n",
       "      <td>690229.0</td>\n",
       "      <td>N</td>\n",
       "      <td>1000.0</td>\n",
       "      <td>1</td>\n",
       "      <td>0</td>\n",
       "      <td>0</td>\n",
       "      <td>0</td>\n",
       "      <td>1900</td>\n",
       "      <td>C2</td>\n",
       "    </tr>\n",
       "    <tr>\n",
       "      <th>4</th>\n",
       "      <td>NaN</td>\n",
       "      <td>NaN</td>\n",
       "      <td>0</td>\n",
       "      <td>0</td>\n",
       "      <td>NaN</td>\n",
       "      <td>9908</td>\n",
       "      <td>NaN</td>\n",
       "      <td>0.0</td>\n",
       "      <td>NaN</td>\n",
       "      <td>0.0</td>\n",
       "      <td>...</td>\n",
       "      <td>0006 001</td>\n",
       "      <td>690229.0</td>\n",
       "      <td>N</td>\n",
       "      <td>1000.0</td>\n",
       "      <td>1</td>\n",
       "      <td>0</td>\n",
       "      <td>0</td>\n",
       "      <td>0</td>\n",
       "      <td>1900</td>\n",
       "      <td>C2</td>\n",
       "    </tr>\n",
       "  </tbody>\n",
       "</table>\n",
       "<p>5 rows × 41 columns</p>\n",
       "</div>"
      ],
      "text/plain": [
       "   BASELOT BASELOTSFX  BATHS  BEDS  BUILTIN  CHGDATE CONSTTYPE  DEPTH  \\\n",
       "0      NaN        NaN      0     0      NaN     9908       NaN    0.0   \n",
       "1      NaN        NaN      0     0      NaN     9908       NaN    0.0   \n",
       "2      NaN        NaN      0     0      NaN     9908       NaN    0.0   \n",
       "3      NaN        NaN      0     0      NaN     9908       NaN    0.0   \n",
       "4      NaN        NaN      0     0      NaN     9908       NaN    0.0   \n",
       "\n",
       "  EXEMPTYPE  FBA  ...   RP1PRCLID RP1RECDAT1  RP1STACDE RP1TRACDE  RP1VOLUME  \\\n",
       "0       NaN  0.0  ...    0001 001   970216.0          N    1000.0          1   \n",
       "1       NaN  0.0  ...    0002 001   690229.0          N    1000.0          1   \n",
       "2       NaN  0.0  ...    0004 002   791115.0          N    1000.0          1   \n",
       "3       NaN  0.0  ...    0005 001   690229.0          N    1000.0          1   \n",
       "4       NaN  0.0  ...    0006 001   690229.0          N    1000.0          1   \n",
       "\n",
       "  SQFT  STOREYNO UNITS  YRBLT  ZONE  \n",
       "0    0         0     0   1900     P  \n",
       "1    0         0     0   1900    C2  \n",
       "2    0         0     0      0    C2  \n",
       "3    0         0     0   1900    C2  \n",
       "4    0         0     0   1900    C2  \n",
       "\n",
       "[5 rows x 41 columns]"
      ]
     },
     "execution_count": 11,
     "metadata": {},
     "output_type": "execute_result"
    }
   ],
   "source": [
    "# read in the 8 files to a dataframe list and concatenate into a single df\n",
    "# Hypotesizing the impact of key property features on overall appraised single family values\n",
    "\n",
    "df_list=[]\n",
    "directory = '/Users/paulmartin/Desktop/DSI-SF-2-GitPaulM/datasets/san_francisco/san_francisco/assessor_office/'\n",
    "initial_year = 2007\n",
    "end_year = 2015\n",
    "for index in range(initial_year,end_year):\n",
    "    filename = \"assessor_data_\" + str(index) + '_' + str(index+1)+'.csv'\n",
    "    tempdf = pd.read_csv(directory+filename)\n",
    "    tempdf['ROLLYEAR'] = tempdf['ROLLYEAR'].map(lambda x: index)\n",
    "    df_list.append(tempdf)\n",
    "assess_df = pd.concat(df_list)\n",
    "\n",
    "assess_df.describe().T\n",
    "assess_df.head()"
   ]
  },
  {
   "cell_type": "code",
   "execution_count": 12,
   "metadata": {
    "collapsed": false
   },
   "outputs": [
    {
     "data": {
      "text/plain": [
       "(1612110, 41)"
      ]
     },
     "execution_count": 12,
     "metadata": {},
     "output_type": "execute_result"
    }
   ],
   "source": [
    "assess_df.shape"
   ]
  },
  {
   "cell_type": "code",
   "execution_count": 13,
   "metadata": {
    "collapsed": false
   },
   "outputs": [
    {
     "data": {
      "text/plain": [
       "(1612110, 42)"
      ]
     },
     "execution_count": 13,
     "metadata": {},
     "output_type": "execute_result"
    }
   ],
   "source": [
    "#rename the relevant columns\n",
    "\n",
    "\n",
    "assess_df.rename(columns= {'YRBLT':'Year_Built','BATHS':'Baths','BEDS':'Bedrooms','ROOMS':'Rooms','STOREYNO':'Stories',\n",
    "                           'UNITS':'Units','DEPTH':'Lot_Depth','FRONT':'Lot_Frontage','SQFT':'Sqft','FBA':'Basement_Area','LAREA':'Lot_Area',\n",
    "                           'OWNRPRCNT':'Ownership_Percent','RP1FXTVAL':'Fixtures_Values','RP1IMPVAL':'Improvement_Value','RP1LNDVAL':'Land_Value',\n",
    "                           'RP1PPTVAL':'Prop_Value','ROLLYEAR':'Roll_Year'}, inplace = True)\n",
    "\n",
    "#Calculate tota value\n",
    "\n",
    "assess_df['Total_Value'] = assess_df['Fixtures_Values']+assess_df['Improvement_Value'] + assess_df['Prop_Value']+assess_df['Land_Value']\n",
    "\n",
    "assess_df.shape\n",
    "\n",
    "\n"
   ]
  },
  {
   "cell_type": "code",
   "execution_count": 14,
   "metadata": {
    "collapsed": false
   },
   "outputs": [
    {
     "data": {
      "text/plain": [
       "(1113446, 42)"
      ]
     },
     "execution_count": 14,
     "metadata": {},
     "output_type": "execute_result"
    }
   ],
   "source": [
    "#Exploring single family properties only\n",
    "\n",
    "code_list = ['COS','D','DBM','LZ','LZB','M','TH','THB','Z','ZBM']\n",
    "single_family_condition = ((assess_df['RP1CLACDE']=='COS')|(assess_df['RP1CLACDE']=='D')|(assess_df['RP1CLACDE']=='DBM')|\n",
    "                           (assess_df['RP1CLACDE']=='LZ')|(assess_df['RP1CLACDE']=='LZBM')|(assess_df['RP1CLACDE']=='TH')|\n",
    "                           (assess_df['RP1CLACDE']=='THBM')|(assess_df['RP1CLACDE']=='Z')|(assess_df['RP1CLACDE']=='ZBM'))\n",
    "                           \n",
    "\n",
    "\n",
    "assess_df = assess_df[single_family_condition]\n",
    "assess_df.shape"
   ]
  },
  {
   "cell_type": "code",
   "execution_count": 15,
   "metadata": {
    "collapsed": false
   },
   "outputs": [
    {
     "data": {
      "text/plain": [
       "(788754, 42)"
      ]
     },
     "execution_count": 15,
     "metadata": {},
     "output_type": "execute_result"
    }
   ],
   "source": [
    "#Removes years outside of condition\n",
    "\n",
    "year_condition = ((assess_df['Year_Built']>1850)&(assess_df['Year_Built']<=end_year+1))\n",
    "assess_df = assess_df[year_condition]\n",
    "\n",
    "#Updar Roll_Year\n",
    "\n",
    "#assess_df['Roll_Year'] = assess_df['Roll_Year'].map(lambda x: x + 2000)\n",
    "\n",
    "# Eliminate non negative property values\n",
    "\n",
    "assess_df = assess_df[(assess_df['Total_Value']>10000)]\n",
    "\n",
    "outlierlist = ['Baths','Bedrooms','Rooms','Sqft','Basement_Area','Lot_Area','Stories','Land_Value']\n",
    "\n",
    "#Clean up some of the design field outliers\n",
    "\n",
    "for field in outlierlist:\n",
    "    assess_df = assess_df[((assess_df[field]>=0)&(assess_df[field]<=np.percentile(assess_df[field],95)))]\n",
    "\n",
    "assess_df.shape\n",
    "\n"
   ]
  },
  {
   "cell_type": "code",
   "execution_count": 16,
   "metadata": {
    "collapsed": false
   },
   "outputs": [
    {
     "data": {
      "text/html": [
       "<div>\n",
       "<table border=\"1\" class=\"dataframe\">\n",
       "  <thead>\n",
       "    <tr style=\"text-align: right;\">\n",
       "      <th></th>\n",
       "      <th>count</th>\n",
       "      <th>mean</th>\n",
       "      <th>std</th>\n",
       "      <th>min</th>\n",
       "      <th>25%</th>\n",
       "      <th>50%</th>\n",
       "      <th>75%</th>\n",
       "      <th>max</th>\n",
       "    </tr>\n",
       "  </thead>\n",
       "  <tbody>\n",
       "    <tr>\n",
       "      <th>BASELOT</th>\n",
       "      <td>97482.0</td>\n",
       "      <td>0.469297</td>\n",
       "      <td>15.681327</td>\n",
       "      <td>0.0</td>\n",
       "      <td>NaN</td>\n",
       "      <td>NaN</td>\n",
       "      <td>NaN</td>\n",
       "      <td>937.00</td>\n",
       "    </tr>\n",
       "    <tr>\n",
       "      <th>Baths</th>\n",
       "      <td>788754.0</td>\n",
       "      <td>1.258525</td>\n",
       "      <td>0.606504</td>\n",
       "      <td>0.0</td>\n",
       "      <td>1.0</td>\n",
       "      <td>1.0</td>\n",
       "      <td>2.0</td>\n",
       "      <td>3.00</td>\n",
       "    </tr>\n",
       "    <tr>\n",
       "      <th>Bedrooms</th>\n",
       "      <td>788754.0</td>\n",
       "      <td>0.670312</td>\n",
       "      <td>1.073653</td>\n",
       "      <td>0.0</td>\n",
       "      <td>0.0</td>\n",
       "      <td>0.0</td>\n",
       "      <td>1.0</td>\n",
       "      <td>4.00</td>\n",
       "    </tr>\n",
       "    <tr>\n",
       "      <th>BUILTIN</th>\n",
       "      <td>97482.0</td>\n",
       "      <td>0.000000</td>\n",
       "      <td>0.000000</td>\n",
       "      <td>0.0</td>\n",
       "      <td>NaN</td>\n",
       "      <td>NaN</td>\n",
       "      <td>NaN</td>\n",
       "      <td>0.00</td>\n",
       "    </tr>\n",
       "    <tr>\n",
       "      <th>CHGDATE</th>\n",
       "      <td>788754.0</td>\n",
       "      <td>7837.963574</td>\n",
       "      <td>3904.825212</td>\n",
       "      <td>0.0</td>\n",
       "      <td>9504.0</td>\n",
       "      <td>9903.0</td>\n",
       "      <td>9908.0</td>\n",
       "      <td>9912.00</td>\n",
       "    </tr>\n",
       "    <tr>\n",
       "      <th>Lot_Depth</th>\n",
       "      <td>788754.0</td>\n",
       "      <td>7.305860</td>\n",
       "      <td>20.368747</td>\n",
       "      <td>0.0</td>\n",
       "      <td>0.0</td>\n",
       "      <td>0.0</td>\n",
       "      <td>0.0</td>\n",
       "      <td>99.87</td>\n",
       "    </tr>\n",
       "    <tr>\n",
       "      <th>Basement_Area</th>\n",
       "      <td>788754.0</td>\n",
       "      <td>11.480974</td>\n",
       "      <td>52.207666</td>\n",
       "      <td>0.0</td>\n",
       "      <td>0.0</td>\n",
       "      <td>0.0</td>\n",
       "      <td>0.0</td>\n",
       "      <td>350.00</td>\n",
       "    </tr>\n",
       "    <tr>\n",
       "      <th>Lot_Frontage</th>\n",
       "      <td>788754.0</td>\n",
       "      <td>0.018766</td>\n",
       "      <td>0.741479</td>\n",
       "      <td>0.0</td>\n",
       "      <td>0.0</td>\n",
       "      <td>0.0</td>\n",
       "      <td>0.0</td>\n",
       "      <td>87.50</td>\n",
       "    </tr>\n",
       "    <tr>\n",
       "      <th>Lot_Area</th>\n",
       "      <td>788754.0</td>\n",
       "      <td>1695.414706</td>\n",
       "      <td>1291.446133</td>\n",
       "      <td>0.0</td>\n",
       "      <td>0.0</td>\n",
       "      <td>2247.0</td>\n",
       "      <td>2809.0</td>\n",
       "      <td>3789.00</td>\n",
       "    </tr>\n",
       "    <tr>\n",
       "      <th>Ownership_Percent</th>\n",
       "      <td>788754.0</td>\n",
       "      <td>0.899344</td>\n",
       "      <td>0.212945</td>\n",
       "      <td>0.0</td>\n",
       "      <td>1.0</td>\n",
       "      <td>1.0</td>\n",
       "      <td>1.0</td>\n",
       "      <td>1.00</td>\n",
       "    </tr>\n",
       "    <tr>\n",
       "      <th>RECURRSALD</th>\n",
       "      <td>788754.0</td>\n",
       "      <td>243290.181400</td>\n",
       "      <td>389840.792085</td>\n",
       "      <td>0.0</td>\n",
       "      <td>0.0</td>\n",
       "      <td>30812.0</td>\n",
       "      <td>130204.0</td>\n",
       "      <td>991231.00</td>\n",
       "    </tr>\n",
       "    <tr>\n",
       "      <th>REPRISDATE</th>\n",
       "      <td>0.0</td>\n",
       "      <td>NaN</td>\n",
       "      <td>NaN</td>\n",
       "      <td>NaN</td>\n",
       "      <td>NaN</td>\n",
       "      <td>NaN</td>\n",
       "      <td>NaN</td>\n",
       "      <td>NaN</td>\n",
       "    </tr>\n",
       "    <tr>\n",
       "      <th>Roll_Year</th>\n",
       "      <td>788754.0</td>\n",
       "      <td>2010.493841</td>\n",
       "      <td>2.290145</td>\n",
       "      <td>2007.0</td>\n",
       "      <td>2008.0</td>\n",
       "      <td>2010.0</td>\n",
       "      <td>2012.0</td>\n",
       "      <td>2014.00</td>\n",
       "    </tr>\n",
       "    <tr>\n",
       "      <th>Rooms</th>\n",
       "      <td>788754.0</td>\n",
       "      <td>4.669910</td>\n",
       "      <td>1.905193</td>\n",
       "      <td>0.0</td>\n",
       "      <td>4.0</td>\n",
       "      <td>5.0</td>\n",
       "      <td>6.0</td>\n",
       "      <td>8.00</td>\n",
       "    </tr>\n",
       "    <tr>\n",
       "      <th>RP1DOCNO2</th>\n",
       "      <td>788754.0</td>\n",
       "      <td>210.742874</td>\n",
       "      <td>396.293970</td>\n",
       "      <td>0.0</td>\n",
       "      <td>0.0</td>\n",
       "      <td>0.0</td>\n",
       "      <td>380.0</td>\n",
       "      <td>9999.00</td>\n",
       "    </tr>\n",
       "    <tr>\n",
       "      <th>RP1EXMVL1</th>\n",
       "      <td>788754.0</td>\n",
       "      <td>3974.352883</td>\n",
       "      <td>3469.357734</td>\n",
       "      <td>0.0</td>\n",
       "      <td>0.0</td>\n",
       "      <td>7000.0</td>\n",
       "      <td>7000.0</td>\n",
       "      <td>21000.00</td>\n",
       "    </tr>\n",
       "    <tr>\n",
       "      <th>RP1EXMVL2</th>\n",
       "      <td>788754.0</td>\n",
       "      <td>294.263679</td>\n",
       "      <td>11095.299191</td>\n",
       "      <td>0.0</td>\n",
       "      <td>0.0</td>\n",
       "      <td>0.0</td>\n",
       "      <td>0.0</td>\n",
       "      <td>1009562.00</td>\n",
       "    </tr>\n",
       "    <tr>\n",
       "      <th>Fixtures_Values</th>\n",
       "      <td>788754.0</td>\n",
       "      <td>9.307191</td>\n",
       "      <td>2887.037272</td>\n",
       "      <td>0.0</td>\n",
       "      <td>0.0</td>\n",
       "      <td>0.0</td>\n",
       "      <td>0.0</td>\n",
       "      <td>2062043.00</td>\n",
       "    </tr>\n",
       "    <tr>\n",
       "      <th>Improvement_Value</th>\n",
       "      <td>788754.0</td>\n",
       "      <td>174796.206263</td>\n",
       "      <td>126705.605528</td>\n",
       "      <td>0.0</td>\n",
       "      <td>77483.0</td>\n",
       "      <td>150000.0</td>\n",
       "      <td>246182.0</td>\n",
       "      <td>2536463.00</td>\n",
       "    </tr>\n",
       "    <tr>\n",
       "      <th>Land_Value</th>\n",
       "      <td>788754.0</td>\n",
       "      <td>197482.796011</td>\n",
       "      <td>158336.923984</td>\n",
       "      <td>0.0</td>\n",
       "      <td>46747.5</td>\n",
       "      <td>162081.0</td>\n",
       "      <td>315000.0</td>\n",
       "      <td>602723.00</td>\n",
       "    </tr>\n",
       "    <tr>\n",
       "      <th>Prop_Value</th>\n",
       "      <td>788754.0</td>\n",
       "      <td>12.538057</td>\n",
       "      <td>807.286384</td>\n",
       "      <td>0.0</td>\n",
       "      <td>0.0</td>\n",
       "      <td>0.0</td>\n",
       "      <td>0.0</td>\n",
       "      <td>288495.00</td>\n",
       "    </tr>\n",
       "    <tr>\n",
       "      <th>RP1RECDAT1</th>\n",
       "      <td>788754.0</td>\n",
       "      <td>326415.231532</td>\n",
       "      <td>395554.342924</td>\n",
       "      <td>0.0</td>\n",
       "      <td>50228.0</td>\n",
       "      <td>90121.0</td>\n",
       "      <td>850801.0</td>\n",
       "      <td>991231.00</td>\n",
       "    </tr>\n",
       "    <tr>\n",
       "      <th>RP1TRACDE</th>\n",
       "      <td>787264.0</td>\n",
       "      <td>1000.631380</td>\n",
       "      <td>2.829551</td>\n",
       "      <td>1000.0</td>\n",
       "      <td>NaN</td>\n",
       "      <td>NaN</td>\n",
       "      <td>NaN</td>\n",
       "      <td>1019.00</td>\n",
       "    </tr>\n",
       "    <tr>\n",
       "      <th>RP1VOLUME</th>\n",
       "      <td>788754.0</td>\n",
       "      <td>23.605719</td>\n",
       "      <td>12.425119</td>\n",
       "      <td>1.0</td>\n",
       "      <td>14.0</td>\n",
       "      <td>23.0</td>\n",
       "      <td>35.0</td>\n",
       "      <td>44.00</td>\n",
       "    </tr>\n",
       "    <tr>\n",
       "      <th>Sqft</th>\n",
       "      <td>788754.0</td>\n",
       "      <td>1217.273699</td>\n",
       "      <td>376.690060</td>\n",
       "      <td>0.0</td>\n",
       "      <td>971.0</td>\n",
       "      <td>1200.0</td>\n",
       "      <td>1450.0</td>\n",
       "      <td>2255.00</td>\n",
       "    </tr>\n",
       "    <tr>\n",
       "      <th>Stories</th>\n",
       "      <td>788754.0</td>\n",
       "      <td>0.940794</td>\n",
       "      <td>0.572643</td>\n",
       "      <td>0.0</td>\n",
       "      <td>1.0</td>\n",
       "      <td>1.0</td>\n",
       "      <td>1.0</td>\n",
       "      <td>2.00</td>\n",
       "    </tr>\n",
       "    <tr>\n",
       "      <th>Units</th>\n",
       "      <td>788754.0</td>\n",
       "      <td>0.875365</td>\n",
       "      <td>0.331916</td>\n",
       "      <td>0.0</td>\n",
       "      <td>1.0</td>\n",
       "      <td>1.0</td>\n",
       "      <td>1.0</td>\n",
       "      <td>9.00</td>\n",
       "    </tr>\n",
       "    <tr>\n",
       "      <th>Year_Built</th>\n",
       "      <td>788754.0</td>\n",
       "      <td>1946.773434</td>\n",
       "      <td>32.212901</td>\n",
       "      <td>1865.0</td>\n",
       "      <td>1924.0</td>\n",
       "      <td>1941.0</td>\n",
       "      <td>1972.0</td>\n",
       "      <td>2014.00</td>\n",
       "    </tr>\n",
       "    <tr>\n",
       "      <th>Total_Value</th>\n",
       "      <td>788754.0</td>\n",
       "      <td>372300.847523</td>\n",
       "      <td>265012.677575</td>\n",
       "      <td>10007.0</td>\n",
       "      <td>139113.0</td>\n",
       "      <td>326998.5</td>\n",
       "      <td>558691.5</td>\n",
       "      <td>2692346.00</td>\n",
       "    </tr>\n",
       "  </tbody>\n",
       "</table>\n",
       "</div>"
      ],
      "text/plain": [
       "                      count           mean            std      min       25%  \\\n",
       "BASELOT             97482.0       0.469297      15.681327      0.0       NaN   \n",
       "Baths              788754.0       1.258525       0.606504      0.0       1.0   \n",
       "Bedrooms           788754.0       0.670312       1.073653      0.0       0.0   \n",
       "BUILTIN             97482.0       0.000000       0.000000      0.0       NaN   \n",
       "CHGDATE            788754.0    7837.963574    3904.825212      0.0    9504.0   \n",
       "Lot_Depth          788754.0       7.305860      20.368747      0.0       0.0   \n",
       "Basement_Area      788754.0      11.480974      52.207666      0.0       0.0   \n",
       "Lot_Frontage       788754.0       0.018766       0.741479      0.0       0.0   \n",
       "Lot_Area           788754.0    1695.414706    1291.446133      0.0       0.0   \n",
       "Ownership_Percent  788754.0       0.899344       0.212945      0.0       1.0   \n",
       "RECURRSALD         788754.0  243290.181400  389840.792085      0.0       0.0   \n",
       "REPRISDATE              0.0            NaN            NaN      NaN       NaN   \n",
       "Roll_Year          788754.0    2010.493841       2.290145   2007.0    2008.0   \n",
       "Rooms              788754.0       4.669910       1.905193      0.0       4.0   \n",
       "RP1DOCNO2          788754.0     210.742874     396.293970      0.0       0.0   \n",
       "RP1EXMVL1          788754.0    3974.352883    3469.357734      0.0       0.0   \n",
       "RP1EXMVL2          788754.0     294.263679   11095.299191      0.0       0.0   \n",
       "Fixtures_Values    788754.0       9.307191    2887.037272      0.0       0.0   \n",
       "Improvement_Value  788754.0  174796.206263  126705.605528      0.0   77483.0   \n",
       "Land_Value         788754.0  197482.796011  158336.923984      0.0   46747.5   \n",
       "Prop_Value         788754.0      12.538057     807.286384      0.0       0.0   \n",
       "RP1RECDAT1         788754.0  326415.231532  395554.342924      0.0   50228.0   \n",
       "RP1TRACDE          787264.0    1000.631380       2.829551   1000.0       NaN   \n",
       "RP1VOLUME          788754.0      23.605719      12.425119      1.0      14.0   \n",
       "Sqft               788754.0    1217.273699     376.690060      0.0     971.0   \n",
       "Stories            788754.0       0.940794       0.572643      0.0       1.0   \n",
       "Units              788754.0       0.875365       0.331916      0.0       1.0   \n",
       "Year_Built         788754.0    1946.773434      32.212901   1865.0    1924.0   \n",
       "Total_Value        788754.0  372300.847523  265012.677575  10007.0  139113.0   \n",
       "\n",
       "                        50%       75%         max  \n",
       "BASELOT                 NaN       NaN      937.00  \n",
       "Baths                   1.0       2.0        3.00  \n",
       "Bedrooms                0.0       1.0        4.00  \n",
       "BUILTIN                 NaN       NaN        0.00  \n",
       "CHGDATE              9903.0    9908.0     9912.00  \n",
       "Lot_Depth               0.0       0.0       99.87  \n",
       "Basement_Area           0.0       0.0      350.00  \n",
       "Lot_Frontage            0.0       0.0       87.50  \n",
       "Lot_Area             2247.0    2809.0     3789.00  \n",
       "Ownership_Percent       1.0       1.0        1.00  \n",
       "RECURRSALD          30812.0  130204.0   991231.00  \n",
       "REPRISDATE              NaN       NaN         NaN  \n",
       "Roll_Year            2010.0    2012.0     2014.00  \n",
       "Rooms                   5.0       6.0        8.00  \n",
       "RP1DOCNO2               0.0     380.0     9999.00  \n",
       "RP1EXMVL1            7000.0    7000.0    21000.00  \n",
       "RP1EXMVL2               0.0       0.0  1009562.00  \n",
       "Fixtures_Values         0.0       0.0  2062043.00  \n",
       "Improvement_Value  150000.0  246182.0  2536463.00  \n",
       "Land_Value         162081.0  315000.0   602723.00  \n",
       "Prop_Value              0.0       0.0   288495.00  \n",
       "RP1RECDAT1          90121.0  850801.0   991231.00  \n",
       "RP1TRACDE               NaN       NaN     1019.00  \n",
       "RP1VOLUME              23.0      35.0       44.00  \n",
       "Sqft                 1200.0    1450.0     2255.00  \n",
       "Stories                 1.0       1.0        2.00  \n",
       "Units                   1.0       1.0        9.00  \n",
       "Year_Built           1941.0    1972.0     2014.00  \n",
       "Total_Value        326998.5  558691.5  2692346.00  "
      ]
     },
     "execution_count": 16,
     "metadata": {},
     "output_type": "execute_result"
    }
   ],
   "source": [
    "assess_df.describe().T"
   ]
  },
  {
   "cell_type": "code",
   "execution_count": 17,
   "metadata": {
    "collapsed": true
   },
   "outputs": [],
   "source": [
    "# Hypothesis is that for appraised SF single family appraised property value , multploe factors will play into the the value, \n",
    "#with the square footage expected to be the highest predictor"
   ]
  },
  {
   "cell_type": "code",
   "execution_count": 18,
   "metadata": {
    "collapsed": false
   },
   "outputs": [
    {
     "name": "stderr",
     "output_type": "stream",
     "text": [
      "//anaconda/envs/dsi/lib/python2.7/site-packages/pandas/core/indexing.py:465: SettingWithCopyWarning: \n",
      "A value is trying to be set on a copy of a slice from a DataFrame.\n",
      "Try using .loc[row_indexer,col_indexer] = value instead\n",
      "\n",
      "See the caveats in the documentation: http://pandas.pydata.org/pandas-docs/stable/indexing.html#indexing-view-versus-copy\n",
      "  self.obj[item] = s\n"
     ]
    },
    {
     "name": "stdout",
     "output_type": "stream",
     "text": [
      "(788754, 13)\n",
      "Total_Value ~ Roll_Year + Year_Built + Baths + Bedrooms + Rooms + Lot_Depth + Lot_Frontage + Sqft + Basement_Area + Lot_Area + Stories + Ownership_Percent -1\n",
      "<type 'str'>\n"
     ]
    },
    {
     "data": {
      "text/html": [
       "<div>\n",
       "<table border=\"1\" class=\"dataframe\">\n",
       "  <thead>\n",
       "    <tr style=\"text-align: right;\">\n",
       "      <th></th>\n",
       "      <th>count</th>\n",
       "      <th>mean</th>\n",
       "      <th>std</th>\n",
       "      <th>min</th>\n",
       "      <th>25%</th>\n",
       "      <th>50%</th>\n",
       "      <th>75%</th>\n",
       "      <th>max</th>\n",
       "    </tr>\n",
       "  </thead>\n",
       "  <tbody>\n",
       "    <tr>\n",
       "      <th>Total_Value</th>\n",
       "      <td>788754.0</td>\n",
       "      <td>3.723008e+05</td>\n",
       "      <td>265012.677575</td>\n",
       "      <td>10007.000000</td>\n",
       "      <td>139113.000000</td>\n",
       "      <td>326998.500000</td>\n",
       "      <td>558691.500000</td>\n",
       "      <td>2.692346e+06</td>\n",
       "    </tr>\n",
       "    <tr>\n",
       "      <th>Roll_Year</th>\n",
       "      <td>788754.0</td>\n",
       "      <td>4.991572e-13</td>\n",
       "      <td>1.000000</td>\n",
       "      <td>-1.525598</td>\n",
       "      <td>-1.088945</td>\n",
       "      <td>-0.215637</td>\n",
       "      <td>0.657670</td>\n",
       "      <td>1.530977e+00</td>\n",
       "    </tr>\n",
       "    <tr>\n",
       "      <th>Year_Built</th>\n",
       "      <td>788754.0</td>\n",
       "      <td>-1.240400e-14</td>\n",
       "      <td>1.000000</td>\n",
       "      <td>-2.538531</td>\n",
       "      <td>-0.706966</td>\n",
       "      <td>-0.179227</td>\n",
       "      <td>0.783120</td>\n",
       "      <td>2.086945e+00</td>\n",
       "    </tr>\n",
       "    <tr>\n",
       "      <th>Baths</th>\n",
       "      <td>788754.0</td>\n",
       "      <td>1.165847e-16</td>\n",
       "      <td>1.000000</td>\n",
       "      <td>-2.075050</td>\n",
       "      <td>-0.426255</td>\n",
       "      <td>-0.426255</td>\n",
       "      <td>1.222539</td>\n",
       "      <td>2.871333e+00</td>\n",
       "    </tr>\n",
       "    <tr>\n",
       "      <th>Bedrooms</th>\n",
       "      <td>788754.0</td>\n",
       "      <td>-8.339337e-14</td>\n",
       "      <td>1.000000</td>\n",
       "      <td>-0.624328</td>\n",
       "      <td>-0.624328</td>\n",
       "      <td>-0.624328</td>\n",
       "      <td>0.307072</td>\n",
       "      <td>3.101270e+00</td>\n",
       "    </tr>\n",
       "    <tr>\n",
       "      <th>Rooms</th>\n",
       "      <td>788754.0</td>\n",
       "      <td>-2.988114e-14</td>\n",
       "      <td>1.000000</td>\n",
       "      <td>-2.451147</td>\n",
       "      <td>-0.351623</td>\n",
       "      <td>0.173258</td>\n",
       "      <td>0.698139</td>\n",
       "      <td>1.747901e+00</td>\n",
       "    </tr>\n",
       "    <tr>\n",
       "      <th>Lot_Depth</th>\n",
       "      <td>788754.0</td>\n",
       "      <td>-3.397216e-14</td>\n",
       "      <td>1.000000</td>\n",
       "      <td>-0.358680</td>\n",
       "      <td>-0.358680</td>\n",
       "      <td>-0.358680</td>\n",
       "      <td>-0.358680</td>\n",
       "      <td>4.544420e+00</td>\n",
       "    </tr>\n",
       "    <tr>\n",
       "      <th>Lot_Frontage</th>\n",
       "      <td>788754.0</td>\n",
       "      <td>-9.795389e-15</td>\n",
       "      <td>1.000000</td>\n",
       "      <td>-0.025309</td>\n",
       "      <td>-0.025309</td>\n",
       "      <td>-0.025309</td>\n",
       "      <td>-0.025309</td>\n",
       "      <td>1.179821e+02</td>\n",
       "    </tr>\n",
       "    <tr>\n",
       "      <th>Sqft</th>\n",
       "      <td>788754.0</td>\n",
       "      <td>-3.404775e-15</td>\n",
       "      <td>1.000000</td>\n",
       "      <td>-3.231499</td>\n",
       "      <td>-0.653783</td>\n",
       "      <td>-0.045857</td>\n",
       "      <td>0.617819</td>\n",
       "      <td>2.754854e+00</td>\n",
       "    </tr>\n",
       "    <tr>\n",
       "      <th>Basement_Area</th>\n",
       "      <td>788754.0</td>\n",
       "      <td>-8.635464e-15</td>\n",
       "      <td>1.000000</td>\n",
       "      <td>-0.219910</td>\n",
       "      <td>-0.219910</td>\n",
       "      <td>-0.219910</td>\n",
       "      <td>-0.219910</td>\n",
       "      <td>6.484087e+00</td>\n",
       "    </tr>\n",
       "    <tr>\n",
       "      <th>Lot_Area</th>\n",
       "      <td>788754.0</td>\n",
       "      <td>-3.330470e-14</td>\n",
       "      <td>1.000000</td>\n",
       "      <td>-1.312803</td>\n",
       "      <td>-1.312803</td>\n",
       "      <td>0.427107</td>\n",
       "      <td>0.862278</td>\n",
       "      <td>1.621117e+00</td>\n",
       "    </tr>\n",
       "    <tr>\n",
       "      <th>Stories</th>\n",
       "      <td>788754.0</td>\n",
       "      <td>-2.155307e-14</td>\n",
       "      <td>1.000000</td>\n",
       "      <td>-1.642897</td>\n",
       "      <td>0.103391</td>\n",
       "      <td>0.103391</td>\n",
       "      <td>0.103391</td>\n",
       "      <td>1.849679e+00</td>\n",
       "    </tr>\n",
       "    <tr>\n",
       "      <th>Ownership_Percent</th>\n",
       "      <td>788754.0</td>\n",
       "      <td>-2.834673e-13</td>\n",
       "      <td>1.000000</td>\n",
       "      <td>-4.223370</td>\n",
       "      <td>0.472687</td>\n",
       "      <td>0.472687</td>\n",
       "      <td>0.472687</td>\n",
       "      <td>4.726873e-01</td>\n",
       "    </tr>\n",
       "  </tbody>\n",
       "</table>\n",
       "</div>"
      ],
      "text/plain": [
       "                      count          mean            std           min  \\\n",
       "Total_Value        788754.0  3.723008e+05  265012.677575  10007.000000   \n",
       "Roll_Year          788754.0  4.991572e-13       1.000000     -1.525598   \n",
       "Year_Built         788754.0 -1.240400e-14       1.000000     -2.538531   \n",
       "Baths              788754.0  1.165847e-16       1.000000     -2.075050   \n",
       "Bedrooms           788754.0 -8.339337e-14       1.000000     -0.624328   \n",
       "Rooms              788754.0 -2.988114e-14       1.000000     -2.451147   \n",
       "Lot_Depth          788754.0 -3.397216e-14       1.000000     -0.358680   \n",
       "Lot_Frontage       788754.0 -9.795389e-15       1.000000     -0.025309   \n",
       "Sqft               788754.0 -3.404775e-15       1.000000     -3.231499   \n",
       "Basement_Area      788754.0 -8.635464e-15       1.000000     -0.219910   \n",
       "Lot_Area           788754.0 -3.330470e-14       1.000000     -1.312803   \n",
       "Stories            788754.0 -2.155307e-14       1.000000     -1.642897   \n",
       "Ownership_Percent  788754.0 -2.834673e-13       1.000000     -4.223370   \n",
       "\n",
       "                             25%            50%            75%           max  \n",
       "Total_Value        139113.000000  326998.500000  558691.500000  2.692346e+06  \n",
       "Roll_Year              -1.088945      -0.215637       0.657670  1.530977e+00  \n",
       "Year_Built             -0.706966      -0.179227       0.783120  2.086945e+00  \n",
       "Baths                  -0.426255      -0.426255       1.222539  2.871333e+00  \n",
       "Bedrooms               -0.624328      -0.624328       0.307072  3.101270e+00  \n",
       "Rooms                  -0.351623       0.173258       0.698139  1.747901e+00  \n",
       "Lot_Depth              -0.358680      -0.358680      -0.358680  4.544420e+00  \n",
       "Lot_Frontage           -0.025309      -0.025309      -0.025309  1.179821e+02  \n",
       "Sqft                   -0.653783      -0.045857       0.617819  2.754854e+00  \n",
       "Basement_Area          -0.219910      -0.219910      -0.219910  6.484087e+00  \n",
       "Lot_Area               -1.312803       0.427107       0.862278  1.621117e+00  \n",
       "Stories                 0.103391       0.103391       0.103391  1.849679e+00  \n",
       "Ownership_Percent       0.472687       0.472687       0.472687  4.726873e-01  "
      ]
     },
     "execution_count": 18,
     "metadata": {},
     "output_type": "execute_result"
    }
   ],
   "source": [
    "# For the regularization models it is important to standardize the variables.\n",
    "\n",
    "Xlist = ['Total_Value','Roll_Year','Year_Built','Baths','Bedrooms','Rooms','Lot_Depth','Lot_Frontage', 'Sqft','Basement_Area','Lot_Area','Stories','Ownership_Percent']\n",
    "X = assess_df[Xlist]\n",
    "Xlist = Xlist[1:]\n",
    "Xs = X\n",
    "Xs.ix[:, Xlist] = (Xs.ix[:, Xlist] - Xs.ix[:, Xlist].mean()) / Xs.ix[:, Xlist].std()\n",
    "print Xs.shape\n",
    "\n",
    "# Use some string adding and joining to make the simple model formula:\n",
    "\n",
    "formula_simple = ' + '.join(Xlist) + ' -1'\n",
    "formulae = 'Total_Value ~ '+ formula_simple\n",
    "print formulae\n",
    "print type(formulae)\n",
    "Xs.describe().T\n",
    "\n",
    "\n"
   ]
  },
  {
   "cell_type": "code",
   "execution_count": 19,
   "metadata": {
    "collapsed": false
   },
   "outputs": [
    {
     "data": {
      "text/html": [
       "<div>\n",
       "<table border=\"1\" class=\"dataframe\">\n",
       "  <thead>\n",
       "    <tr style=\"text-align: right;\">\n",
       "      <th></th>\n",
       "      <th>Total_Value</th>\n",
       "      <th>Roll_Year</th>\n",
       "      <th>Year_Built</th>\n",
       "      <th>Baths</th>\n",
       "      <th>Bedrooms</th>\n",
       "      <th>Rooms</th>\n",
       "      <th>Lot_Depth</th>\n",
       "      <th>Lot_Frontage</th>\n",
       "      <th>Sqft</th>\n",
       "      <th>Basement_Area</th>\n",
       "      <th>Lot_Area</th>\n",
       "      <th>Stories</th>\n",
       "      <th>Ownership_Percent</th>\n",
       "    </tr>\n",
       "  </thead>\n",
       "  <tbody>\n",
       "    <tr>\n",
       "      <th>69</th>\n",
       "      <td>920701.0</td>\n",
       "      <td>-1.525598</td>\n",
       "      <td>1.652337</td>\n",
       "      <td>-2.07505</td>\n",
       "      <td>-0.624328</td>\n",
       "      <td>-2.451147</td>\n",
       "      <td>-0.35868</td>\n",
       "      <td>-0.025309</td>\n",
       "      <td>0.702770</td>\n",
       "      <td>-0.21991</td>\n",
       "      <td>-1.312803</td>\n",
       "      <td>-1.642897</td>\n",
       "      <td>0.472687</td>\n",
       "    </tr>\n",
       "    <tr>\n",
       "      <th>71</th>\n",
       "      <td>1026966.0</td>\n",
       "      <td>-1.525598</td>\n",
       "      <td>1.652337</td>\n",
       "      <td>-2.07505</td>\n",
       "      <td>-0.624328</td>\n",
       "      <td>-2.451147</td>\n",
       "      <td>-0.35868</td>\n",
       "      <td>-0.025309</td>\n",
       "      <td>0.070950</td>\n",
       "      <td>-0.21991</td>\n",
       "      <td>-1.312803</td>\n",
       "      <td>-1.642897</td>\n",
       "      <td>0.472687</td>\n",
       "    </tr>\n",
       "    <tr>\n",
       "      <th>72</th>\n",
       "      <td>437092.0</td>\n",
       "      <td>-1.525598</td>\n",
       "      <td>1.652337</td>\n",
       "      <td>-2.07505</td>\n",
       "      <td>-0.624328</td>\n",
       "      <td>-2.451147</td>\n",
       "      <td>-0.35868</td>\n",
       "      <td>-0.025309</td>\n",
       "      <td>1.748722</td>\n",
       "      <td>-0.21991</td>\n",
       "      <td>-1.312803</td>\n",
       "      <td>-1.642897</td>\n",
       "      <td>0.472687</td>\n",
       "    </tr>\n",
       "    <tr>\n",
       "      <th>73</th>\n",
       "      <td>992374.0</td>\n",
       "      <td>-1.525598</td>\n",
       "      <td>1.652337</td>\n",
       "      <td>-2.07505</td>\n",
       "      <td>-0.624328</td>\n",
       "      <td>-2.451147</td>\n",
       "      <td>-0.35868</td>\n",
       "      <td>-0.025309</td>\n",
       "      <td>1.629261</td>\n",
       "      <td>-0.21991</td>\n",
       "      <td>-1.312803</td>\n",
       "      <td>-1.642897</td>\n",
       "      <td>0.472687</td>\n",
       "    </tr>\n",
       "    <tr>\n",
       "      <th>74</th>\n",
       "      <td>1180927.0</td>\n",
       "      <td>-1.525598</td>\n",
       "      <td>1.652337</td>\n",
       "      <td>-2.07505</td>\n",
       "      <td>-0.624328</td>\n",
       "      <td>-2.451147</td>\n",
       "      <td>-0.35868</td>\n",
       "      <td>-0.025309</td>\n",
       "      <td>1.236365</td>\n",
       "      <td>-0.21991</td>\n",
       "      <td>-1.312803</td>\n",
       "      <td>-1.642897</td>\n",
       "      <td>0.472687</td>\n",
       "    </tr>\n",
       "  </tbody>\n",
       "</table>\n",
       "</div>"
      ],
      "text/plain": [
       "    Total_Value  Roll_Year  Year_Built    Baths  Bedrooms     Rooms  \\\n",
       "69     920701.0  -1.525598    1.652337 -2.07505 -0.624328 -2.451147   \n",
       "71    1026966.0  -1.525598    1.652337 -2.07505 -0.624328 -2.451147   \n",
       "72     437092.0  -1.525598    1.652337 -2.07505 -0.624328 -2.451147   \n",
       "73     992374.0  -1.525598    1.652337 -2.07505 -0.624328 -2.451147   \n",
       "74    1180927.0  -1.525598    1.652337 -2.07505 -0.624328 -2.451147   \n",
       "\n",
       "    Lot_Depth  Lot_Frontage      Sqft  Basement_Area  Lot_Area   Stories  \\\n",
       "69   -0.35868     -0.025309  0.702770       -0.21991 -1.312803 -1.642897   \n",
       "71   -0.35868     -0.025309  0.070950       -0.21991 -1.312803 -1.642897   \n",
       "72   -0.35868     -0.025309  1.748722       -0.21991 -1.312803 -1.642897   \n",
       "73   -0.35868     -0.025309  1.629261       -0.21991 -1.312803 -1.642897   \n",
       "74   -0.35868     -0.025309  1.236365       -0.21991 -1.312803 -1.642897   \n",
       "\n",
       "    Ownership_Percent  \n",
       "69           0.472687  \n",
       "71           0.472687  \n",
       "72           0.472687  \n",
       "73           0.472687  \n",
       "74           0.472687  "
      ]
     },
     "execution_count": 19,
     "metadata": {},
     "output_type": "execute_result"
    }
   ],
   "source": [
    "Xs.head()"
   ]
  },
  {
   "cell_type": "code",
   "execution_count": 20,
   "metadata": {
    "collapsed": true
   },
   "outputs": [],
   "source": [
    "# scaler = StandardScaler()\n",
    "# X_s = scaler.fit_transform(X)\n",
    "\n",
    "# #Other normalization code that I want to keep sight of\n",
    "\n",
    "# # select all the columns that are not the target\n",
    "# nc = [x for x in wine.columns if x != target]\n",
    "\n",
    "# # Using the .ix indexing syntax, subtract mean and divide by standard deviation for all predictor columns.\n",
    "# #\n",
    "# # Remember: .ix indexing notation works like: data.ix[row_indices, column_indices]\n",
    "# # .ix is able to take a mix of boolean, number, or string specifications, which is useful.\n",
    "# #\n",
    "# # By subtracting the mean and dividing by the standard devation, the normalization procedure is putting \n",
    "# # all of the predictor variables on the same scale (distributions with mean == 0 and standard deviation == 1)\n",
    "# wine.ix[:, nc] = (wine.ix[:, nc] - wine.ix[:, nc].mean()) / wine.ix[:, nc].std()"
   ]
  },
  {
   "cell_type": "code",
   "execution_count": null,
   "metadata": {
    "collapsed": false
   },
   "outputs": [],
   "source": [
    "           "
   ]
  },
  {
   "cell_type": "code",
   "execution_count": 21,
   "metadata": {
    "collapsed": false
   },
   "outputs": [
    {
     "name": "stdout",
     "output_type": "stream",
     "text": [
      "R^2  \n",
      "0.19723 \n",
      "\n",
      "[[ 14393.55269899  -3240.23524451  14473.51858615  48927.14145885\n",
      "  -47430.34370405   4133.41090249   3419.45497577  61164.7107712\n",
      "   -2735.63425409 -58540.76017432 -17929.76648488 -28358.90950438]]\n"
     ]
    }
   ],
   "source": [
    "#4 Set up the regression model using Patsy\n",
    "y,X = patsy.dmatrices(formulae,data=Xs,return_type=\"dataframe\")\n",
    "lm = LinearRegression()\n",
    "model = lm.fit(X,y)\n",
    "scores = model.score(X,y)\n",
    "yhats = model.predict(X)\n",
    "print \"R^2  \\n%.5f \\n\" % scores\n",
    "print model.coef_"
   ]
  },
  {
   "cell_type": "code",
   "execution_count": 22,
   "metadata": {
    "collapsed": false
   },
   "outputs": [
    {
     "data": {
      "text/plain": [
       "(788754, 1)"
      ]
     },
     "execution_count": 22,
     "metadata": {},
     "output_type": "execute_result"
    }
   ],
   "source": [
    "y.shape"
   ]
  },
  {
   "cell_type": "code",
   "execution_count": 23,
   "metadata": {
    "collapsed": false
   },
   "outputs": [
    {
     "name": "stdout",
     "output_type": "stream",
     "text": [
      "Train R^2:  0.197223000143\n",
      "Test Score: 0.200743196678\n"
     ]
    }
   ],
   "source": [
    "#Train / test model\n",
    "#Expectation:  no suprise correlation\n",
    "\n",
    "X_train, X_test, y_train, y_test = train_test_split(X, y, test_size=0.20)\n",
    "lm = linear_model.LinearRegression()\n",
    "model = lm.fit(X_train, y_train)\n",
    "scores = lm.score(X,y)\n",
    "print \"Train R^2: \", scores\n",
    "predictions = lm.predict(X_test)\n",
    "print \"Test Score:\", model.score(X_test, y_test)  "
   ]
  },
  {
   "cell_type": "code",
   "execution_count": 24,
   "metadata": {
    "collapsed": false
   },
   "outputs": [
    {
     "name": "stdout",
     "output_type": "stream",
     "text": [
      "Train R^2:  0.197220512968\n",
      "Test Score: 0.198897449759\n"
     ]
    }
   ],
   "source": [
    "#Train / test model\n",
    "#Expectation:  no suprise correlation\n",
    "\n",
    "X_train, X_test, y_train, y_test = train_test_split(X, y, test_size=0.40)\n",
    "lm = linear_model.LinearRegression()\n",
    "model = lm.fit(X_train, y_train)\n",
    "scores = lm.score(X,y)\n",
    "print \"Train R^2: \", scores\n",
    "predictions = lm.predict(X_test)\n",
    "print \"Test Score:\", model.score(X_test, y_test)  "
   ]
  },
  {
   "cell_type": "code",
   "execution_count": 25,
   "metadata": {
    "collapsed": false
   },
   "outputs": [
    {
     "name": "stdout",
     "output_type": "stream",
     "text": [
      "Cross-validated scores: [ 0.1673569   0.18851287  0.1742989   0.20144278  0.21485576  0.20237009]\n"
     ]
    }
   ],
   "source": [
    "#Cross Validation / 6-fold\n",
    "# Before we calc, what do we expect?   Given the looseness of the fit it is quit likely we will see some lower and possibly negative R quared\n",
    "\n",
    "# Perform 6-fold cross validation\n",
    "scores = cross_val_score(lm, X, y, cv=6)\n",
    "print \"Cross-validated scores:\", scores\n",
    "\n",
    "# # Make cross validated predictions\n",
    "predictions = cross_val_predict(lm, X, y, cv=6)\n"
   ]
  },
  {
   "cell_type": "code",
   "execution_count": 26,
   "metadata": {
    "collapsed": false
   },
   "outputs": [
    {
     "name": "stdout",
     "output_type": "stream",
     "text": [
      "853.167852417\n"
     ]
    }
   ],
   "source": [
    "# To begin with the regularization, start with Ridge CV to determine an optimal startaing alpha\n",
    "# Ridge First\n",
    "ridge_alphas = np.logspace(0, 5, 30)\n",
    "\n",
    "optimal_ridge = RidgeCV(alphas=ridge_alphas, cv=10)\n",
    "optimal_ridge.fit(X, y)\n",
    "\n",
    "print optimal_ridge.alpha_"
   ]
  },
  {
   "cell_type": "code",
   "execution_count": 27,
   "metadata": {
    "collapsed": false
   },
   "outputs": [
    {
     "name": "stdout",
     "output_type": "stream",
     "text": [
      "[ 0.17193564  0.18029207  0.15592685  0.20534999  0.16231004  0.21028291\n",
      "  0.21501198  0.16949086  0.22513921  0.19495879]\n",
      "0.18906983353\n"
     ]
    }
   ],
   "source": [
    "#With the optimal alpha let's check out the ridge model\n",
    "\n",
    "ridge = Ridge(alpha=optimal_ridge.alpha_)\n",
    "\n",
    "ridge_scores = cross_val_score(ridge, X, y, cv=10)\n",
    "\n",
    "print ridge_scores\n",
    "print np.mean(ridge_scores)"
   ]
  },
  {
   "cell_type": "code",
   "execution_count": 28,
   "metadata": {
    "collapsed": false
   },
   "outputs": [
    {
     "name": "stderr",
     "output_type": "stream",
     "text": [
      "........................................................................................................................................................................................................................................................................................................................................................................................................................................................................................................................................................................................................................................................................................................................................................................................................................................................................................................................................................................................................................................................................................................................................................................................................................................................................................................................................................................................................................................................................................................................................................................................................................................................................................................................................................................................................................................................................................................................................................................................................................................................................................................................................................................................................................................................................................................................................................................................................................................................................................................................................................................................................................................................................................................................................................................................................................................................................................................................................................................................................................................................................................................................................................................................................................................................................................................................................................................................................................................................................................................................................................................................................................................................................................................................................................................................................................................................................................................................................................................................................................................................................................................................................................................................................................................................................................................................................................................................................................................................................................................................................................................................................................................................................................................................................................................................................................................................................................................................................................................................................................................................................................................................................................................................................[Parallel(n_jobs=1)]: Done  10 out of  10 | elapsed:   21.8s finished\n"
     ]
    },
    {
     "name": "stdout",
     "output_type": "stream",
     "text": [
      "83.8480881107\n"
     ]
    }
   ],
   "source": [
    "#Lasso\n",
    "\n",
    "y = np.ravel(y)\n",
    "optimal_lasso = LassoCV(n_alphas=500, cv=10, verbose=1)\n",
    "optimal_lasso.fit(X, y)\n",
    "\n",
    "print optimal_lasso.alpha_\n"
   ]
  },
  {
   "cell_type": "code",
   "execution_count": 29,
   "metadata": {
    "collapsed": false
   },
   "outputs": [
    {
     "name": "stdout",
     "output_type": "stream",
     "text": [
      "[ 0.17194701  0.18034563  0.15588344  0.2053614   0.16230888  0.21026825\n",
      "  0.21497471  0.16948391  0.22512045  0.19497778]\n",
      "0.189067146755\n"
     ]
    }
   ],
   "source": [
    "#Review the lasso results\n",
    "\n",
    "lasso = Lasso(alpha=optimal_lasso.alpha_)\n",
    "\n",
    "lasso_scores = cross_val_score(lasso, X, y, cv=10)\n",
    "\n",
    "print lasso_scores\n",
    "print np.mean(lasso_scores)"
   ]
  },
  {
   "cell_type": "code",
   "execution_count": 30,
   "metadata": {
    "collapsed": false
   },
   "outputs": [
    {
     "name": "stderr",
     "output_type": "stream",
     "text": [
      "............................................................................................................................................................................................................................................................................................................................................................................................................................................................................................................................................................................................................................................................................................................................................................................................................................................................................................................................................................................................................................................................................................................................................................................................................................................................................................................................................................................................................................................................................................................................................................................................................................................................................................................................................................................................................................................................................................................................................................................................................................................................................................................................................................................................................................................................................................................................................................................................................................................................................................................................................................................................................................................................................................................................................................................................................................................................................................................................................................................................................................................................................................................................................................................................................................................................................................................................................................................................................................................................................................................................................................................................................................................................................................................................................................................................................................................................................................................................................................................................................................................................................................................................................................................................................................................................................................................................................................................................................................................................................................................................................................................................................................................................................................................................................................................................................................................................................................................................................................................................................................................................................................................................................................................................................................................................................................................................................................................................................................................................................................................................................................................................................................................................................................................................................................................................................................................................................................................................................................................................................................................................................................................................................................................................................................................................................................................................................................................................................................................................................................................................................................................................................................................................................................................................................................................................................................................................................................................................................................................................................................................................................................................................................................................................................................................................................................................................................................................................................................................................................................................................................................................................................................................................................................................................................................................................................[Parallel(n_jobs=1)]: Done  25 out of  25 | elapsed:  1.0min finished\n"
     ]
    },
    {
     "name": "stdout",
     "output_type": "stream",
     "text": [
      "83.8480881107\n",
      "1.0\n"
     ]
    }
   ],
   "source": [
    "l1_ratios = np.linspace(0.01, 1.0, 5)\n",
    "\n",
    "optimal_enet = ElasticNetCV(l1_ratio=l1_ratios, n_alphas=300, cv=5,\n",
    "                            verbose=1)\n",
    "optimal_enet.fit(X, y)\n",
    "\n",
    "print optimal_enet.alpha_\n",
    "print optimal_enet.l1_ratio_"
   ]
  },
  {
   "cell_type": "code",
   "execution_count": 31,
   "metadata": {
    "collapsed": false
   },
   "outputs": [],
   "source": [
    "#\"L1 -----> Lasso\""
   ]
  },
  {
   "cell_type": "code",
   "execution_count": null,
   "metadata": {
    "collapsed": true
   },
   "outputs": [],
   "source": []
  },
  {
   "cell_type": "markdown",
   "metadata": {},
   "source": [
    "<img src=\"http://imgur.com/l5NasQj.png\" style=\"float: left; margin: 25px 15px 0px 0px; height: 25px\">\n",
    "\n",
    "### 4. Conduct another, different analysis and report on it\n",
    "\n",
    "---\n",
    "\n",
    "1. Combining multiple sources of data (csv files) is required.\n",
    "- Perform EDA and cleaning on relevant data.\n",
    "- Construct and compare different regression models with cross-validation.\n",
    "- Plot descriptive visuals you think are useful for understanding the data.\n",
    "- Report on your findings.\n",
    "\n",
    "This section is just another analysis like the first sections, but is more open-ended in what models you decide to build and why. Don't feel obligated to try every out every regularized regression model (though it doesn't hurt). \n"
   ]
  },
  {
   "cell_type": "code",
   "execution_count": 32,
   "metadata": {
    "collapsed": false
   },
   "outputs": [
    {
     "name": "stdout",
     "output_type": "stream",
     "text": [
      "object\n",
      "(8, 10)\n"
     ]
    },
    {
     "data": {
      "text/html": [
       "<div>\n",
       "<table border=\"1\" class=\"dataframe\">\n",
       "  <thead>\n",
       "    <tr style=\"text-align: right;\">\n",
       "      <th></th>\n",
       "      <th>ParkID</th>\n",
       "      <th>PSA</th>\n",
       "      <th>Park</th>\n",
       "      <th>FQ</th>\n",
       "      <th>Score</th>\n",
       "      <th>Year</th>\n",
       "      <th>Date</th>\n",
       "      <th>Description</th>\n",
       "      <th>Amount</th>\n",
       "      <th>Type</th>\n",
       "    </tr>\n",
       "  </thead>\n",
       "  <tbody>\n",
       "    <tr>\n",
       "      <th>3477</th>\n",
       "      <td>117</td>\n",
       "      <td>PSA2</td>\n",
       "      <td>Alamo Squa</td>\n",
       "      <td>FY12Q1</td>\n",
       "      <td>0.987</td>\n",
       "      <td>2012</td>\n",
       "      <td>01/10/2012 12:00:00 AM</td>\n",
       "      <td>To support the cost of a comprehensive Alamo S...</td>\n",
       "      <td>4500.00</td>\n",
       "      <td>In-kind</td>\n",
       "    </tr>\n",
       "    <tr>\n",
       "      <th>3659</th>\n",
       "      <td>117</td>\n",
       "      <td>PSA2</td>\n",
       "      <td>Alamo Squa</td>\n",
       "      <td>FY12Q2</td>\n",
       "      <td>1.000</td>\n",
       "      <td>2012</td>\n",
       "      <td>01/10/2012 12:00:00 AM</td>\n",
       "      <td>To support the cost of a comprehensive Alamo S...</td>\n",
       "      <td>4500.00</td>\n",
       "      <td>In-kind</td>\n",
       "    </tr>\n",
       "    <tr>\n",
       "      <th>3853</th>\n",
       "      <td>117</td>\n",
       "      <td>PSA2</td>\n",
       "      <td>Alamo Squa</td>\n",
       "      <td>FY12Q3</td>\n",
       "      <td>0.966</td>\n",
       "      <td>2012</td>\n",
       "      <td>01/10/2012 12:00:00 AM</td>\n",
       "      <td>To support the cost of a comprehensive Alamo S...</td>\n",
       "      <td>4500.00</td>\n",
       "      <td>In-kind</td>\n",
       "    </tr>\n",
       "    <tr>\n",
       "      <th>3949</th>\n",
       "      <td>117</td>\n",
       "      <td>PSA2</td>\n",
       "      <td>Alamo Squa</td>\n",
       "      <td>FY12Q4</td>\n",
       "      <td>0.954</td>\n",
       "      <td>2012</td>\n",
       "      <td>01/10/2012 12:00:00 AM</td>\n",
       "      <td>To support the cost of a comprehensive Alamo S...</td>\n",
       "      <td>4500.00</td>\n",
       "      <td>In-kind</td>\n",
       "    </tr>\n",
       "    <tr>\n",
       "      <th>4744</th>\n",
       "      <td>155</td>\n",
       "      <td>PSA1</td>\n",
       "      <td>Muriel Lef</td>\n",
       "      <td>FY14Q1</td>\n",
       "      <td>0.900</td>\n",
       "      <td>2014</td>\n",
       "      <td>04/01/2014 12:00:00 AM</td>\n",
       "      <td>To support new plantings during Muriel Leff Mi...</td>\n",
       "      <td>804.45</td>\n",
       "      <td>Cash</td>\n",
       "    </tr>\n",
       "    <tr>\n",
       "      <th>4967</th>\n",
       "      <td>155</td>\n",
       "      <td>PSA1</td>\n",
       "      <td>Muriel Lef</td>\n",
       "      <td>FY14Q2</td>\n",
       "      <td>0.929</td>\n",
       "      <td>2014</td>\n",
       "      <td>04/01/2014 12:00:00 AM</td>\n",
       "      <td>To support new plantings during Muriel Leff Mi...</td>\n",
       "      <td>804.45</td>\n",
       "      <td>Cash</td>\n",
       "    </tr>\n",
       "    <tr>\n",
       "      <th>5247</th>\n",
       "      <td>155</td>\n",
       "      <td>PSA1</td>\n",
       "      <td>Muriel Lef</td>\n",
       "      <td>FY14Q3</td>\n",
       "      <td>1.000</td>\n",
       "      <td>2014</td>\n",
       "      <td>04/01/2014 12:00:00 AM</td>\n",
       "      <td>To support new plantings during Muriel Leff Mi...</td>\n",
       "      <td>804.45</td>\n",
       "      <td>Cash</td>\n",
       "    </tr>\n",
       "    <tr>\n",
       "      <th>5348</th>\n",
       "      <td>155</td>\n",
       "      <td>PSA1</td>\n",
       "      <td>Muriel Lef</td>\n",
       "      <td>FY14Q4</td>\n",
       "      <td>1.000</td>\n",
       "      <td>2014</td>\n",
       "      <td>04/01/2014 12:00:00 AM</td>\n",
       "      <td>To support new plantings during Muriel Leff Mi...</td>\n",
       "      <td>804.45</td>\n",
       "      <td>Cash</td>\n",
       "    </tr>\n",
       "  </tbody>\n",
       "</table>\n",
       "</div>"
      ],
      "text/plain": [
       "      ParkID   PSA        Park      FQ  Score  Year                    Date  \\\n",
       "3477     117  PSA2  Alamo Squa  FY12Q1  0.987  2012  01/10/2012 12:00:00 AM   \n",
       "3659     117  PSA2  Alamo Squa  FY12Q2  1.000  2012  01/10/2012 12:00:00 AM   \n",
       "3853     117  PSA2  Alamo Squa  FY12Q3  0.966  2012  01/10/2012 12:00:00 AM   \n",
       "3949     117  PSA2  Alamo Squa  FY12Q4  0.954  2012  01/10/2012 12:00:00 AM   \n",
       "4744     155  PSA1  Muriel Lef  FY14Q1  0.900  2014  04/01/2014 12:00:00 AM   \n",
       "4967     155  PSA1  Muriel Lef  FY14Q2  0.929  2014  04/01/2014 12:00:00 AM   \n",
       "5247     155  PSA1  Muriel Lef  FY14Q3  1.000  2014  04/01/2014 12:00:00 AM   \n",
       "5348     155  PSA1  Muriel Lef  FY14Q4  1.000  2014  04/01/2014 12:00:00 AM   \n",
       "\n",
       "                                            Description   Amount     Type  \n",
       "3477  To support the cost of a comprehensive Alamo S...  4500.00  In-kind  \n",
       "3659  To support the cost of a comprehensive Alamo S...  4500.00  In-kind  \n",
       "3853  To support the cost of a comprehensive Alamo S...  4500.00  In-kind  \n",
       "3949  To support the cost of a comprehensive Alamo S...  4500.00  In-kind  \n",
       "4744  To support new plantings during Muriel Leff Mi...   804.45     Cash  \n",
       "4967  To support new plantings during Muriel Leff Mi...   804.45     Cash  \n",
       "5247  To support new plantings during Muriel Leff Mi...   804.45     Cash  \n",
       "5348  To support new plantings during Muriel Leff Mi...   804.45     Cash  "
      ]
     },
     "execution_count": 32,
     "metadata": {},
     "output_type": "execute_result"
    }
   ],
   "source": [
    "pathr = '/Users/paulmartin/Desktop/DSI-SF-2-GitPaulM/datasets/san_francisco/san_francisco/parks/park_scores.csv'\n",
    "pathd = '/Users/paulmartin/Desktop/DSI-SF-2-GitPaulM/datasets/san_francisco/san_francisco/parks/park_donations.csv'\n",
    "park_ratings = pd.read_csv(pathr)\n",
    "park_donations = pd.read_csv(pathd)\n",
    "\n",
    "park_donations.rename(columns= {'Account Name':'Park','Close Date':'Date'},inplace = True)\n",
    "park_donations['Amount'] = park_donations['Amount'].map(lambda x: float(x.replace('$','')))\n",
    "park_donations['Park'] =park_donations['Park'].map(lambda x: x[0:10])\n",
    "park_donations['Year'] = park_donations['Date'].map(lambda x: int(x[6:10]))\n",
    "park_ratings['Year'] = park_ratings['FQ'].map(lambda x: int(\"20\"+x[2:4]))\n",
    "park_ratings['Park'] =park_ratings['Park'].map(lambda x: x[0:10])\n",
    "\n",
    "s = pd.merge(park_ratings, park_donations, on=['Park','Year'], how='left')\n",
    "print park_donations['Date'].dtype\n",
    "park_ratings.shape\n",
    "#s1 = pd.merge(df1, df2, how='left', on=['Year', 'Week', 'Colour'])\n",
    "s = s[s['Amount'].notnull()]\n",
    "s.describe()\n",
    "print s.shape\n",
    "s"
   ]
  },
  {
   "cell_type": "code",
   "execution_count": 33,
   "metadata": {
    "collapsed": true
   },
   "outputs": [],
   "source": [
    "# Unsuccesful -- insufficient data to join and draw a conclusion\n",
    "\n",
    "#Will look at the zillow data and see if dated data can help predict the future.\n",
    "\n"
   ]
  },
  {
   "cell_type": "code",
   "execution_count": 34,
   "metadata": {
    "collapsed": false
   },
   "outputs": [
    {
     "data": {
      "text/plain": [
       "'Yr2016 ~ Yr1996+Yr1997+Yr1998+Yr1999+Yr2000+Yr2001+Yr2002+Yr2003+Yr2004+Yr2005+Yr2006+Yr2007+Yr2008+Yr2009+Yr2010'"
      ]
     },
     "execution_count": 34,
     "metadata": {},
     "output_type": "execute_result"
    }
   ],
   "source": [
    "pathzillow = '/Users/paulmartin/Desktop/DSI-SF-2-GitPaulM/datasets/san_francisco/san_francisco/zillow_property_sales/zillow_mediansale_persqft_neighborhood.csv'\n",
    "zillow = pd.read_csv(pathzillow)\n",
    "formulae = ''\n",
    "for x in range(1996,2017):\n",
    "    yr = str(x)\n",
    "    current = yr+\"-06\"\n",
    "    newyr = \"Yr\"+yr\n",
    "    zillow.rename(columns= {current:newyr},inplace = True)\n",
    "    zillow[newyr] = zillow[newyr].map(lambda x: float(x)) \n",
    "    zillow = zillow[zillow[newyr].notnull()]    \n",
    "    if x <= 2015:\n",
    "        formulae = formulae  + newyr +\"+\"\n",
    "    else:\n",
    "        formulae = newyr + \" ~ \" + formulae\n",
    "\n",
    "formulae = formulae[:-1]\n",
    "form = formulae[0:113]\n",
    "form"
   ]
  },
  {
   "cell_type": "code",
   "execution_count": 35,
   "metadata": {
    "collapsed": false
   },
   "outputs": [
    {
     "data": {
      "image/png": "[encoded data removed]",
      "text/plain": [
       "<matplotlib.figure.Figure at 0x1223fa550>"
      ]
     },
     "metadata": {
      "image/png": {
       "height": 471,
       "width": 554
      }
     },
     "output_type": "display_data"
    }
   ],
   "source": [
    "# set up patsy and take a look at the correlation matrix\n",
    "y,X = patsy.dmatrices(form,data=zillow,return_type=\"dataframe\")\n",
    "\n",
    "                      \n",
    "corr = X.corr()\n",
    "\n",
    "# Set the default matplotlib figure size:\n",
    "plt.rcParams['figure.figsize']=(9,7)\n",
    "\n",
    "# Generate a mask for the upper triangle (taken from seaborn example gallery)\n",
    "mask = np.zeros_like(corr, dtype=np.bool)\n",
    "mask[np.triu_indices_from(mask)] = True\n",
    "\n",
    "# Plot the heatmap with seaborn.\n",
    "# Assign the matplotlib axis the function returns. This will let us resize the labels.\n",
    "ax = sns.heatmap(corr, mask=mask)\n",
    "\n",
    "# Resize the labels.\n",
    "ax.set_xticklabels(ax.xaxis.get_ticklabels(), fontsize=14)\n",
    "ax.set_yticklabels(ax.yaxis.get_ticklabels(), fontsize=14)\n",
    "\n",
    "# If you put plt.show() at the bottom, it prevents those useless printouts from matplotlib.\n",
    "plt.show()\n",
    "                               \n"
   ]
  },
  {
   "cell_type": "code",
   "execution_count": 36,
   "metadata": {
    "collapsed": false
   },
   "outputs": [
    {
     "name": "stdout",
     "output_type": "stream",
     "text": [
      "R^2  \n",
      "0.97464 \n",
      "\n",
      "[[  0.00000000e+00  -4.15024510e-01  -1.87545952e+00   1.91074138e+00\n",
      "   -6.54770919e-01   7.02376230e-01   7.77323254e-01  -7.04551704e-01\n",
      "    1.73604916e-01  -6.73337334e-02  -1.01977890e-01   1.44675097e-01\n",
      "    3.04391269e-01   3.34506194e-02   4.74035059e-04   8.34004254e-01]]\n"
     ]
    }
   ],
   "source": [
    "#1996 thru 2010 Examining the lag effect of values\n",
    "\n",
    "y,X = patsy.dmatrices(form,data=zillow,return_type=\"dataframe\")\n",
    "lm = LinearRegression()\n",
    "model = lm.fit(X,y)\n",
    "scores = model.score(X,y)\n",
    "yhats = model.predict(X)\n",
    "print \"R^2  \\n%.5f \\n\" % scores\n",
    "print model.coef_"
   ]
  },
  {
   "cell_type": "code",
   "execution_count": 37,
   "metadata": {
    "collapsed": false
   },
   "outputs": [
    {
     "name": "stdout",
     "output_type": "stream",
     "text": [
      "Train R^2:  0.972358809462\n",
      "Test Score: 0.96564862312\n"
     ]
    }
   ],
   "source": [
    "#Train / test model\n",
    "\n",
    "X_train, X_test, y_train, y_test = train_test_split(X, y, test_size=0.40)\n",
    "lm = linear_model.LinearRegression()\n",
    "model = lm.fit(X_train, y_train)\n",
    "scores = lm.score(X,y)\n",
    "print \"Train R^2: \", scores\n",
    "predictions = lm.predict(X_test)\n",
    "print \"Test Score:\", model.score(X_test, y_test)  "
   ]
  },
  {
   "cell_type": "code",
   "execution_count": 38,
   "metadata": {
    "collapsed": false
   },
   "outputs": [
    {
     "name": "stdout",
     "output_type": "stream",
     "text": [
      "Cross-validated scores: [ 0.96806055  0.97245055  0.93336732  0.97972548  0.9568644   0.92163874]\n"
     ]
    }
   ],
   "source": [
    "#Cross Validation / 6-fold\n",
    "# Before we calc, what do we expect?   Given the looseness of the fit it is quit likely we will see some lower and possibly negative R quared\n",
    "\n",
    "# Perform 6-fold cross validation\n",
    "scores = cross_val_score(lm, X, y, cv=6)\n",
    "print \"Cross-validated scores:\", scores\n",
    "\n",
    "# # Make cross validated predictions\n",
    "predictions = cross_val_predict(lm, X, y, cv=6)\n"
   ]
  },
  {
   "cell_type": "code",
   "execution_count": 39,
   "metadata": {
    "collapsed": false
   },
   "outputs": [
    {
     "name": "stdout",
     "output_type": "stream",
     "text": [
      "11758.4955405\n"
     ]
    }
   ],
   "source": [
    "# To begin with the regularization, start with Ridge CV to determine an optimal startaing alpha\n",
    "# Ridge First\n",
    "ridge_alphas = np.logspace(0, 5, 200)\n",
    "\n",
    "optimal_ridge = RidgeCV(alphas=ridge_alphas, cv=10)\n",
    "optimal_ridge.fit(X, y)\n",
    "\n",
    "print optimal_ridge.alpha_"
   ]
  },
  {
   "cell_type": "code",
   "execution_count": 40,
   "metadata": {
    "collapsed": false
   },
   "outputs": [
    {
     "name": "stdout",
     "output_type": "stream",
     "text": [
      "[ 0.94680049  0.97741378  0.99027524  0.96848124  0.92755018  0.99052678\n",
      "  0.96168897  0.93002727  0.98950223  0.88061119]\n",
      "0.956287736189\n"
     ]
    }
   ],
   "source": [
    "#With the optimal alpha let's check out the ridge model\n",
    "\n",
    "ridge = Ridge(alpha=optimal_ridge.alpha_)\n",
    "\n",
    "ridge_scores = cross_val_score(ridge, X, y, cv=10)\n",
    "\n",
    "print ridge_scores\n",
    "print np.mean(ridge_scores)"
   ]
  },
  {
   "cell_type": "markdown",
   "metadata": {},
   "source": [
    "<img src=\"http://imgur.com/xDpSobf.png\" style=\"float: left; margin: 25px 15px 0px 0px; height: 25px\">\n",
    "\n",
    "### 4.2 Ploting GridSearch with Lasso, Ridge, or Elasticnet\n",
    "---\n",
    "1. Using the gridsearch results, plot your score in relation to your parameters.\n",
    "1. Plot the effect on your coefficients given alpha.\n",
    "1. Plot any other parameter change to visualize the impact of any other hyperparameter.\n",
    "\n",
    "It's helpful to understand the impact of parameters used in Gridsearch, and that you are comfortable working with the data that is generated for reporting to explore the results visually."
   ]
  },
  {
   "cell_type": "code",
   "execution_count": null,
   "metadata": {
    "collapsed": true
   },
   "outputs": [],
   "source": []
  },
  {
   "cell_type": "markdown",
   "metadata": {},
   "source": [
    "<img src=\"http://imgur.com/GCAf1UX.png\" style=\"float: left; margin: 25px 15px 0px 0px; height: 25px\">\n",
    "\n",
    "## 5. Bias-variance tradeoff\n",
    "\n",
    "---\n",
    "\n",
    "1. Select San Francisco data of your choice and construct a regularized regression model (this can be data from an earlier analysis if you like). Ideally the model should actually improve across regularization strengths...\n",
    "- Gridsearch the regularization parameters to find the optimal.\n",
    "- Plot the regularization parameter against the cross-validated $R^2$.\n",
    "- Explain how regularization and regularization strength is related to the bias-variance tradeoff.\n"
   ]
  },
  {
   "cell_type": "code",
   "execution_count": null,
   "metadata": {
    "collapsed": true
   },
   "outputs": [],
   "source": []
  },
  {
   "cell_type": "markdown",
   "metadata": {},
   "source": [
    "<img src=\"http://imgur.com/xDpSobf.png\" style=\"float: left; margin: 25px 15px 0px 0px; height: 25px\">\n",
    "\n",
    "### 5.1 Calculate the approximated $\\text{bias}^2$ and variance across regularization strengths.\n",
    "\n",
    "---\n",
    "\n",
    "You can obviously use my code from the bias-variance lab to do this. \n",
    "\n",
    "Plot the bias and variance change _with_ the cross-validated $R^2$. \n",
    "\n",
    "You'll need to scale these values somehow to put them on the same chart (I recommend (MinMaxScaler)[http://scikit-learn.org/stable/modules/generated/sklearn.preprocessing.MinMaxScaler.html] to put $\\text{bias}^2$ and variance on the same scale as cross-validated $R^2$."
   ]
  },
  {
   "cell_type": "code",
   "execution_count": null,
   "metadata": {
    "collapsed": true
   },
   "outputs": [],
   "source": []
  },
  {
   "cell_type": "markdown",
   "metadata": {},
   "source": [
    "<img src=\"http://imgur.com/HNPKfE8.png\" style=\"float: left; margin: 25px 15px 0px 0px; height: 25px\">\n",
    "\n",
    "## 6. Custom regularized regression penalties\n",
    "\n",
    "---\n",
    "\n",
    "The $\\lambda1$ and $\\lambda2$ norm regularization penalties (Lasso and Ridge) are the most commonly used regularization penalties. They have a solid foundation in statistics and evidence of effectiveness. However, these are not the only possible penalties for regression – sometimes new, customized penalties give additional performance and predictive power to models depending on the context.\n",
    "\n",
    "For example, when I worked in neuroscience [we created an effective penalized regression dubbed \"GraphNet\"](http://arxiv.org/abs/1110.4139) that combined the Lasso and Ridge penalties like in Elastic net with a third penalty that rewarded clustering of coefficients according to physical distance in FMRI brain activation data.\n",
    "\n",
    "**Devise of and implement a penalized regression for San Francisco data.** What is your rationale – why would this be useful? How does it perform compared to the standard Ridge, Lasso, and Elastic Net penalties?"
   ]
  },
  {
   "cell_type": "code",
   "execution_count": null,
   "metadata": {
    "collapsed": true
   },
   "outputs": [],
   "source": [
    "\n"
   ]
  }
 ],
 "metadata": {
  "anaconda-cloud": {},
  "kernelspec": {
   "display_name": "Python [dsi]",
   "language": "python",
   "name": "Python [dsi]"
  },
  "language_info": {
   "codemirror_mode": {
    "name": "ipython",
    "version": 2
   },
   "file_extension": ".py",
   "mimetype": "text/x-python",
   "name": "python",
   "nbconvert_exporter": "python",
   "pygments_lexer": "ipython2",
   "version": "2.7.12"
  }
 },
 "nbformat": 4,
 "nbformat_minor": 0
}
