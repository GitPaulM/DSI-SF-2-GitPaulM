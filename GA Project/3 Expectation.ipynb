{
 "cells": [
  {
   "cell_type": "markdown",
   "metadata": {},
   "source": [
    "## Emphasis:\n",
    "    \n",
    "Probability Concepts:\n",
    "\n",
    "- Expectation\n",
    "- Expectation: a Linear Operator\n",
    "- Variance\n",
    "- Variance:  NOT a linear operator\n",
    "    \n",
    "Python Concepts:\n",
    "\n",
    "- numpy array\n",
    "- numpy dot\n",
    "- numpy to panda DataFrame\n",
    "- random choice (random number generator)\n",
    "- scipy.stats mean, variance \n",
    "- scipy.stats specific distributions:  Binominal, Negative Binomial, Poisson, Normal\n",
    "- graphing:"
   ]
  },
  {
   "cell_type": "code",
   "execution_count": 2,
   "metadata": {
    "collapsed": false
   },
   "outputs": [
    {
     "name": "stderr",
     "output_type": "stream",
     "text": [
      "//anaconda/envs/dsi/lib/python2.7/site-packages/matplotlib/font_manager.py:273: UserWarning: Matplotlib is building the font cache using fc-list. This may take a moment.\n",
      "  warnings.warn('Matplotlib is building the font cache using fc-list. This may take a moment.')\n"
     ]
    }
   ],
   "source": [
    "import pandas as pd\n",
    "import numpy as np\n",
    "import scipy.stats as stats\n",
    "import matplotlib.pyplot as plt\n",
    "import seaborn as sns\n",
    "%matplotlib inline"
   ]
  },
  {
   "cell_type": "markdown",
   "metadata": {},
   "source": [
    "Expectation of a Random Variable is really a average of possible outcomes where the outcomes are weighted by the probability of the outcome ocurring."
   ]
  },
  {
   "cell_type": "markdown",
   "metadata": {},
   "source": [
    "Lottery ticket example of \"Expectation\""
   ]
  },
  {
   "cell_type": "code",
   "execution_count": 3,
   "metadata": {
    "collapsed": false
   },
   "outputs": [
    {
     "name": "stdout",
     "output_type": "stream",
     "text": [
      "0.4575030002 6 6\n"
     ]
    }
   ],
   "source": [
    "Payouts = [1,5,10,100,1000, 1000000]\n",
    "Probabilities = [.2,.1,.15,.0075,.000003,.0000000002]\n",
    "\n",
    "#confirm:  Probabilities\n",
    "sumP = sum(Probabilities)\n",
    "print sumP, len(Payouts), len(Probabilities)\n",
    "\n",
    "# Probabilities must sum to 1.  What to do?"
   ]
  },
  {
   "cell_type": "code",
   "execution_count": 4,
   "metadata": {
    "collapsed": false
   },
   "outputs": [
    {
     "name": "stdout",
     "output_type": "stream",
     "text": [
      "1.0 7 7\n"
     ]
    },
    {
     "data": {
      "text/plain": [
       "2.9531999999999998"
      ]
     },
     "execution_count": 4,
     "metadata": {},
     "output_type": "execute_result"
    }
   ],
   "source": [
    "# add Payout Zero Payout to the lists\n",
    "Payouts.append(0)\n",
    "Probabilities.append(1-sumP)\n",
    "\n",
    "sumP = sum(Probabilities)\n",
    "print sumP, len(Payouts), len(Probabilities)\n",
    "Expected_Payout=np.dot(Payouts,Probabilities) #note the dot product of vectors\n",
    "Expected_Payout\n"
   ]
  },
  {
   "cell_type": "markdown",
   "metadata": {},
   "source": [
    "Create a random variable X (die roll) dataframe of outcomes and associated probabilities for illustration"
   ]
  },
  {
   "cell_type": "code",
   "execution_count": 5,
   "metadata": {
    "collapsed": false
   },
   "outputs": [
    {
     "data": {
      "text/html": [
       "<div>\n",
       "<table border=\"1\" class=\"dataframe\">\n",
       "  <thead>\n",
       "    <tr style=\"text-align: right;\">\n",
       "      <th></th>\n",
       "      <th>X</th>\n",
       "      <th>Prob(X)</th>\n",
       "    </tr>\n",
       "  </thead>\n",
       "  <tbody>\n",
       "    <tr>\n",
       "      <th>0</th>\n",
       "      <td>1.0</td>\n",
       "      <td>0.166667</td>\n",
       "    </tr>\n",
       "    <tr>\n",
       "      <th>1</th>\n",
       "      <td>2.0</td>\n",
       "      <td>0.166667</td>\n",
       "    </tr>\n",
       "    <tr>\n",
       "      <th>2</th>\n",
       "      <td>3.0</td>\n",
       "      <td>0.166667</td>\n",
       "    </tr>\n",
       "    <tr>\n",
       "      <th>3</th>\n",
       "      <td>4.0</td>\n",
       "      <td>0.166667</td>\n",
       "    </tr>\n",
       "    <tr>\n",
       "      <th>4</th>\n",
       "      <td>5.0</td>\n",
       "      <td>0.166667</td>\n",
       "    </tr>\n",
       "    <tr>\n",
       "      <th>5</th>\n",
       "      <td>6.0</td>\n",
       "      <td>0.166667</td>\n",
       "    </tr>\n",
       "  </tbody>\n",
       "</table>\n",
       "</div>"
      ],
      "text/plain": [
       "     X   Prob(X)\n",
       "0  1.0  0.166667\n",
       "1  2.0  0.166667\n",
       "2  3.0  0.166667\n",
       "3  4.0  0.166667\n",
       "4  5.0  0.166667\n",
       "5  6.0  0.166667"
      ]
     },
     "execution_count": 5,
     "metadata": {},
     "output_type": "execute_result"
    }
   ],
   "source": [
    "x = [[1,1.0/6,],[2,1.0/6],[3,1.0/6],[4,1.0/6],[5,1.0/6],[6,1.0/6]]\n",
    "c = ['X','Prob(X)']\n",
    "z=np.array(x)\n",
    "df_fair = pd.DataFrame(z,columns=c)\n",
    "df_fair"
   ]
  },
  {
   "cell_type": "markdown",
   "metadata": {},
   "source": [
    "Add a column that shows the outcome multiplied by it's probabability"
   ]
  },
  {
   "cell_type": "code",
   "execution_count": 6,
   "metadata": {
    "collapsed": false
   },
   "outputs": [
    {
     "data": {
      "text/html": [
       "<div>\n",
       "<table border=\"1\" class=\"dataframe\">\n",
       "  <thead>\n",
       "    <tr style=\"text-align: right;\">\n",
       "      <th></th>\n",
       "      <th>X</th>\n",
       "      <th>Prob(X)</th>\n",
       "      <th>X * Prob(X)</th>\n",
       "    </tr>\n",
       "  </thead>\n",
       "  <tbody>\n",
       "    <tr>\n",
       "      <th>0</th>\n",
       "      <td>1.0</td>\n",
       "      <td>0.166667</td>\n",
       "      <td>0.166667</td>\n",
       "    </tr>\n",
       "    <tr>\n",
       "      <th>1</th>\n",
       "      <td>2.0</td>\n",
       "      <td>0.166667</td>\n",
       "      <td>0.333333</td>\n",
       "    </tr>\n",
       "    <tr>\n",
       "      <th>2</th>\n",
       "      <td>3.0</td>\n",
       "      <td>0.166667</td>\n",
       "      <td>0.500000</td>\n",
       "    </tr>\n",
       "    <tr>\n",
       "      <th>3</th>\n",
       "      <td>4.0</td>\n",
       "      <td>0.166667</td>\n",
       "      <td>0.666667</td>\n",
       "    </tr>\n",
       "    <tr>\n",
       "      <th>4</th>\n",
       "      <td>5.0</td>\n",
       "      <td>0.166667</td>\n",
       "      <td>0.833333</td>\n",
       "    </tr>\n",
       "    <tr>\n",
       "      <th>5</th>\n",
       "      <td>6.0</td>\n",
       "      <td>0.166667</td>\n",
       "      <td>1.000000</td>\n",
       "    </tr>\n",
       "  </tbody>\n",
       "</table>\n",
       "</div>"
      ],
      "text/plain": [
       "     X   Prob(X)  X * Prob(X)\n",
       "0  1.0  0.166667     0.166667\n",
       "1  2.0  0.166667     0.333333\n",
       "2  3.0  0.166667     0.500000\n",
       "3  4.0  0.166667     0.666667\n",
       "4  5.0  0.166667     0.833333\n",
       "5  6.0  0.166667     1.000000"
      ]
     },
     "execution_count": 6,
     "metadata": {},
     "output_type": "execute_result"
    }
   ],
   "source": [
    "df_fair = pd.DataFrame(z,columns=c)\n",
    "df_fair[\"X * Prob(X)\"] = df_fair[\"X\"]*df_fair[\"Prob(X)\"]\n",
    "df_fair"
   ]
  },
  {
   "cell_type": "markdown",
   "metadata": {
    "collapsed": false
   },
   "source": [
    "Calculate the expected value from the dataframe"
   ]
  },
  {
   "cell_type": "code",
   "execution_count": 7,
   "metadata": {
    "collapsed": false
   },
   "outputs": [
    {
     "name": "stdout",
     "output_type": "stream",
     "text": [
      "Expected Value(X) aka E[X]:  3.5\n",
      "Alternatively: Expected Value(X) aka E[X]:  3.5\n"
     ]
    }
   ],
   "source": [
    "Expected_X = np.sum(df_fair[\"X * Prob(X)\"])\n",
    "print \"Expected Value(X) aka E[X]: \", Expected_X\n",
    "\n",
    "z = np.dot(df_fair['X'],df_fair['Prob(X)'])\n",
    "print \"Alternatively: Expected Value(X) aka E[X]: \", z\n",
    "\n",
    "#Note just putting this in dataframes for illustration"
   ]
  },
  {
   "cell_type": "markdown",
   "metadata": {},
   "source": [
    "Do the same for an \"unfair\" die i.e. probabilities are not the same pre die face"
   ]
  },
  {
   "cell_type": "code",
   "execution_count": 8,
   "metadata": {
    "collapsed": false
   },
   "outputs": [
    {
     "data": {
      "text/html": [
       "<div>\n",
       "<table border=\"1\" class=\"dataframe\">\n",
       "  <thead>\n",
       "    <tr style=\"text-align: right;\">\n",
       "      <th></th>\n",
       "      <th>Y</th>\n",
       "      <th>Prob(Y)</th>\n",
       "      <th>Y * Prob(Y)</th>\n",
       "    </tr>\n",
       "  </thead>\n",
       "  <tbody>\n",
       "    <tr>\n",
       "      <th>0</th>\n",
       "      <td>1.0</td>\n",
       "      <td>0.083333</td>\n",
       "      <td>0.083333</td>\n",
       "    </tr>\n",
       "    <tr>\n",
       "      <th>1</th>\n",
       "      <td>2.0</td>\n",
       "      <td>0.083333</td>\n",
       "      <td>0.166667</td>\n",
       "    </tr>\n",
       "    <tr>\n",
       "      <th>2</th>\n",
       "      <td>3.0</td>\n",
       "      <td>0.083333</td>\n",
       "      <td>0.250000</td>\n",
       "    </tr>\n",
       "    <tr>\n",
       "      <th>3</th>\n",
       "      <td>4.0</td>\n",
       "      <td>0.083333</td>\n",
       "      <td>0.333333</td>\n",
       "    </tr>\n",
       "    <tr>\n",
       "      <th>4</th>\n",
       "      <td>5.0</td>\n",
       "      <td>0.333333</td>\n",
       "      <td>1.666667</td>\n",
       "    </tr>\n",
       "    <tr>\n",
       "      <th>5</th>\n",
       "      <td>6.0</td>\n",
       "      <td>0.333333</td>\n",
       "      <td>2.000000</td>\n",
       "    </tr>\n",
       "  </tbody>\n",
       "</table>\n",
       "</div>"
      ],
      "text/plain": [
       "     Y   Prob(Y)  Y * Prob(Y)\n",
       "0  1.0  0.083333     0.083333\n",
       "1  2.0  0.083333     0.166667\n",
       "2  3.0  0.083333     0.250000\n",
       "3  4.0  0.083333     0.333333\n",
       "4  5.0  0.333333     1.666667\n",
       "5  6.0  0.333333     2.000000"
      ]
     },
     "execution_count": 8,
     "metadata": {},
     "output_type": "execute_result"
    }
   ],
   "source": [
    "y = [[1,1.0/12,],[2,1.0/12],[3,1.0/12],[4,1.0/12],[5,2.0/6],[6,2.0/6]] #5 and 6, 4 times as likely\n",
    "c = ['Y','Prob(Y)']\n",
    "z=np.array(y)\n",
    "df_unfair = pd.DataFrame(z,columns=c)\n",
    "df_unfair[\"Y * Prob(Y)\"] = df_unfair[\"Y\"]*df_unfair[\"Prob(Y)\"]\n",
    "df_unfair"
   ]
  },
  {
   "cell_type": "code",
   "execution_count": 9,
   "metadata": {
    "collapsed": false
   },
   "outputs": [
    {
     "name": "stdout",
     "output_type": "stream",
     "text": [
      "E[Y] aka mean:  4.5\n",
      "Alternatively: Expected Value(Y) aka E[Y]:  4.5\n"
     ]
    }
   ],
   "source": [
    "Expected_Y = np.sum(df_unfair[\"Y * Prob(Y)\"])\n",
    "print \"E[Y] aka mean: \", Expected_Y\n",
    "z = np.dot(df_unfair['Y'],df_unfair['Prob(Y)'])\n",
    "print \"Alternatively: Expected Value(Y) aka E[Y]: \", z"
   ]
  },
  {
   "cell_type": "markdown",
   "metadata": {},
   "source": [
    "Expectation is a linear operator:   If a and c are scalars, and Z = aY + c, then E[Z] =  E[aY + c] = aE[Y] + c"
   ]
  },
  {
   "cell_type": "code",
   "execution_count": 10,
   "metadata": {
    "collapsed": false
   },
   "outputs": [
    {
     "data": {
      "text/html": [
       "<div>\n",
       "<table border=\"1\" class=\"dataframe\">\n",
       "  <thead>\n",
       "    <tr style=\"text-align: right;\">\n",
       "      <th></th>\n",
       "      <th>Y</th>\n",
       "      <th>Prob(Y)</th>\n",
       "      <th>Y * Prob(Y)</th>\n",
       "      <th>Z = 5Y+12</th>\n",
       "      <th>Prob(Z)</th>\n",
       "      <th>Z * Prob(Z)</th>\n",
       "    </tr>\n",
       "  </thead>\n",
       "  <tbody>\n",
       "    <tr>\n",
       "      <th>0</th>\n",
       "      <td>1.0</td>\n",
       "      <td>0.083333</td>\n",
       "      <td>0.083333</td>\n",
       "      <td>17.0</td>\n",
       "      <td>0.083333</td>\n",
       "      <td>1.416667</td>\n",
       "    </tr>\n",
       "    <tr>\n",
       "      <th>1</th>\n",
       "      <td>2.0</td>\n",
       "      <td>0.083333</td>\n",
       "      <td>0.166667</td>\n",
       "      <td>22.0</td>\n",
       "      <td>0.083333</td>\n",
       "      <td>1.833333</td>\n",
       "    </tr>\n",
       "    <tr>\n",
       "      <th>2</th>\n",
       "      <td>3.0</td>\n",
       "      <td>0.083333</td>\n",
       "      <td>0.250000</td>\n",
       "      <td>27.0</td>\n",
       "      <td>0.083333</td>\n",
       "      <td>2.250000</td>\n",
       "    </tr>\n",
       "    <tr>\n",
       "      <th>3</th>\n",
       "      <td>4.0</td>\n",
       "      <td>0.083333</td>\n",
       "      <td>0.333333</td>\n",
       "      <td>32.0</td>\n",
       "      <td>0.083333</td>\n",
       "      <td>2.666667</td>\n",
       "    </tr>\n",
       "    <tr>\n",
       "      <th>4</th>\n",
       "      <td>5.0</td>\n",
       "      <td>0.333333</td>\n",
       "      <td>1.666667</td>\n",
       "      <td>37.0</td>\n",
       "      <td>0.333333</td>\n",
       "      <td>12.333333</td>\n",
       "    </tr>\n",
       "    <tr>\n",
       "      <th>5</th>\n",
       "      <td>6.0</td>\n",
       "      <td>0.333333</td>\n",
       "      <td>2.000000</td>\n",
       "      <td>42.0</td>\n",
       "      <td>0.333333</td>\n",
       "      <td>14.000000</td>\n",
       "    </tr>\n",
       "  </tbody>\n",
       "</table>\n",
       "</div>"
      ],
      "text/plain": [
       "     Y   Prob(Y)  Y * Prob(Y)  Z = 5Y+12   Prob(Z)  Z * Prob(Z)\n",
       "0  1.0  0.083333     0.083333       17.0  0.083333     1.416667\n",
       "1  2.0  0.083333     0.166667       22.0  0.083333     1.833333\n",
       "2  3.0  0.083333     0.250000       27.0  0.083333     2.250000\n",
       "3  4.0  0.083333     0.333333       32.0  0.083333     2.666667\n",
       "4  5.0  0.333333     1.666667       37.0  0.333333    12.333333\n",
       "5  6.0  0.333333     2.000000       42.0  0.333333    14.000000"
      ]
     },
     "execution_count": 10,
     "metadata": {},
     "output_type": "execute_result"
    }
   ],
   "source": [
    "#What is the Expectation of Z, where Z = 5*Y + 12?   For illustrative purposes only, \n",
    "#here's the long way set up\n",
    "a = 5\n",
    "c = 12\n",
    "\n",
    "df_unfair[\"Z = 5Y+12\"] = df_unfair[\"Y\"]*a + c\n",
    "df_unfair[\"Prob(Z)\"] = df_unfair[\"Prob(Y)\"] #why?\n",
    "df_unfair[\"Z * Prob(Z)\"] = df_unfair[\"Z = 5Y+12\"]*df_unfair[\"Prob(Z)\"]\n",
    "df_unfair\n"
   ]
  },
  {
   "cell_type": "code",
   "execution_count": 11,
   "metadata": {
    "collapsed": false
   },
   "outputs": [
    {
     "name": "stdout",
     "output_type": "stream",
     "text": [
      "long way E[Z]:  34.5\n",
      "using knowledge of linear operators E[Z]:  34.5\n"
     ]
    }
   ],
   "source": [
    "Expected_Z = np.sum(df_unfair[\"Z * Prob(Z)\"])\n",
    "print \"long way E[Z]: \", Expected_Z\n",
    "\n",
    "#using the face that Expectation is a linear operator\n",
    "Expected_Z = a*Expected_Y + c\n",
    "print \"using knowledge of linear operators E[Z]: \", Expected_Z\n",
    " "
   ]
  },
  {
   "cell_type": "markdown",
   "metadata": {
    "collapsed": true
   },
   "source": [
    "Roll some dice randomly and see compare the results to the expected values"
   ]
  },
  {
   "cell_type": "markdown",
   "metadata": {},
   "source": [
    "Let's roll some dice.   We will look at three situations\n",
    "1) Rolling Two Fair dice:\n",
    "2) Rolling Two Unfair dice\n",
    "3) Rolling One of each\n",
    "\n",
    "We will roll them a bunch of time randomly and then graph the results.   In advance, calculate\n",
    "\n",
    "1) E(X) + E(X) \n",
    "\n",
    "2) E(Y) + E(Y)\n",
    "\n",
    "3) E(X) + E(Y)"
   ]
  },
  {
   "cell_type": "code",
   "execution_count": null,
   "metadata": {
    "collapsed": false
   },
   "outputs": [],
   "source": [
    "\n"
   ]
  },
  {
   "cell_type": "code",
   "execution_count": 12,
   "metadata": {
    "collapsed": true
   },
   "outputs": [],
   "source": [
    "#Set up some lists which we will choose from random to reflect the dice rolls\n",
    "\n",
    "die_sides = [1,2,3,4,5,6]\n",
    "\n",
    "prob_X = df_fair[\"Prob(X)\"].tolist()\n",
    "prob_Y = df_unfair[\"Prob(Y)\"].tolist()\n",
    "\n",
    "X_total, Y_total, X_Y_total = [],[],[]\n",
    "number_of_rolls = 100000  # hands will be tired\n",
    "\n",
    "for n in range(0,number_of_rolls):\n",
    "    X_sum = np.random.choice(die_sides, 1, p=prob_X) + np.random.choice(die_sides, 1, p=prob_X)\n",
    "    X_total.append(X_sum)\n",
    "    Y_sum = np.random.choice(die_sides, 1, p=prob_Y) + np.random.choice(die_sides, 1, p=prob_Y)\n",
    "    Y_total.append(Y_sum)    \n",
    "    X_Y_sum = np.random.choice(die_sides, 1, p=prob_X)+np.random.choice(die_sides, 1, p=prob_Y)\n",
    "    X_Y_total.append(X_Y_sum)\n",
    "\n",
    "#np.random.choice(aa_milne_arr, 5, p=[0.5, 0.1, 0.1, 0.3])"
   ]
  },
  {
   "cell_type": "code",
   "execution_count": 13,
   "metadata": {
    "collapsed": false
   },
   "outputs": [
    {
     "data": {
      "image/png": "[encoded data removed]",
      "text/plain": [
       "<matplotlib.figure.Figure at 0x1173235d0>"
      ]
     },
     "metadata": {},
     "output_type": "display_data"
    }
   ],
   "source": [
    "X_avg = np.mean(X_total)\n",
    "Y_avg = np.mean(Y_total)\n",
    "X_Y_avg = np.mean(X_Y_total)\n",
    "\n",
    "fig, ax_array = plt.subplots(1, 3, figsize=(12,4))\n",
    "\n",
    "ax_array[0] = sns.distplot(X_total, bins=11, hist=True, kde=False,\n",
    "                   ax=ax_array[0],color='darkred')\n",
    "\n",
    "ax_array[0].set_ylabel('counts\\n', fontsize=16)\n",
    "ax_array[0].set_title('Sum of two fair dice', fontsize=12)\n",
    "ax_array[0].axvline(X_avg, lw=3, ls='dashed', color='black')\n",
    "\n",
    "ax_array[1] = sns.distplot(Y_total, bins=11, hist=True, kde=False,\n",
    "                   ax=ax_array[1],color='darkblue')\n",
    "#ax_array[1].set_ylabel('counts\\n', fontsize=16)\n",
    "ax_array[1].set_title('Sum of two unfair dice', fontsize=12)\n",
    "ax_array[1].axvline(Y_avg, lw=3, ls='dashed', color='black')\n",
    "\n",
    "ax_array[2] = sns.distplot(X_Y_total, bins=11, hist=True, kde=False,\n",
    "                   ax=ax_array[2],color='goldenrod')\n",
    "#ax_array[2].set_ylabel('counts\\n', fontsize=16)\n",
    "ax_array[2].set_title('Sum of a fair and unfair dice', fontsize=12)\n",
    "ax_array[2].axvline(X_Y_avg, lw=3, ls='dashed', color='black')\n",
    "\n",
    "plt.show()"
   ]
  },
  {
   "cell_type": "code",
   "execution_count": 14,
   "metadata": {
    "collapsed": false
   },
   "outputs": [
    {
     "name": "stdout",
     "output_type": "stream",
     "text": [
      "X mean:  7.0  X sample average:  6.99494\n",
      "Y mean:  9.0  Y sample average:  9.00339\n",
      "X + Y  mean:  8.0  X + Y sample average:  7.99818\n"
     ]
    }
   ],
   "source": [
    "print \"X mean: \", Expected_X * 2, \" X sample average: \", X_avg \n",
    "print \"Y mean: \", Expected_Y * 2, \" Y sample average: \", Y_avg \n",
    "print \"X + Y  mean: \", Expected_X + Expected_Y , \" X + Y sample average: \", X_Y_avg \n"
   ]
  },
  {
   "cell_type": "markdown",
   "metadata": {},
   "source": [
    "Key points:\n",
    "\n",
    "Expected values are a weighted average of outcomes, where the weight is a probability.\n",
    "E[X] is often called the mean. \n",
    "Expectation is a linear operator, but cannot be used for all functions.  i.e. E[f(X)] does not equal to f(E[X]) in general.\n",
    "\n",
    "If we rolled the dice 3 times then the \"sample\" averages / means could be quite different then the actual mean.  For most distributions, the sample mean will converge to the actual mean as n increases.  n here is the number of trials (dice rolls).\n",
    "\n",
    "Note the examples above are discrete.  For a continuous distributions we \"integrate\" vs. sum (discrete) over the probability density function:  E[X] = intregate(x*pdf) over the set of possible outcomes"
   ]
  },
  {
   "cell_type": "markdown",
   "metadata": {},
   "source": [
    "Like the Mean, Variance (or it's square root, standard deviation) is another parameter that helps describe the distribution.  Where the mean is a measure of central tendency, the variance is a measue of the spread (dispersion) of the distribution.\n",
    "\n",
    "The formula for the Variance is as Var(X) = E[(X-E[X])^2].  From this formula you can see that the it is a probability weighted squared difference from the mean, E[X].\n",
    "\n",
    "Note that Var(c * X) = c^2  * Var(X) and Var(X + b) = Var(X).  It is NOT a linear operator.\n",
    "\n",
    "Simplied the Var(X) = E(X^2) - (E[X])^2  = E(X^2) - (mu)^2, where mu = E[X]"
   ]
  },
  {
   "cell_type": "markdown",
   "metadata": {
    "collapsed": false
   },
   "source": [
    "Using the X dataframe, calcuate the variance of X"
   ]
  },
  {
   "cell_type": "code",
   "execution_count": 15,
   "metadata": {
    "collapsed": false
   },
   "outputs": [
    {
     "data": {
      "text/html": [
       "<div>\n",
       "<table border=\"1\" class=\"dataframe\">\n",
       "  <thead>\n",
       "    <tr style=\"text-align: right;\">\n",
       "      <th></th>\n",
       "      <th>X</th>\n",
       "      <th>Prob(X)</th>\n",
       "      <th>X * Prob(X)</th>\n",
       "    </tr>\n",
       "  </thead>\n",
       "  <tbody>\n",
       "    <tr>\n",
       "      <th>0</th>\n",
       "      <td>1.0</td>\n",
       "      <td>0.166667</td>\n",
       "      <td>0.166667</td>\n",
       "    </tr>\n",
       "    <tr>\n",
       "      <th>1</th>\n",
       "      <td>2.0</td>\n",
       "      <td>0.166667</td>\n",
       "      <td>0.333333</td>\n",
       "    </tr>\n",
       "    <tr>\n",
       "      <th>2</th>\n",
       "      <td>3.0</td>\n",
       "      <td>0.166667</td>\n",
       "      <td>0.500000</td>\n",
       "    </tr>\n",
       "    <tr>\n",
       "      <th>3</th>\n",
       "      <td>4.0</td>\n",
       "      <td>0.166667</td>\n",
       "      <td>0.666667</td>\n",
       "    </tr>\n",
       "    <tr>\n",
       "      <th>4</th>\n",
       "      <td>5.0</td>\n",
       "      <td>0.166667</td>\n",
       "      <td>0.833333</td>\n",
       "    </tr>\n",
       "    <tr>\n",
       "      <th>5</th>\n",
       "      <td>6.0</td>\n",
       "      <td>0.166667</td>\n",
       "      <td>1.000000</td>\n",
       "    </tr>\n",
       "  </tbody>\n",
       "</table>\n",
       "</div>"
      ],
      "text/plain": [
       "     X   Prob(X)  X * Prob(X)\n",
       "0  1.0  0.166667     0.166667\n",
       "1  2.0  0.166667     0.333333\n",
       "2  3.0  0.166667     0.500000\n",
       "3  4.0  0.166667     0.666667\n",
       "4  5.0  0.166667     0.833333\n",
       "5  6.0  0.166667     1.000000"
      ]
     },
     "execution_count": 15,
     "metadata": {},
     "output_type": "execute_result"
    }
   ],
   "source": [
    "df_fair"
   ]
  },
  {
   "cell_type": "code",
   "execution_count": 16,
   "metadata": {
    "collapsed": false
   },
   "outputs": [],
   "source": [
    "df_fair['X - E[X]'] = df_fair['X']-Expected_X\n",
    "df_fair['(X - E[X])^2'] = df_fair['X - E[X]']**2\n",
    "df_fair['Prob(X) * ((X - E[X])^2)'] = df_fair['(X - E[X])^2'] * df_fair['Prob(X)']"
   ]
  },
  {
   "cell_type": "code",
   "execution_count": 17,
   "metadata": {
    "collapsed": false
   },
   "outputs": [
    {
     "data": {
      "text/html": [
       "<div>\n",
       "<table border=\"1\" class=\"dataframe\">\n",
       "  <thead>\n",
       "    <tr style=\"text-align: right;\">\n",
       "      <th></th>\n",
       "      <th>X</th>\n",
       "      <th>Prob(X)</th>\n",
       "      <th>X * Prob(X)</th>\n",
       "      <th>X - E[X]</th>\n",
       "      <th>(X - E[X])^2</th>\n",
       "      <th>Prob(X) * ((X - E[X])^2)</th>\n",
       "    </tr>\n",
       "  </thead>\n",
       "  <tbody>\n",
       "    <tr>\n",
       "      <th>0</th>\n",
       "      <td>1.0</td>\n",
       "      <td>0.166667</td>\n",
       "      <td>0.166667</td>\n",
       "      <td>-2.5</td>\n",
       "      <td>6.25</td>\n",
       "      <td>1.041667</td>\n",
       "    </tr>\n",
       "    <tr>\n",
       "      <th>1</th>\n",
       "      <td>2.0</td>\n",
       "      <td>0.166667</td>\n",
       "      <td>0.333333</td>\n",
       "      <td>-1.5</td>\n",
       "      <td>2.25</td>\n",
       "      <td>0.375000</td>\n",
       "    </tr>\n",
       "    <tr>\n",
       "      <th>2</th>\n",
       "      <td>3.0</td>\n",
       "      <td>0.166667</td>\n",
       "      <td>0.500000</td>\n",
       "      <td>-0.5</td>\n",
       "      <td>0.25</td>\n",
       "      <td>0.041667</td>\n",
       "    </tr>\n",
       "    <tr>\n",
       "      <th>3</th>\n",
       "      <td>4.0</td>\n",
       "      <td>0.166667</td>\n",
       "      <td>0.666667</td>\n",
       "      <td>0.5</td>\n",
       "      <td>0.25</td>\n",
       "      <td>0.041667</td>\n",
       "    </tr>\n",
       "    <tr>\n",
       "      <th>4</th>\n",
       "      <td>5.0</td>\n",
       "      <td>0.166667</td>\n",
       "      <td>0.833333</td>\n",
       "      <td>1.5</td>\n",
       "      <td>2.25</td>\n",
       "      <td>0.375000</td>\n",
       "    </tr>\n",
       "    <tr>\n",
       "      <th>5</th>\n",
       "      <td>6.0</td>\n",
       "      <td>0.166667</td>\n",
       "      <td>1.000000</td>\n",
       "      <td>2.5</td>\n",
       "      <td>6.25</td>\n",
       "      <td>1.041667</td>\n",
       "    </tr>\n",
       "  </tbody>\n",
       "</table>\n",
       "</div>"
      ],
      "text/plain": [
       "     X   Prob(X)  X * Prob(X)  X - E[X]  (X - E[X])^2  \\\n",
       "0  1.0  0.166667     0.166667      -2.5          6.25   \n",
       "1  2.0  0.166667     0.333333      -1.5          2.25   \n",
       "2  3.0  0.166667     0.500000      -0.5          0.25   \n",
       "3  4.0  0.166667     0.666667       0.5          0.25   \n",
       "4  5.0  0.166667     0.833333       1.5          2.25   \n",
       "5  6.0  0.166667     1.000000       2.5          6.25   \n",
       "\n",
       "   Prob(X) * ((X - E[X])^2)  \n",
       "0                  1.041667  \n",
       "1                  0.375000  \n",
       "2                  0.041667  \n",
       "3                  0.041667  \n",
       "4                  0.375000  \n",
       "5                  1.041667  "
      ]
     },
     "execution_count": 17,
     "metadata": {},
     "output_type": "execute_result"
    }
   ],
   "source": [
    "df_fair"
   ]
  },
  {
   "cell_type": "code",
   "execution_count": 18,
   "metadata": {
    "collapsed": false
   },
   "outputs": [
    {
     "name": "stdout",
     "output_type": "stream",
     "text": [
      "Variance X:  2.91666666667\n"
     ]
    }
   ],
   "source": [
    "Variance_X = np.sum(df_fair[\"Prob(X) * ((X - E[X])^2)\"])\n",
    "print \"Variance X: \",Variance_X"
   ]
  },
  {
   "cell_type": "markdown",
   "metadata": {},
   "source": [
    "The fair dice roll is an example of a random variable that is distributed (~) discrete Uniform.  Like many of the common (and not so common) you will find they are supported in scipy.stats and can pull the mean and variance easily.  Example below: "
   ]
  },
  {
   "cell_type": "code",
   "execution_count": 19,
   "metadata": {
    "collapsed": false
   },
   "outputs": [
    {
     "data": {
      "text/plain": [
       "(3.5, 2.9166666666666665)"
      ]
     },
     "execution_count": 19,
     "metadata": {},
     "output_type": "execute_result"
    }
   ],
   "source": [
    "dis_uni = stats.randint(1,7) # Note you might have expected 6 in the set up vs. 7 but this function is like range() in that regard\n",
    "dis_uni.mean(), dis_uni.var()"
   ]
  },
  {
   "cell_type": "markdown",
   "metadata": {},
   "source": [
    "Some Problems:"
   ]
  },
  {
   "cell_type": "markdown",
   "metadata": {},
   "source": [
    "The mean and the variance of the random variable X have been identified above.  With that in mind, what is\n",
    "\n",
    "Var(X + 5)\n",
    "E(X+5)\n",
    "Var(3X)\n",
    "E(2X)\n",
    "E(2X+5)\n",
    "E(X^2)  This is known as the second moment where E[X] is the first moment\n"
   ]
  },
  {
   "cell_type": "code",
   "execution_count": 20,
   "metadata": {
    "collapsed": false
   },
   "outputs": [
    {
     "data": {
      "text/plain": [
       "2.9166666666666665"
      ]
     },
     "execution_count": 20,
     "metadata": {},
     "output_type": "execute_result"
    }
   ],
   "source": [
    "Vplus5 = Variance_X\n",
    "Vplus5\n",
    "\n",
    "# Think about what the informal definition of spread or variance is.  Why would adding five not impact the variance?  ans:\n",
    "# Just as spread out, only moved over 5"
   ]
  },
  {
   "cell_type": "code",
   "execution_count": 21,
   "metadata": {
    "collapsed": false
   },
   "outputs": [
    {
     "data": {
      "text/plain": [
       "8.5"
      ]
     },
     "execution_count": 21,
     "metadata": {},
     "output_type": "execute_result"
    }
   ],
   "source": [
    "Eplus5 = Expected_X + 5\n",
    "Eplus5\n",
    "#use the informal definition of mean to explain"
   ]
  },
  {
   "cell_type": "code",
   "execution_count": 22,
   "metadata": {
    "collapsed": false
   },
   "outputs": [
    {
     "data": {
      "text/plain": [
       "26.25"
      ]
     },
     "execution_count": 22,
     "metadata": {},
     "output_type": "execute_result"
    }
   ],
   "source": [
    "Var3X = (3**2)*Variance_X\n",
    "Var3X"
   ]
  },
  {
   "cell_type": "code",
   "execution_count": 23,
   "metadata": {
    "collapsed": false
   },
   "outputs": [
    {
     "data": {
      "text/plain": [
       "7.0"
      ]
     },
     "execution_count": 23,
     "metadata": {},
     "output_type": "execute_result"
    }
   ],
   "source": [
    "E2X = 2*Expected_X\n",
    "E2X"
   ]
  },
  {
   "cell_type": "code",
   "execution_count": 24,
   "metadata": {
    "collapsed": false
   },
   "outputs": [
    {
     "data": {
      "text/plain": [
       "12.0"
      ]
     },
     "execution_count": 24,
     "metadata": {},
     "output_type": "execute_result"
    }
   ],
   "source": [
    "E2XPlus5 = 2*Expected_X + 5\n",
    "E2XPlus5 # A linear operation"
   ]
  },
  {
   "cell_type": "code",
   "execution_count": 25,
   "metadata": {
    "collapsed": true
   },
   "outputs": [],
   "source": [
    "#E[X^2] = ??? Think about this.  Hint:  Use the Formal Definition of the Variance and derive."
   ]
  },
  {
   "cell_type": "markdown",
   "metadata": {
    "collapsed": true
   },
   "source": [
    "Look up these distributions in wikepedia and calculate the mean and the variance based on their associated parameters"
   ]
  },
  {
   "cell_type": "markdown",
   "metadata": {
    "collapsed": true
   },
   "source": [
    "N ~ Normal(0,3.2) (This means the random variable N is distributed Normally with mean 0 and standard deviation 3.2)\n",
    "\n",
    "B ~ Binomial (n = 6, and p = .2)\n",
    "\n",
    "P ~ Poisson ( Lambda = 6)\n",
    "\n",
    "NB ~ Negative Binomial,  parameters (r = 2, p = .2) #please read the description on Wikipedia\n",
    "\n",
    "http://docs.scipy.org/doc/scipy/reference/stats.html\n",
    "    \n",
    "https://en.wikipedia.org/wiki/List_of_probability_distributions\n",
    "    \n",
    "    "
   ]
  },
  {
   "cell_type": "markdown",
   "metadata": {
    "collapsed": true
   },
   "source": [
    "Go go Wikipedia and review the closed formula for each of these 4 distributions.   Calculate the mean and variance.  Normal is pretty much given and the Poisson you will find interesting.\n",
    "With Scykit learn calculate the mean and variance and compare to your results.\n"
   ]
  },
  {
   "cell_type": "code",
   "execution_count": 26,
   "metadata": {
    "collapsed": false
   },
   "outputs": [
    {
     "name": "stdout",
     "output_type": "stream",
     "text": [
      "Normal Mean:  0.0  Variance:  10.24\n"
     ]
    }
   ],
   "source": [
    "norm = stats.norm(loc=0,scale=3.2)\n",
    "print \"Normal Mean: \", norm.mean(),\" Variance: \", norm.var()\n"
   ]
  },
  {
   "cell_type": "code",
   "execution_count": 27,
   "metadata": {
    "collapsed": false
   },
   "outputs": [
    {
     "name": "stdout",
     "output_type": "stream",
     "text": [
      "Binomial : Mean:  3.0  Variance:  2.4\n"
     ]
    }
   ],
   "source": [
    "bin = stats.binom(15,.2)\n",
    "print \"Binomial : Mean: \", bin.mean(),\" Variance: \", bin.var()"
   ]
  },
  {
   "cell_type": "code",
   "execution_count": 28,
   "metadata": {
    "collapsed": false
   },
   "outputs": [
    {
     "name": "stdout",
     "output_type": "stream",
     "text": [
      "Poisson : Mean:  6.0  Variance:  6.0\n"
     ]
    }
   ],
   "source": [
    "poi = stats.poisson(6)\n",
    "print \"Poisson : Mean: \", poi.mean(),\" Variance: \", poi.var()\n",
    "#cool"
   ]
  },
  {
   "cell_type": "code",
   "execution_count": 29,
   "metadata": {
    "collapsed": false
   },
   "outputs": [
    {
     "name": "stdout",
     "output_type": "stream",
     "text": [
      "Negative Binomial : Mean:  24.0  Variance:  120.0\n"
     ]
    }
   ],
   "source": [
    "nb = stats.nbinom(6,.2)\n",
    "print \"Negative Binomial : Mean: \", nb.mean(),\" Variance: \", nb.var()\n",
    "\n",
    "#Note sure Wikipedia aligns with stats for NB\n",
    "#http://reference.wolfram.com/language/ref/NegativeBinomialDistribution.html\n"
   ]
  },
  {
   "cell_type": "markdown",
   "metadata": {
    "collapsed": true
   },
   "source": [
    "\n"
   ]
  }
 ],
 "metadata": {
  "anaconda-cloud": {},
  "kernelspec": {
   "display_name": "Python [dsi]",
   "language": "python",
   "name": "Python [dsi]"
  },
  "language_info": {
   "codemirror_mode": {
    "name": "ipython",
    "version": 2
   },
   "file_extension": ".py",
   "mimetype": "text/x-python",
   "name": "python",
   "nbconvert_exporter": "python",
   "pygments_lexer": "ipython2",
   "version": "2.7.12"
  }
 },
 "nbformat": 4,
 "nbformat_minor": 0
}
