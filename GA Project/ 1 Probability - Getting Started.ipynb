{
 "cells": [
  {
   "cell_type": "markdown",
   "metadata": {},
   "source": [
    "\n",
    "\n",
    "\n",
    "## Emphasis\n",
    "\n",
    "Probability Concepts:\n",
    "\n",
    "- Probability Axiom\n",
    "- Counting Principal\n",
    "- Permutation / Arrangement\n",
    "- Combination\n",
    "- Distinguishable vs. Indistinguishable\n",
    "- Conditional Probability\n",
    "- Binomial Distribution\n",
    "- Cumulative Distribution Function (cdf)\n",
    "   \n",
    "    \n",
    "    \n",
    "Python Concepts:\n",
    "\n",
    "- Defining a function\n",
    "- Recursion (function calling itself)\n",
    "- For loop\n",
    "- String concatenation\n",
    "- Grid search combinations\n",
    "    \n",
    " "
   ]
  },
  {
   "cell_type": "markdown",
   "metadata": {},
   "source": [
    "Historically, probability was viewed very differently.   Despite the 3 main categories or views, 3 principal axioms of proabaility evolved.\n",
    "\n",
    "1)  Classical or equally likelihood approach.   In this view, all outcomes are equally likely and the probability was related to the number of events.  For example the probability that the Ace of Hearts is drawn from a random deck of 52 cards is 1/52.\n",
    "\n",
    "2)  The frequency approach:  You observe that over the last year 15% of your customers impulse buy a Hershey's candy bar at the counter.   You inference that the probability of a random customer impulse buys a candy bar is 15%.\n",
    "\n",
    "3)  The geometric or measure approach.  In this view you measure the the sample space all of the outcomes and compare the outcome size to the overall sample space size or measure.  As an example if you divided a bullseye target into 3 equal parts, say A,B,C, then the probability that someone hits A or B will be (area of A or B) / total area = 2/3.\n",
    "\n",
    "Independent of the approach or view, 3 axioms evolved that have become the basis for Probability.  They apply independent of the approaches above:\n",
    "\n",
    "Letting A be a random event, U be the total of all events (AKA Sample Space), and A(i) be an event A indexed by i, the 3 axioms of probabilty are\n",
    "\n",
    "    1)  P(A) >= 0\n",
    "    2)  P(U) = 1.0\n",
    "    3)  P(A(1) union ....... A(n)) = P(A(1)) + ..... P(A(n)) if A(1) thru A(n) are mutually exclusive.\n",
    "    \n",
    "Informally: Probabilities will range between 0 and 1, and mutually excluive events have separate probabiliites.\n",
    "\n",
    "We can stop now right?\n",
    "    \n",
    "    "
   ]
  },
  {
   "cell_type": "markdown",
   "metadata": {},
   "source": [
    "No course in probability would be taught without some time spent on combinations, permutations and counting.   The basic counting principal says that if A can occur n ways and B can occur m ways, then A and B can occur n X m ways.    "
   ]
  },
  {
   "cell_type": "markdown",
   "metadata": {},
   "source": [
    "if you have two groups of students, 10 freshman and 11 sophmores how many teams of 2 can be formed with one member from each class."
   ]
  },
  {
   "cell_type": "code",
   "execution_count": 28,
   "metadata": {
    "collapsed": false
   },
   "outputs": [
    {
     "data": {
      "text/plain": [
       "110"
      ]
     },
     "execution_count": 28,
     "metadata": {},
     "output_type": "execute_result"
    }
   ],
   "source": [
    "teams_of_2 = 10 * 11\n",
    "teams_of_2\n",
    "\n",
    "#think of a grid 10 by 11. \n",
    "\n"
   ]
  },
  {
   "cell_type": "markdown",
   "metadata": {
    "collapsed": false
   },
   "source": [
    "A grid search routine is an algorithm that can look at all parameter combinations in order\n",
    "to choose the most effective set of parameters.\n",
    " suppose the search has 3 sets of parameters, the first with 4 parameters, the second with 5, and the 3rd with 7 parameters.\n",
    "if a specific grid search must include one parameter from each of the sets, how many parameters are there?"
   ]
  },
  {
   "cell_type": "code",
   "execution_count": 29,
   "metadata": {
    "collapsed": false
   },
   "outputs": [
    {
     "data": {
      "text/plain": [
       "140"
      ]
     },
     "execution_count": 29,
     "metadata": {},
     "output_type": "execute_result"
    }
   ],
   "source": [
    "grid = 4*5*7\n",
    "grid"
   ]
  },
  {
   "cell_type": "markdown",
   "metadata": {
    "collapsed": true
   },
   "source": [
    "There are 5 qualified candidates to fill 5 positions.  How many ways can the roles be filled assuming 1 person per position?"
   ]
  },
  {
   "cell_type": "code",
   "execution_count": 30,
   "metadata": {
    "collapsed": false
   },
   "outputs": [
    {
     "data": {
      "text/plain": [
       "120"
      ]
     },
     "execution_count": 30,
     "metadata": {},
     "output_type": "execute_result"
    }
   ],
   "source": [
    "cands  = 5 * 4 * 3 * 2 * 1\n",
    "cands"
   ]
  },
  {
   "cell_type": "markdown",
   "metadata": {},
   "source": [
    "the prior example is an example is an example of a permutation.  n X (n-1) X (n-2)   X ... 2 X 1. is known as the factorial function and is used\n",
    "for permutations.  It is written as n! and by convention where 0! = 1.  There is a factorial function, but we will write a home grown function to illustrate functions and a technique called recursion"
   ]
  },
  {
   "cell_type": "code",
   "execution_count": 31,
   "metadata": {
    "collapsed": false
   },
   "outputs": [],
   "source": [
    "def factorial(x):\n",
    "    if x < 0:\n",
    "        print \"Must be a non-negative integer arguement\"\n",
    "    if x == 0:\n",
    "        return 1\n",
    "    else:\n",
    "        if x <> int(x):\n",
    "            print \"Must be a non-negative integer arguement\"\n",
    "        else:    \n",
    "            return x * factorial(x-1)\n",
    "    \n",
    "    "
   ]
  },
  {
   "cell_type": "markdown",
   "metadata": {},
   "source": [
    "calculate factorials from 0 to 20"
   ]
  },
  {
   "cell_type": "code",
   "execution_count": 32,
   "metadata": {
    "collapsed": false
   },
   "outputs": [
    {
     "name": "stdout",
     "output_type": "stream",
     "text": [
      "n:  0 0 ! =  1\n",
      "n:  1 1 ! =  1\n",
      "n:  2 2 ! =  2\n",
      "n:  3 3 ! =  6\n",
      "n:  4 4 ! =  24\n",
      "n:  5 5 ! =  120\n",
      "n:  6 6 ! =  720\n",
      "n:  7 7 ! =  5040\n",
      "n:  8 8 ! =  40320\n",
      "n:  9 9 ! =  362880\n",
      "n:  10 10 ! =  3628800\n",
      "n:  11 11 ! =  39916800\n",
      "n:  12 12 ! =  479001600\n",
      "n:  13 13 ! =  6227020800\n",
      "n:  14 14 ! =  87178291200\n",
      "n:  15 15 ! =  1307674368000\n",
      "n:  16 16 ! =  20922789888000\n",
      "n:  17 17 ! =  355687428096000\n",
      "n:  18 18 ! =  6402373705728000\n",
      "n:  19 19 ! =  121645100408832000\n",
      "n:  20 20 ! =  2432902008176640000\n"
     ]
    }
   ],
   "source": [
    "for n in range(0,21):\n",
    "    print \"n: \",n,str(n),\"! = \",factorial(n)"
   ]
  },
  {
   "cell_type": "markdown",
   "metadata": {},
   "source": [
    "how many permutations are there of the alphabet = P(26,26)"
   ]
  },
  {
   "cell_type": "code",
   "execution_count": 33,
   "metadata": {
    "collapsed": false
   },
   "outputs": [
    {
     "data": {
      "text/plain": [
       "403291461126605635584000000L"
      ]
     },
     "execution_count": 33,
     "metadata": {},
     "output_type": "execute_result"
    }
   ],
   "source": [
    "alphabet_permutations = factorial(26)\n",
    "alphabet_permutations"
   ]
  },
  {
   "cell_type": "markdown",
   "metadata": {},
   "source": [
    "how many 5 letter permutations are there of the alphabet = P(26,5)?"
   ]
  },
  {
   "cell_type": "code",
   "execution_count": 34,
   "metadata": {
    "collapsed": false
   },
   "outputs": [
    {
     "name": "stdout",
     "output_type": "stream",
     "text": [
      "7893600\n",
      "7893600\n"
     ]
    }
   ],
   "source": [
    "print 26*25*24*23*22\n",
    "print factorial(26)/factorial(21)"
   ]
  },
  {
   "cell_type": "markdown",
   "metadata": {},
   "source": [
    "how many 2 card poker hands can be formed from a 52 card deck"
   ]
  },
  {
   "cell_type": "code",
   "execution_count": 35,
   "metadata": {
    "collapsed": false
   },
   "outputs": [
    {
     "data": {
      "text/plain": [
       "1326"
      ]
     },
     "execution_count": 35,
     "metadata": {},
     "output_type": "execute_result"
    }
   ],
   "source": [
    "hand_count = 52*51/2\n",
    "hand_count\n",
    "\n",
    "# there is an important concept here.  There are times when the order matters and times when it does not\n",
    "# if you have the jack of diamonds and the 10 of clubs, it's the same hand (indistinguishable) as if you have the\n",
    "# 10 of clubs and the jack of diamonds.  Hence we divide by 2 here (actually 2 factorial)  \n",
    "#This will come up later as we look at combinations.\n",
    "\n"
   ]
  },
  {
   "cell_type": "markdown",
   "metadata": {},
   "source": [
    " A restaurant has 22 employees, including 6 master servers, 5 proficient servers and 7 apprentices\n",
    "The owner has requested a few things from you the manager:\n",
    "1) a private party of execs is coming on Tuesday and wants to know how many teams of 3 can be \n",
    "formed from the master chefs\n",
    "2) He also wants to know how many teams of 2 can be formed from each of the other 2 server groups for a Thursday activity.\n",
    "3) Mario is his favorite server and he wants him to serve him and his wife for their anniversary on Sunday along with 2 other servers.  How many teams can support Mario the master server"
   ]
  },
  {
   "cell_type": "code",
   "execution_count": 36,
   "metadata": {
    "collapsed": false
   },
   "outputs": [
    {
     "data": {
      "text/plain": [
       "30"
      ]
     },
     "execution_count": 36,
     "metadata": {},
     "output_type": "execute_result"
    }
   ],
   "source": [
    "#1 one master and one proficient.   Basic counting problem no need to worry about order (yet)\n",
    "master_servers = 6\n",
    "proficient_servers = 5\n",
    "apprentices = 7\n",
    "exec_team_count = 3\n",
    "exec_teams = master_servers * proficient_servers\n",
    "exec_teams"
   ]
  },
  {
   "cell_type": "code",
   "execution_count": 37,
   "metadata": {
    "collapsed": false
   },
   "outputs": [
    {
     "data": {
      "text/plain": [
       "20"
      ]
     },
     "execution_count": 37,
     "metadata": {},
     "output_type": "execute_result"
    }
   ],
   "source": [
    "#2a  Does order matter?  Think it through\n",
    "\n",
    "master_team = master_servers * (master_servers-1) * (master_servers-2)\n",
    "\n",
    "# but think about order now:  Is Mary, Mario and Beth the same as Beth, Mary and Mario?\n",
    "# how do we adjust.  \n",
    "\n",
    "#ans:  since there are 3! of a team of 3 we have over counted the teams by a factor of 6 = 3!\n",
    "\n",
    "master_team = master_team / factorial(exec_team_count)\n",
    "master_team\n",
    "\n",
    "# important to know when to divide out "
   ]
  },
  {
   "cell_type": "code",
   "execution_count": 38,
   "metadata": {
    "collapsed": false,
    "scrolled": true
   },
   "outputs": [
    {
     "name": "stdout",
     "output_type": "stream",
     "text": [
      "Team number:  1 Team members:  1 2 3\n",
      "Team number:  2 Team members:  1 2 4\n",
      "Team number:  3 Team members:  1 2 5\n",
      "Team number:  4 Team members:  1 2 6\n",
      "Team number:  5 Team members:  1 3 4\n",
      "Team number:  6 Team members:  1 3 5\n",
      "Team number:  7 Team members:  1 3 6\n",
      "Team number:  8 Team members:  1 4 5\n",
      "Team number:  9 Team members:  1 4 6\n",
      "Team number:  10 Team members:  1 5 6\n",
      "Team number:  11 Team members:  2 3 4\n",
      "Team number:  12 Team members:  2 3 5\n",
      "Team number:  13 Team members:  2 3 6\n",
      "Team number:  14 Team members:  2 4 5\n",
      "Team number:  15 Team members:  2 4 6\n",
      "Team number:  16 Team members:  2 5 6\n",
      "Team number:  17 Team members:  3 4 5\n",
      "Team number:  18 Team members:  3 4 6\n",
      "Team number:  19 Team members:  3 5 6\n",
      "Team number:  20 Team members:  4 5 6\n"
     ]
    }
   ],
   "source": [
    "# let's check our work and see if this is right.  Let's label each of the master servers 1 thru 6\n",
    "\n",
    "count = 1\n",
    "for i in range(1,master_servers+1):\n",
    "    for j in range(i+1 , master_servers+1):\n",
    "        for k in range(j+1,master_servers+1):\n",
    "            print \"Team number: \", count, \"Team members: \" ,i, j, k\n",
    "            count += 1"
   ]
  },
  {
   "cell_type": "markdown",
   "metadata": {
    "collapsed": true
   },
   "source": [
    "In probability there is a combinations function that allows one to choose a r items from N choices it is written in terms of factorials.  In the case of master servers we would use\n",
    "the function combinations(6,3).  Out of 6 choose 3 where order does not matter.  This combination function is also known as the binomial coefficient.\n"
   ]
  },
  {
   "cell_type": "code",
   "execution_count": 39,
   "metadata": {
    "collapsed": false
   },
   "outputs": [
    {
     "data": {
      "text/plain": [
       "20"
      ]
     },
     "execution_count": 39,
     "metadata": {},
     "output_type": "execute_result"
    }
   ],
   "source": [
    "#note that if we were to write the master server example above in terms of factorials. it would be\n",
    "master_team = factorial(master_servers)/(factorial(master_servers - exec_team_count) \n",
    "                                         * factorial(exec_team_count))\n",
    "\n",
    "master_team"
   ]
  },
  {
   "cell_type": "markdown",
   "metadata": {
    "collapsed": false
   },
   "source": [
    "Write a combination function based on indistinguishable samples.  (see server example)  Later you can find your favorite in one of the python libraries"
   ]
  },
  {
   "cell_type": "code",
   "execution_count": 40,
   "metadata": {
    "collapsed": false
   },
   "outputs": [],
   "source": [
    "#N choose r where r's are indistinguishable\n",
    "def combinations(N,r):\n",
    "    if N <= 0:\n",
    "        print \"Invalid arguement N, Non positive\"\n",
    "        return \n",
    "    else:\n",
    "        if r > N:\n",
    "            print \"Invalid arguement r, greater than N\"\n",
    "            return\n",
    "        else:\n",
    "            if r <> int(r):\n",
    "                print \"Invalid arguement r, non Integer\"\n",
    "                return\n",
    "            else:\n",
    "                if N <> int(N):\n",
    "                    print \"Invalid arguement N, non Integer\"\n",
    "                    return\n",
    "                else:\n",
    "                    num = factorial(N)\n",
    "                    den = float(factorial(N-r)*factorial(r))\n",
    "                return num/den"
   ]
  },
  {
   "cell_type": "code",
   "execution_count": 41,
   "metadata": {
    "collapsed": false
   },
   "outputs": [
    {
     "name": "stdout",
     "output_type": "stream",
     "text": [
      "Masters teams:  20.0\n",
      "\n",
      "Proficient teams:  10.0\n",
      "Apprentice teams:  35.0\n",
      "\n",
      "Teams of 2 to support Mario:  66.0\n"
     ]
    }
   ],
   "source": [
    "#2a\n",
    "print \"Masters teams: \", combinations(master_servers,exec_team_count)\n",
    "#2b\n",
    "print \"\\nProficient teams: \", combinations(proficient_servers,exec_team_count)\n",
    "print \"Apprentice teams: \", combinations(apprentices,exec_team_count)\n",
    "#2c\n",
    "print \"\\nTeams of 2 to support Mario: \", combinations(apprentices+proficient_servers,2)"
   ]
  },
  {
   "cell_type": "markdown",
   "metadata": {
    "collapsed": true
   },
   "source": [
    "returning to the card example how many hands of 2 cards can be drawn from a deck of 52?\n",
    "how about 5 card hands?"
   ]
  },
  {
   "cell_type": "code",
   "execution_count": 42,
   "metadata": {
    "collapsed": false
   },
   "outputs": [
    {
     "name": "stdout",
     "output_type": "stream",
     "text": [
      "2 card hands:  1326.0\n",
      "5 card hands:  2598960.0\n"
     ]
    }
   ],
   "source": [
    "print \"2 card hands: \", combinations(52,2) #should agree with above\n",
    "print \"5 card hands: \", combinations(52,5)"
   ]
  },
  {
   "cell_type": "markdown",
   "metadata": {},
   "source": [
    "What is the probability that a single die thrown will display a 1 face-up?"
   ]
  },
  {
   "cell_type": "code",
   "execution_count": 43,
   "metadata": {
    "collapsed": false
   },
   "outputs": [
    {
     "data": {
      "text/plain": [
       "0.16666666666666666"
      ]
     },
     "execution_count": 43,
     "metadata": {},
     "output_type": "execute_result"
    }
   ],
   "source": [
    "p_6 = 1/6.0 # event / total number of outcomes  Assumes a fair die\n",
    "p_6"
   ]
  },
  {
   "cell_type": "markdown",
   "metadata": {},
   "source": [
    "What is the probability that if you are dealt a 2 card hand that it consists of 2 aces?"
   ]
  },
  {
   "cell_type": "code",
   "execution_count": 44,
   "metadata": {
    "collapsed": false
   },
   "outputs": [
    {
     "data": {
      "text/plain": [
       "(6.0, 1326.0, 0.004524886877828055)"
      ]
     },
     "execution_count": 44,
     "metadata": {},
     "output_type": "execute_result"
    }
   ],
   "source": [
    "num = combinations(4,2)\n",
    "den = combinations(52,2)\n",
    "num, den, num/den                    "
   ]
  },
  {
   "cell_type": "markdown",
   "metadata": {},
   "source": [
    "What is the probability that if you are dealt a 5 card hand that it consists of 3 aces and two kings?"
   ]
  },
  {
   "cell_type": "code",
   "execution_count": 45,
   "metadata": {
    "collapsed": false
   },
   "outputs": [
    {
     "data": {
      "text/plain": [
       "9.23446301597562e-06"
      ]
     },
     "execution_count": 45,
     "metadata": {},
     "output_type": "execute_result"
    }
   ],
   "source": [
    "num = combinations(4,3)*combinations(4,2)\n",
    "den = combinations(52,5)\n",
    "pAAAKK = num/den\n",
    "\n",
    "pAAAKK"
   ]
  },
  {
   "cell_type": "markdown",
   "metadata": {},
   "source": [
    "What is the probability that the single card from the deck is a heart \n",
    "given that it is red?   Note this is a conditinal probability that will be discussed later. Note the notation."
   ]
  },
  {
   "cell_type": "code",
   "execution_count": 46,
   "metadata": {
    "collapsed": false
   },
   "outputs": [
    {
     "name": "stdout",
     "output_type": "stream",
     "text": [
      "P(H|R) = 13/26 =  0.5\n"
     ]
    }
   ],
   "source": [
    "print \"P(H|R) = 13/26 = \", 13./26."
   ]
  },
  {
   "cell_type": "markdown",
   "metadata": {},
   "source": [
    "back to counting:  How many possible outcomes are there if someone flips a coin consecutively 7 times?"
   ]
  },
  {
   "cell_type": "code",
   "execution_count": 47,
   "metadata": {
    "collapsed": false
   },
   "outputs": [
    {
     "data": {
      "text/plain": [
       "128"
      ]
     },
     "execution_count": 47,
     "metadata": {},
     "output_type": "execute_result"
    }
   ],
   "source": [
    "Coinflips = 2**7\n",
    "Coinflips"
   ]
  },
  {
   "cell_type": "markdown",
   "metadata": {},
   "source": [
    "Say you flip a fair (p = .5) coin 7 times and get 4 heads and 3 tails\n",
    "How many ways can 7 coins with 3 heads and 4 tails be arranged?\n",
    "\n",
    "Conceptually if you had to arrange 7 letters of which 4 were distinct T's, T1, T2, T3, T4 and 3 were distinct\n",
    "H's: H1, H2, H3 there would be 7! arrangements. Put the the T's (Tails) and H's (heads) are not distinguishable, how would you adjust the 7! accordingly.   (See server example)"
   ]
  },
  {
   "cell_type": "code",
   "execution_count": 48,
   "metadata": {
    "collapsed": false
   },
   "outputs": [
    {
     "data": {
      "text/plain": [
       "35.0"
      ]
     },
     "execution_count": 48,
     "metadata": {},
     "output_type": "execute_result"
    }
   ],
   "source": [
    "Trials = 7\n",
    "Heads = 4\n",
    "\n",
    "h3t4 = combinations(7,3)\n",
    "h3t4\n",
    "\n"
   ]
  },
  {
   "cell_type": "markdown",
   "metadata": {},
   "source": [
    "let's look at all the combinations if a coin is flipped 7 times"
   ]
  },
  {
   "cell_type": "code",
   "execution_count": 49,
   "metadata": {
    "collapsed": false
   },
   "outputs": [
    {
     "name": "stdout",
     "output_type": "stream",
     "text": [
      "Flips:  7  Heads:  7  Tails:   0 Combinations:  1.0\n",
      "Flips:  7  Heads:  6  Tails:   1 Combinations:  7.0\n",
      "Flips:  7  Heads:  5  Tails:   2 Combinations:  21.0\n",
      "Flips:  7  Heads:  4  Tails:   3 Combinations:  35.0\n",
      "Flips:  7  Heads:  3  Tails:   4 Combinations:  35.0\n",
      "Flips:  7  Heads:  2  Tails:   5 Combinations:  21.0\n",
      "Flips:  7  Heads:  1  Tails:   6 Combinations:  7.0\n",
      "Flips:  7  Heads:  0  Tails:   7 Combinations:  1.0\n",
      "------------------------------------------------------\n",
      "Total Combinations:  128.0\n",
      "2 to the Flips Power:  128\n"
     ]
    }
   ],
   "source": [
    "Flips = 7\n",
    "Total = 0   \n",
    "for k in range(0,Flips+1):\n",
    "    h = Flips - k\n",
    "    t = k\n",
    "    combis = combinations(Flips,k)\n",
    "    print \"Flips: \",Flips,\" Heads: \", h, \" Tails:  \", t , \"Combinations: \",combis\n",
    "    Total += combis\n",
    "    \n",
    "print \"------------------------------------------------------\"\n",
    "print \"Total Combinations: \",Total\n",
    "print \"2 to the Flips Power: \",2**Flips"
   ]
  },
  {
   "cell_type": "code",
   "execution_count": 50,
   "metadata": {
    "collapsed": true
   },
   "outputs": [],
   "source": [
    "# are each of the total combinations above equally likely?  what if the coin was not fair?"
   ]
  },
  {
   "cell_type": "markdown",
   "metadata": {},
   "source": [
    "Create the Tail Head strings for the 7 tosses:"
   ]
  },
  {
   "cell_type": "code",
   "execution_count": 51,
   "metadata": {
    "collapsed": false
   },
   "outputs": [
    {
     "name": "stdout",
     "output_type": "stream",
     "text": [
      "1 TTTTTTH\n",
      "2 TTTTTTT\n",
      "3 TTTTTHH\n",
      "4 TTTTTHT\n",
      "5 TTTTHTH\n",
      "6 TTTTHTT\n",
      "7 TTTTHHH\n",
      "8 TTTTHHT\n",
      "9 TTTHTTH\n",
      "10 TTTHTTT\n",
      "11 TTTHTHH\n",
      "12 TTTHTHT\n",
      "13 TTTHHTH\n",
      "14 TTTHHTT\n",
      "15 TTTHHHH\n",
      "16 TTTHHHT\n",
      "17 TTHTTTH\n",
      "18 TTHTTTT\n",
      "19 TTHTTHH\n",
      "20 TTHTTHT\n",
      "21 TTHTHTH\n",
      "22 TTHTHTT\n",
      "23 TTHTHHH\n",
      "24 TTHTHHT\n",
      "25 TTHHTTH\n",
      "26 TTHHTTT\n",
      "27 TTHHTHH\n",
      "28 TTHHTHT\n",
      "29 TTHHHTH\n",
      "30 TTHHHTT\n",
      "31 TTHHHHH\n",
      "32 TTHHHHT\n",
      "33 THTTTTH\n",
      "34 THTTTTT\n",
      "35 THTTTHH\n",
      "36 THTTTHT\n",
      "37 THTTHTH\n",
      "38 THTTHTT\n",
      "39 THTTHHH\n",
      "40 THTTHHT\n",
      "41 THTHTTH\n",
      "42 THTHTTT\n",
      "43 THTHTHH\n",
      "44 THTHTHT\n",
      "45 THTHHTH\n",
      "46 THTHHTT\n",
      "47 THTHHHH\n",
      "48 THTHHHT\n",
      "49 THHTTTH\n",
      "50 THHTTTT\n",
      "51 THHTTHH\n",
      "52 THHTTHT\n",
      "53 THHTHTH\n",
      "54 THHTHTT\n",
      "55 THHTHHH\n",
      "56 THHTHHT\n",
      "57 THHHTTH\n",
      "58 THHHTTT\n",
      "59 THHHTHH\n",
      "60 THHHTHT\n",
      "61 THHHHTH\n",
      "62 THHHHTT\n",
      "63 THHHHHH\n",
      "64 THHHHHT\n",
      "65 HTTTTTH\n",
      "66 HTTTTTT\n",
      "67 HTTTTHH\n",
      "68 HTTTTHT\n",
      "69 HTTTHTH\n",
      "70 HTTTHTT\n",
      "71 HTTTHHH\n",
      "72 HTTTHHT\n",
      "73 HTTHTTH\n",
      "74 HTTHTTT\n",
      "75 HTTHTHH\n",
      "76 HTTHTHT\n",
      "77 HTTHHTH\n",
      "78 HTTHHTT\n",
      "79 HTTHHHH\n",
      "80 HTTHHHT\n",
      "81 HTHTTTH\n",
      "82 HTHTTTT\n",
      "83 HTHTTHH\n",
      "84 HTHTTHT\n",
      "85 HTHTHTH\n",
      "86 HTHTHTT\n",
      "87 HTHTHHH\n",
      "88 HTHTHHT\n",
      "89 HTHHTTH\n",
      "90 HTHHTTT\n",
      "91 HTHHTHH\n",
      "92 HTHHTHT\n",
      "93 HTHHHTH\n",
      "94 HTHHHTT\n",
      "95 HTHHHHH\n",
      "96 HTHHHHT\n",
      "97 HHTTTTH\n",
      "98 HHTTTTT\n",
      "99 HHTTTHH\n",
      "100 HHTTTHT\n",
      "101 HHTTHTH\n",
      "102 HHTTHTT\n",
      "103 HHTTHHH\n",
      "104 HHTTHHT\n",
      "105 HHTHTTH\n",
      "106 HHTHTTT\n",
      "107 HHTHTHH\n",
      "108 HHTHTHT\n",
      "109 HHTHHTH\n",
      "110 HHTHHTT\n",
      "111 HHTHHHH\n",
      "112 HHTHHHT\n",
      "113 HHHTTTH\n",
      "114 HHHTTTT\n",
      "115 HHHTTHH\n",
      "116 HHHTTHT\n",
      "117 HHHTHTH\n",
      "118 HHHTHTT\n",
      "119 HHHTHHH\n",
      "120 HHHTHHT\n",
      "121 HHHHTTH\n",
      "122 HHHHTTT\n",
      "123 HHHHTHH\n",
      "124 HHHHTHT\n",
      "125 HHHHHTH\n",
      "126 HHHHHTT\n",
      "127 HHHHHHH\n",
      "128 HHHHHHT\n"
     ]
    }
   ],
   "source": [
    "def another_toss(x):\n",
    "    y = x[:]\n",
    "    prior_tosses = len(x)\n",
    "    for k in range(0,prior_tosses):\n",
    "        x[k] = \"T\" + x[k]\n",
    "        y[k] = \"H\" + y[k]\n",
    "    \n",
    "    return x+y\n",
    "\n",
    "flip_collect = []\n",
    "\n",
    "for f in range(0,Flips):\n",
    "    if f == 0:\n",
    "        flip_collect.append('H')\n",
    "        flip_collect.append('T')\n",
    "    else: \n",
    "        flip_collect = another_toss(flip_collect)\n",
    "        \n",
    "for f in range(0,len(flip_collect)):\n",
    "    print  f+1, flip_collect[f]"
   ]
  },
  {
   "cell_type": "markdown",
   "metadata": {
    "collapsed": true
   },
   "source": [
    "A student has a multirgression problem with 120 features and is curious how many models they would have if they regressed\n",
    "115 variables at a time."
   ]
  },
  {
   "cell_type": "code",
   "execution_count": 52,
   "metadata": {
    "collapsed": false
   },
   "outputs": [
    {
     "data": {
      "text/plain": [
       "190578024.0"
      ]
     },
     "execution_count": 52,
     "metadata": {},
     "output_type": "execute_result"
    }
   ],
   "source": [
    "n50 = combinations(120,115)\n",
    "n50"
   ]
  },
  {
   "cell_type": "markdown",
   "metadata": {
    "collapsed": true
   },
   "source": [
    "Suppose you have a game where you can toss a ball and it will land in any of 10 urns.\n",
    "Suppose you have 3 balls to toss.   How many distributions of balls are there thru urns\n",
    "if the balls are indistinquishable?\n",
    "Hint.  One possible combination as | |BB| | || | | |B| |.  Now this becomes a matter of \n",
    "arranging 9 | and 3 B (why?)  Ans:  The end | are fixed."
   ]
  },
  {
   "cell_type": "code",
   "execution_count": 53,
   "metadata": {
    "collapsed": false
   },
   "outputs": [
    {
     "name": "stdout",
     "output_type": "stream",
     "text": [
      "220\n"
     ]
    },
    {
     "data": {
      "text/plain": [
       "220.0"
      ]
     },
     "execution_count": 53,
     "metadata": {},
     "output_type": "execute_result"
    }
   ],
   "source": [
    "Balls = 3\n",
    "Urns = 10\n",
    "Distributions = factorial(Balls + Urns - 1)/(factorial(Urns - 1)*factorial(Balls))\n",
    "print Distributions\n",
    "\n",
    "#or\n",
    "\n",
    "Outcomes = combinations(Balls + Urns - 1,Urns - 1)\n",
    "Outcomes\n"
   ]
  },
  {
   "cell_type": "markdown",
   "metadata": {},
   "source": [
    "note model above can be conceptualized to solve the following problem:\n",
    "how many integral solutions to the problem X(1) + X(2) + X(3) + X(4) = 15. In this case\n",
    "there are 4 urns and 15 balls.  One solution for example would be (3,0, 9,3)"
   ]
  },
  {
   "cell_type": "code",
   "execution_count": 54,
   "metadata": {
    "collapsed": false
   },
   "outputs": [
    {
     "data": {
      "text/plain": [
       "816.0"
      ]
     },
     "execution_count": 54,
     "metadata": {},
     "output_type": "execute_result"
    }
   ],
   "source": [
    "Balls = 15\n",
    "Urns = 4\n",
    "\n",
    "Integral_Solutions = combinations(Balls + Urns - 1,Urns - 1)\n",
    "Integral_Solutions"
   ]
  },
  {
   "cell_type": "markdown",
   "metadata": {
    "collapsed": true
   },
   "source": [
    "A pitcher has a .95% chance of hittting the strike zone when he pitches. \n",
    "Suppose a pitcher throws 100 pitches.   What is the probability they throw 90 strikes?\n",
    "This example you will learn later is an example of a random variable with binomial distribution.  This will be a lot easier in python but it's good to do once to understand the formula"
   ]
  },
  {
   "cell_type": "code",
   "execution_count": 55,
   "metadata": {
    "collapsed": false
   },
   "outputs": [
    {
     "name": "stdout",
     "output_type": "stream",
     "text": [
      "Probability of EXACTLY 90 strikes:  0.0167158840959\n"
     ]
    }
   ],
   "source": [
    "# Arranging 90 S's and 10 B's\n",
    "N = 100\n",
    "r =  90\n",
    "p = .95\n",
    "\n",
    "binomial_coefficient = combinations(N,r)\n",
    "probability_product = (p ** r) * ((1-p)**(N-r))\n",
    "pr = binomial_coefficient * probability_product\n",
    "print \"Probability of EXACTLY\",r,\"strikes: \", pr"
   ]
  },
  {
   "cell_type": "markdown",
   "metadata": {},
   "source": [
    "A cumulative distribution function sums all of the probablities that are less than or equal to the function arguement.   Let's write a \"cdf\" function for the binomial distribution and use it to determine if the probablity that the number of strikes were less than or equal to 90."
   ]
  },
  {
   "cell_type": "code",
   "execution_count": 57,
   "metadata": {
    "collapsed": false
   },
   "outputs": [
    {
     "name": "stdout",
     "output_type": "stream",
     "text": [
      "Probability of less than or equal to 90 strikes:  0.0281882941634\n"
     ]
    }
   ],
   "source": [
    "# What is the probability of 90 or less strikes\n",
    "\n",
    "def binomial_cdf(N,r,p):\n",
    "    pr = 0\n",
    "    for k in range(0,r+1):\n",
    "        binomial_coefficient = combinations(N,k)\n",
    "        probability_product = (p ** k) * ((1-p)**(N-k))\n",
    "        pr += binomial_coefficient * probability_product\n",
    "    return pr\n",
    "\n",
    "pr = binomial_cdf(N,r,p)\n",
    "print \"Probability of less than or equal to\",r,\"strikes: \", pr\n",
    "\n"
   ]
  }
 ],
 "metadata": {
  "anaconda-cloud": {},
  "kernelspec": {
   "display_name": "Python [dsi]",
   "language": "python",
   "name": "Python [dsi]"
  },
  "language_info": {
   "codemirror_mode": {
    "name": "ipython",
    "version": 2
   },
   "file_extension": ".py",
   "mimetype": "text/x-python",
   "name": "python",
   "nbconvert_exporter": "python",
   "pygments_lexer": "ipython2",
   "version": "2.7.12"
  }
 },
 "nbformat": 4,
 "nbformat_minor": 0
}
