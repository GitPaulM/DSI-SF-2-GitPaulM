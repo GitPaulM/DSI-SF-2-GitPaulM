{
 "cells": [
  {
   "cell_type": "markdown",
   "metadata": {},
   "source": [
    "# Emphasis:\n",
    "\n",
    "\n",
    "### Python\n",
    "- scipy.stats\n",
    "- pmf, cdf\n",
    "\n",
    "### Data Science:\n",
    "\n",
    "- Hypothesis Testing:\n",
    "- Null Hypothesis vs.  Alternative\n",
    "- One vs. Two sided Testing\n",
    "- p-value\n",
    "- Alpha - significance level\n",
    "- Error Types: I, II\n",
    "- Power\n",
    "- Confidence Interval"
   ]
  },
  {
   "cell_type": "code",
   "execution_count": 7,
   "metadata": {
    "collapsed": true
   },
   "outputs": [],
   "source": [
    "import pandas as pd\n",
    "import numpy  as np\n",
    "import scipy.stats as stats\n",
    "import matplotlib.pyplot as plt\n",
    "import seaborn as sns"
   ]
  },
  {
   "cell_type": "markdown",
   "metadata": {},
   "source": [
    "The center for paranormal activity which resides in a dark basement near the intersection of Bush and Powell Street in San Francisco has a test to see if someone is gifted.    The test works as follows:\n",
    "\n",
    "The candidate is responsible for writing down 15 digits from 1 thru 6.   The candidate is then asked to roll a single die 15 times.   If the first roll is equal to the first digit written a correct quess is tallied.    This is replicated 15 times.  The candidate recieves a score which is the sum of the tallies (The correct answers)\n",
    "\n",
    "Candidate A claims to be gifted.   The experiment is performed and the candidate gets 4 correct.   A candidate is considered gifted if the probability of their score or better is less than .5%.\n",
    "\n",
    "What type of probability distribution describes this experiment?\n",
    "What is the probability that this candidate would get 5 or more correct?\n",
    "What is the conclusion?\n"
   ]
  },
  {
   "cell_type": "markdown",
   "metadata": {},
   "source": [
    "15 independent trials each with a probability of success 1/6.   This is a binomial distribution.  On average how many should someone get correct?"
   ]
  },
  {
   "cell_type": "code",
   "execution_count": 83,
   "metadata": {
    "collapsed": false
   },
   "outputs": [
    {
     "name": "stdout",
     "output_type": "stream",
     "text": [
      "On average:  2.5\n",
      "Mean for binomial distribution is n*p\n"
     ]
    }
   ],
   "source": [
    "bino = stats.binom(15,1./6)\n",
    "print \"On average: \", bino.mean()\n",
    "print \"Mean for binomial distribution is n*p\""
   ]
  },
  {
   "cell_type": "markdown",
   "metadata": {},
   "source": [
    "How unusual is it to get exactly 4? 4 or more?"
   ]
  },
  {
   "cell_type": "code",
   "execution_count": 84,
   "metadata": {
    "collapsed": false
   },
   "outputs": [
    {
     "name": "stdout",
     "output_type": "stream",
     "text": [
      "Probability of getting exactly 4:  0.141753549797\n"
     ]
    }
   ],
   "source": [
    "score = 4\n",
    "print \"Probability of getting exactly \"+str(score)+\": \",bino.pmf(score)\n"
   ]
  },
  {
   "cell_type": "code",
   "execution_count": 85,
   "metadata": {
    "collapsed": false
   },
   "outputs": [
    {
     "name": "stdout",
     "output_type": "stream",
     "text": [
      "Probability of getting 4 or more (aka p-value) :  0.231519217217\n"
     ]
    }
   ],
   "source": [
    "score = 4\n",
    "print \"Probability of getting \"+str(score)+\" or more (aka p-value) : \",1- bino.cdf(score-1)"
   ]
  },
  {
   "cell_type": "markdown",
   "metadata": {},
   "source": [
    "Conclusion:   Of course every one is gifted in some way, but in this case, not likely paranormally."
   ]
  },
  {
   "cell_type": "code",
   "execution_count": null,
   "metadata": {
    "collapsed": true
   },
   "outputs": [],
   "source": [
    "Candidate B does the same experiment and has a score of 14?    What is the conclusion"
   ]
  },
  {
   "cell_type": "code",
   "execution_count": 88,
   "metadata": {
    "collapsed": false
   },
   "outputs": [
    {
     "name": "stdout",
     "output_type": "stream",
     "text": [
      "Probability of getting 14 or more (aka p-value) :  1.61638480378e-10\n"
     ]
    }
   ],
   "source": [
    "score = 14\n",
    "print \"Probability of getting \"+str(score)+\" or more (aka p-value) : \",1 - bino.cdf(score-1)"
   ]
  },
  {
   "cell_type": "markdown",
   "metadata": {},
   "source": [
    "Note that not all hypothesis rules are in based necessarily on pvalues.   Some just use the critical value.  The result is the same, just the terminology is different.  The paranormal test could have been to reject the null hypothesis if the score (Critical value) exceeded 7.0 "
   ]
  },
  {
   "cell_type": "code",
   "execution_count": 93,
   "metadata": {
    "collapsed": false
   },
   "outputs": [
    {
     "data": {
      "text/plain": [
       "7.0"
      ]
     },
     "execution_count": 93,
     "metadata": {},
     "output_type": "execute_result"
    }
   ],
   "source": [
    "alpha = .005\n",
    "bino.ppf(1-alpha)"
   ]
  },
  {
   "cell_type": "markdown",
   "metadata": {},
   "source": [
    "Conclusion is that this is a a very unusual result and should be investigated."
   ]
  },
  {
   "cell_type": "markdown",
   "metadata": {},
   "source": [
    "###  Prove it!!!\n",
    "\n",
    "![](https://s-media-cache-ak0.pinimg.com/236x/9f/7e/ea/9f7eeaf80f54d1464c20958167a8e211.jpg)\n",
    "\n",
    "The above example illustrates how hypothesis testing  generally works.  Usually there is a status quo (they are not paranormal) hypothesis that is only rejected after a statistic is calculated whose probablity is very, unlikely.  In the absence of results that are unusual, the status quo, i.e. null hypothesis is retained.   \n",
    "\n",
    "The p-value represents the probability of getting an observation (stat / score) at or more extreme than the one observed GIVEN the null hypothesis.  i.e. pvalue = P(data | Null hypothesis).  Intuitively, the smaller the p-value, the more unlikely the event, which in turn,  challenges the status quo.  14 out of 15 dice rolls was extremely unlikely.  The P-value is often misinterpreted and IS NOT P(Null Hypothesis is True| Data).\n",
    "\n",
    "http://www.perfendo.org/docs/BayesProbability/twelvePvaluemisconceptions.pdf\n",
    "\n",
    "http://blog.minitab.com/blog/adventures-in-statistics/why-are-p-value-misunderstandings-so-common\n",
    "\n",
    "How unlikely is unlikely?  This is set in advance by the experiment team and is called the level of signficance for a test alpha known as alpha.   If the p-value is less than the alpha, then the null hypothesis is rejected.\n",
    "\n",
    "Note that hypothesis testing can be one tailed  or two tailed.  For example if you are testing whether or not a exercise program is effective, you would reject the null hypothesis (not effective) if the results were very strong.  This would be an example of a one sided test.  If you are however are testing the null hypothesis that their is no difference between the two exercise programs, then either a very big difference (either positive or negative), would result in the rejection of the null hypothesis.  That is an example of a two-tail test.\n",
    "\n",
    "\n",
    "![](http://image.slidesharecdn.com/10-140903093517-phpapp01/95/10-sampling-and-hypotehsis-19-638.jpg?cb=1409737455)\n",
    "\n",
    "\n"
   ]
  },
  {
   "cell_type": "markdown",
   "metadata": {
    "collapsed": true
   },
   "source": [
    "A one tail (upper tail) test is peformed.  Based on the null hypothesis being true, the test stat is determined to be distributed from a normal distribution with mean 0 and standard deviation 1.    If the test stat's value is 2.38,  would the null hypothesis be accepted or rejected if the significance (alpha) for the test is .005?"
   ]
  },
  {
   "cell_type": "code",
   "execution_count": 32,
   "metadata": {
    "collapsed": false
   },
   "outputs": [],
   "source": [
    "normal = stats.norm(0,1)\n"
   ]
  },
  {
   "cell_type": "code",
   "execution_count": 71,
   "metadata": {
    "collapsed": false
   },
   "outputs": [
    {
     "name": "stdout",
     "output_type": "stream",
     "text": [
      "The alpha of the test is:   0.025\n",
      "The p-value of the test is:   0.00865631902552\n",
      "The p-value is less than alpha so the Null Hypotheisis is rejected    0.00865631902552\n"
     ]
    }
   ],
   "source": [
    "stat = 2.38\n",
    "alpha = .025\n",
    "p_value = 1-norm.cdf(stat)\n",
    "print \"The alpha of the test is:  \", alpha\n",
    "print \"The p-value of the test is:  \", p_value\n",
    "\n",
    "if p_value < alpha:\n",
    "    print \"The p-value is less than alpha so the Null Hypotheisis is rejected   \", p_value\n",
    "else:\n",
    "    print \"The p-value is >= alpha so the Null Hypotheisis is retained\", p_value"
   ]
  },
  {
   "cell_type": "markdown",
   "metadata": {},
   "source": [
    "Hypothesis testing is not infallable and errors can be made in either direction.    Let's assume that in the above example the true distribution was Normal with mean 1.5 and standard deviation 1.0.  What is the probabability that the null hypothesis was accepted falsely?\n"
   ]
  },
  {
   "cell_type": "code",
   "execution_count": 72,
   "metadata": {
    "collapsed": false
   },
   "outputs": [
    {
     "name": "stdout",
     "output_type": "stream",
     "text": [
      "Critical Value:  1.95996398454\n",
      "The probability that the null hypothesis was retained incorrectly:  0.677228964044\n"
     ]
    }
   ],
   "source": [
    "new_norm = stats.norm(1.5,1)\n",
    "critical_value = normal.ppf(1-alpha)\n",
    "print \"Critical Value: \",critical_value\n",
    "\n",
    "# this problem becomes what is the probability that that the original stat is less than or equal\n",
    "# the critical value given the true probability distribtion  ( Test stat <= critical value = retain)\n",
    "\n",
    "print \"The probability that the null hypothesis was retained incorrectly: \" , new_norm.cdf(critical_value)"
   ]
  },
  {
   "cell_type": "markdown",
   "metadata": {},
   "source": [
    "There are two types of errors that can occur in hypothesis testing.  You can reject the null hypothesis falsely (a type I error) or you can retain the null hypothesis falsely (a type II error).    The probability of a false rejection of a null hypothesis(type I) is set when the experiment is run.  That probability is alpha.  The probability of a false acceptance of the null hypothesis (Type II) is known as beta.  It is dependent upon what in fact the true distribution is.  Statisticans like to refer to the \"power of the test\", where power is = 1- beta.\n",
    "\n",
    "![](http://datasciencedojo.com/wp-content/uploads/2014/05/type1and2error.gif)\n",
    "\n",
    "![](http://67.media.tumblr.com/tumblr_m2by0pnhQ51rqgwpio1_1280.png)\n",
    "\n",
    "![](http://i.stack.imgur.com/rxoDS.jpg)\n",
    "\n",
    "\n",
    "\n"
   ]
  },
  {
   "cell_type": "markdown",
   "metadata": {},
   "source": [
    "### Confidence Intervals\n",
    "\n",
    "![](http://activated-europe.com/wp-content/uploads/2015/05/06.DEATH_.OF_.HORSESHOES-636x318.jpg)\n",
    "\n",
    "Confidence Intervals can be used to estimate a parameter.   They are an interval range that is associated with a given probability of a parameter in question being included in a range.  They are kind of like playing horseshoes.  You might say that 95% of the time that the post (parameter) is between the left and right side of the shoe.   (Or you might not, but that's my analogy.\n",
    "\n",
    "They are often used and can be used to test two tailed hypothesis.   When comparing the differnece of two populations, the absence of zero within the confidence interval range would indicate that the null hypothesis that there is no difference should be rejected.\n",
    "\n",
    "Let's say your horseshoe success probability is 95%.  Once you throw the horseshoe and it lands, what is the probability that the horseshoe captures the post?    The answer is: Either zero or one.    The 95% percent accuracy rate means that 95% of the time you will capture the post, but once it's thrown, it is really Bernoulli.  It made it or id didn't.\n",
    "\n",
    "Confidence intervals should be interpreted the same way and are often not. (See Wikipedia link).  As a statistical method, if you have a 95% percent confidence interval you will capture the true parameter you are trying to estimate 95% of the time.  Once the confidence interval is calculated, either it captured the parameter or it did not.\n",
    "\n",
    "\n",
    "\n",
    "https://en.wikipedia.org/wiki/Confidence_interval"
   ]
  },
  {
   "cell_type": "code",
   "execution_count": null,
   "metadata": {
    "collapsed": true
   },
   "outputs": [],
   "source": []
  },
  {
   "cell_type": "code",
   "execution_count": null,
   "metadata": {
    "collapsed": true
   },
   "outputs": [],
   "source": []
  },
  {
   "cell_type": "code",
   "execution_count": null,
   "metadata": {
    "collapsed": true
   },
   "outputs": [],
   "source": []
  }
 ],
 "metadata": {
  "anaconda-cloud": {},
  "kernelspec": {
   "display_name": "Python [dsi]",
   "language": "python",
   "name": "Python [dsi]"
  },
  "language_info": {
   "codemirror_mode": {
    "name": "ipython",
    "version": 2
   },
   "file_extension": ".py",
   "mimetype": "text/x-python",
   "name": "python",
   "nbconvert_exporter": "python",
   "pygments_lexer": "ipython2",
   "version": "2.7.12"
  }
 },
 "nbformat": 4,
 "nbformat_minor": 0
}
