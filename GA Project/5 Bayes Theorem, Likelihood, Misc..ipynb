{
 "cells": [
  {
   "cell_type": "markdown",
   "metadata": {},
   "source": [
    "\n",
    "    "
   ]
  },
  {
   "cell_type": "markdown",
   "metadata": {
    "collapsed": false
   },
   "source": [
    "## Emphasis:\n",
    "\n",
    "Probability:\n",
    "\n",
    "- Conditional Probability \n",
    "    - P(A|B) which reads \"Probability of A given B has occurred\"\n",
    "- Calculating probability of event, weighted on other events\n",
    "    - Independent Events\n",
    "    - Mutually Exclusive Events\n",
    "- Bayes Theorem\n",
    "- Likelihood\n",
    "- Transition Matrix\n",
    "    - Steady State\n",
    "    - Transient State\n",
    "    - Stationary State\n",
    "\n",
    "\n",
    "Python:\n",
    " - Matrix Multiplication\n",
    " - Dot multiplication\n",
    " - Function Creation\n",
    " - Random Int\n",
    " - Numpy Linear Algebra\n",
    "     matrix\n",
    "     inverse\n",
    "     matrix multiplication\n",
    "- Reshape\n",
    "\n",
    "\n",
    "     \n",
    "\n",
    "Data Science:\n",
    "\n",
    "- Specificity\n",
    "- Sensitivity\n",
    "    "
   ]
  },
  {
   "cell_type": "markdown",
   "metadata": {},
   "source": [
    "## Key Terminology\n",
    "\n",
    "### Bayes Theorem\n",
    "\n",
    "#### From: \n",
    "\n",
    "### P(AB )= P(A|B) * P(B)\n",
    "### P(AB )= P(B|A) * P(A)\n",
    "\n",
    "\n",
    "#####Solving using substitution:\n",
    "\n",
    "### Bayes Theorem: P(A|B )= (P(B|A)  / P(B)) * P(A)\n",
    "\n",
    "note.......\n",
    "\n",
    "#### Posterior  = Constant * Prior (knowledge can result in a change in probability)"
   ]
  },
  {
   "cell_type": "code",
   "execution_count": 80,
   "metadata": {
    "collapsed": false
   },
   "outputs": [],
   "source": [
    "import pandas as pd\n",
    "import numpy  as np\n",
    "import scipy.stats as stats\n",
    "import matplotlib.pyplot as plt\n",
    "import seaborn as sns\n",
    "from numpy import linalg\n",
    "\n",
    "%matplotlib inline"
   ]
  },
  {
   "cell_type": "markdown",
   "metadata": {},
   "source": [
    "### Conditional Probability (Review)\n",
    "\n",
    "Conditional Probability measues the probability of an event (Say A) given that another event has occcurred.  It is written as\n",
    "\n",
    "#### P(A|B) (read \"Probability of A given B\")\n",
    "\n",
    "#### Prior Probability  (a priori):  In this context P(A) is sometimes known as the prior probabality (Prior to any additional knowledge)\n",
    "\n",
    "#### Posteri (a posteriori) P(A|B) \"ie given knowledge\", to what has as probabability of A  changed\n",
    "\n",
    "Note that conditional probablity might be larger, the same, or less than the prior\n",
    "distributions\n",
    "\n",
    "https://en.wikipedia.org/wiki/Conditional_probability#/media/File:Conditional_probability.svg\n",
    "\n",
    "\n",
    "### P(A|B) = P(AB) / P(B)\n",
    "\n",
    "https://en.wikipedia.org/wiki/Conditional_probability#/media/File:Conditional_probability.svg\n",
    "\n",
    "One way to understand the intuition for this formula is to think of of the relative weights between AB and B.  Now that b occurs the sample space has changed.   A given B will be relative to the new sample space.\n",
    "\n",
    "https://s3.amazonaws.com/classconnection/156/flashcards/10492156/jpg/conditional_probability-152F061E62D501DF63E.jpg\n",
    "\n",
    "Another way to build intuition for this formula is to consider P(AB).  To calulate this probability, B must occur and then given B, A must occur.\n",
    "\n",
    "Thus: \n",
    "\n",
    "###  P(A|B)P(B) = P(AB) = P(B|A)P(A)\n",
    "\n",
    "Note the relationshiop between P(A|B) and P(B|A) known as Bayes Theorem:\n",
    "\n",
    "### P(A|B) = P(AB)/P(B) = (P(B|A) * P(A)) / P(B)\n",
    "\n",
    "this is sometimes written as \n",
    "\n",
    "### P(A|B) = (P(B|A)/ P(B)) * P(A) \n",
    "\n",
    "i.e. Posterior is proportional to Prior \n",
    "\n"
   ]
  },
  {
   "cell_type": "markdown",
   "metadata": {},
   "source": [
    "Intuitive example of conditional probability: Draw a card from a deck of cards.  Determine the prior probabilty that the card is black.   Suppose a second card is exposed from the remaining deck (i.e. without replacing ) and it is red.   What is the posterior (aka conditional) probability that card 1 is black given card 2 is red?"
   ]
  },
  {
   "cell_type": "code",
   "execution_count": 40,
   "metadata": {
    "collapsed": false
   },
   "outputs": [
    {
     "name": "stdout",
     "output_type": "stream",
     "text": [
      "P(Black | Red Card Shown) = P(Red Card Shown | Black) / (P(Red Card Shown)) * P(Black) =  0.509803921569\n",
      "Posterior / Prior Ratio:  1.01960784314\n"
     ]
    }
   ],
   "source": [
    "# Let A be a Red card event, B a black card\n",
    "prior = 26/52.\n",
    "p_b = 26/52.\n",
    "p_b_given_a = 26/51.\n",
    "posterior = (p_b_given_a/p_b)*prior\n",
    "\n",
    "print \"P(Black | Red Card Shown) = P(Red Card Shown | Black) / (P(Red Card Shown)) * P(Black) = \",posterior\n",
    "\n",
    "print \"Posterior / Prior Ratio: \", posterior / prior\n"
   ]
  },
  {
   "cell_type": "markdown",
   "metadata": {},
   "source": [
    "Slight variation : Draw a card from a deck of cards.  Determine the prior probabilty that the card is black.  Show the card to a friend who notes the color and replace the card in the deck .   Reshuffle the deck.  Suppose a second card is exposed from deck  and it is red.   What is the posterior (aka conditional) probability that card 1 was black given card 2 is red?"
   ]
  },
  {
   "cell_type": "code",
   "execution_count": 41,
   "metadata": {
    "collapsed": false
   },
   "outputs": [
    {
     "name": "stdout",
     "output_type": "stream",
     "text": [
      "P(Black | Red Card Shown) = P(Red Card Shown | Black) / (P(Red Card Shown)) * P(Black) =  0.5\n",
      "Posterior / Prior Ratio:  1.0\n"
     ]
    }
   ],
   "source": [
    "# Let A be a Red card event, B a black card\n",
    "prior = 26/52.\n",
    "p_b = 26/52.\n",
    "p_b_given_a = 26/52.\n",
    "posterior = (p_b_given_a/p_b)*prior\n",
    "\n",
    "print \"P(Black | Red Card Shown) = P(Red Card Shown | Black) / (P(Red Card Shown)) * P(Black) = \",posterior\n",
    "\n",
    "print \"Posterior / Prior Ratio: \", posterior / prior\n"
   ]
  },
  {
   "cell_type": "markdown",
   "metadata": {},
   "source": [
    "In the above case the events are independent and the conditioned event provides no additional information."
   ]
  },
  {
   "cell_type": "markdown",
   "metadata": {},
   "source": [
    "60 % of a control group (I subgroup) are using medicine A, # 40 percent (II subgroup) do not.   A subject is drawn at random form the control group and a test is performed.  The test is performed detecting the presence of the medicine has a 95% sensitivity rate (True positives) and a 90% specificity rate (True negatives).\n",
    "\n",
    "What is the probability that the test shows positive?\n",
    "\n",
    "Note:   This is per se, not a Bayes problem.  It is though, reflective of a conditioned probability technique that is often used to calculate the denominator for bayes theorem.\n",
    "\n",
    "P(Positive) will need to be conditioned on whether the person is administered the medicine.\n",
    "\n",
    "P(Positive Test) = P(Positive Test | Group I) * P(I) + P(Positive Test | Group II) * P(II)\n"
   ]
  },
  {
   "cell_type": "code",
   "execution_count": 42,
   "metadata": {
    "collapsed": false
   },
   "outputs": [
    {
     "name": "stdout",
     "output_type": "stream",
     "text": [
      "P(Positive Test):  0.61\n"
     ]
    }
   ],
   "source": [
    "group_I = .60\n",
    "group_II = 1- group_I\n",
    "\n",
    "sensitivity =  .95 # True postives\n",
    "specificity  = .90 # True negatives\n",
    "\n",
    "p_pos = sensitivity * group_I + (1-specificity) * group_II\n",
    "\n",
    "print \"P(Positive Test): \", p_pos"
   ]
  },
  {
   "cell_type": "markdown",
   "metadata": {},
   "source": [
    "What is the probability that someone is from subgroup I given that they tested positive?  This is a problem for ...... yes Reverand Thomas Bayes.....\n",
    "P(I|+) = (P(+|I)/P(+)) * P(I) \n",
    "\n",
    "\n",
    "* this is a modified version of a wikipedia prob on conditional probabilty fyi"
   ]
  },
  {
   "cell_type": "code",
   "execution_count": 43,
   "metadata": {
    "collapsed": false
   },
   "outputs": [
    {
     "name": "stdout",
     "output_type": "stream",
     "text": [
      "P(from Group I given a '+' test rsult):  0.934426229508\n"
     ]
    }
   ],
   "source": [
    "prior = group_I\n",
    "p_I_given_positive = sensitivity\n",
    "\n",
    "# and luckily we have P(+) from above......\n",
    "\n",
    "print \"P(from Group I given a '+' test rsult): \", (p_I_given_positive/p_pos) * prior"
   ]
  },
  {
   "cell_type": "markdown",
   "metadata": {},
   "source": [
    "## Classic Bayes Theorem Problem:  Monty Hall\n",
    "\n",
    "Monty Hall Problem:   This is a classic problem that came out of a television game show, which was hosted by you guessed it.  Let's play it.  There are 3 doors, beyond which are hidden two worthless prizes and one mega prize.   You get to choose a door.  Let's say you choose door 1.\n",
    "\n",
    "Calculate the probability you will win the Mega prize?\n"
   ]
  },
  {
   "cell_type": "code",
   "execution_count": 56,
   "metadata": {
    "collapsed": false
   },
   "outputs": [
    {
     "name": "stdout",
     "output_type": "stream",
     "text": [
      "The apriori probability (before we have any information) P(Mega) is:  0.333333333333\n",
      "The ratio of an alternative probabilty to current door probability is: 1.0\n"
     ]
    }
   ],
   "source": [
    "doors = 3\n",
    "priorM = 1./doors\n",
    "print \"The apriori probability (before we have any information) P(Mega) is: \", priorM\n",
    "print \"The ratio of an alternative probabilty to current door probability is:\", priorM/priorM"
   ]
  },
  {
   "cell_type": "markdown",
   "metadata": {
    "collapsed": true
   },
   "source": [
    "Now here's where it get interesting.  The host knows where the Mega prize is at and walks over to one of the doors that has a worthless prize and opens it up.  He then offers you a choice:  Should you keep your current choice or switch your choice to the other remaining door.   So as an example, you have chosen door 1 and he walks over to door two, opens it up and indicates that it is worthless.  You are then offered the choice to change your choice to door 3 if you like. What should you do?  Should you stay or should you go? \n",
    "\n",
    "p.s. if you google search on this topic you will note that this problem is historically very confusing and it baffles some smart folks\n",
    "\n",
    "We'll calculate the probability using Bayes Theorem.\n",
    "\n",
    "Let M(1) be the probability that the Mega prize is behind door 1 and let O(k), be the event that the host, Monty hall, opens door k.  Note he is operating only under two rules:  1) he can't open the door with the mega price and 2) he can't show what is behind your door, door 1.\n"
   ]
  },
  {
   "cell_type": "markdown",
   "metadata": {},
   "source": [
    "We need to calculate the posterior probability here: P(Mega(1) | O(2)).\n",
    "\n",
    "Using Bayes theroem this will be (P(O(2) |Mega(1))* P (Mega(1))/P(O(2)"
   ]
  },
  {
   "cell_type": "code",
   "execution_count": 48,
   "metadata": {
    "collapsed": true
   },
   "outputs": [],
   "source": [
    "#remembering that if you have the prize behind door one, he has two doors to choose from each of which is equally likely\n",
    "p_num = (1/2.) * priorM\n",
    "#now let's calculate the denominator P((0(2)).  This is easiest if we condition on M(k). Note that the\n",
    "#Monty cannot open up either the door chosen or the door with the prize.  so "
   ]
  },
  {
   "cell_type": "markdown",
   "metadata": {},
   "source": [
    "P(O(2)) = P(O(2)|M(1)) * P(M(1)) + P(O(2)|M(2)) * P(M(2)) + P(O(2)|M(3)) * P(M(3))"
   ]
  },
  {
   "cell_type": "code",
   "execution_count": 49,
   "metadata": {
    "collapsed": false
   },
   "outputs": [],
   "source": [
    "p_den = (1/2.)*(1/3.) + 0.0 * (1/3.) + 1.0 * (1/3.)\n",
    "p_mega_post = p_num / p_den"
   ]
  },
  {
   "cell_type": "code",
   "execution_count": 50,
   "metadata": {
    "collapsed": false
   },
   "outputs": [
    {
     "name": "stdout",
     "output_type": "stream",
     "text": [
      "The apriori (before we have any information) P(Mega) is:  0.333333333333\n",
      "The posterior probability (having some information) P(Mega | Door Open):  0.333333333333\n"
     ]
    }
   ],
   "source": [
    "print \"The apriori (before we have any information) P(Mega) is: \", P_mega\n",
    "print \"The posterior probability (having some information) P(Mega | Door Open): \",p_mega_post"
   ]
  },
  {
   "cell_type": "markdown",
   "metadata": {
    "collapsed": true
   },
   "source": [
    "So the probabality did not change.  So given a choice to switch to the other open box is there a benefit. \n"
   ]
  },
  {
   "cell_type": "markdown",
   "metadata": {
    "collapsed": true
   },
   "source": [
    "The answer lies in the likelihood....... "
   ]
  },
  {
   "cell_type": "code",
   "execution_count": 58,
   "metadata": {
    "collapsed": false
   },
   "outputs": [
    {
     "name": "stdout",
     "output_type": "stream",
     "text": [
      " The ratio of an alternative probabilty to current door probaility is: 2.0\n"
     ]
    }
   ],
   "source": [
    "print \"The ratio of an alternative probabilty to current door probaility is:\", (1-p_mega_post)/p_mega_post"
   ]
  },
  {
   "cell_type": "markdown",
   "metadata": {},
   "source": [
    "In in doubt on what to do, consult Kevin Spacey.......\n",
    "\n",
    "https://www.youtube.com/watch?v=Zr_xWfThjJ0"
   ]
  },
  {
   "cell_type": "markdown",
   "metadata": {},
   "source": [
    "Create a monty_hall function that prints the prior and posterior distribution that is a function of doors"
   ]
  },
  {
   "cell_type": "code",
   "execution_count": 59,
   "metadata": {
    "collapsed": false
   },
   "outputs": [],
   "source": [
    "def monty_hall(doors,print_flag):\n",
    "    prizes = 1.\n",
    "    open = 1\n",
    "    prior = prizes/doors \n",
    "    open_door_p = 1./(doors-1)\n",
    "    p_num = open_door_p * prior\n",
    "    p_den = open_door_p * prior  + 0 * prior + 1 * prior # These are conditioned probabilities\n",
    "    posterior = p_num/p_den \n",
    "    if print_flag == 1:\n",
    "        print \"Apriori Probability:   =\", prior   \n",
    "        print \"Posterior Probability: =\", posterior\n",
    "    return"
   ]
  },
  {
   "cell_type": "code",
   "execution_count": 60,
   "metadata": {
    "collapsed": false
   },
   "outputs": [
    {
     "name": "stdout",
     "output_type": "stream",
     "text": [
      "Apriori Probability:   = 0.25\n",
      "Posterior Probability: = 0.25\n"
     ]
    }
   ],
   "source": [
    "monty_hall(4,1)"
   ]
  },
  {
   "cell_type": "markdown",
   "metadata": {},
   "source": [
    "Create a simulation model to see if it supports a decision to swap.  "
   ]
  },
  {
   "cell_type": "code",
   "execution_count": 78,
   "metadata": {
    "collapsed": false
   },
   "outputs": [
    {
     "name": "stdout",
     "output_type": "stream",
     "text": [
      "Switch win Probability:  0.6605\n"
     ]
    },
    {
     "data": {
      "text/plain": [
       "<matplotlib.text.Text at 0x11bcbf0d0>"
      ]
     },
     "execution_count": 78,
     "metadata": {},
     "output_type": "execute_result"
    },
    {
     "data": {
      "text/plain": [
       "<matplotlib.figure.Figure at 0x11c1b6b90>"
      ]
     },
     "metadata": {},
     "output_type": "display_data"
    },
    {
     "data": {
      "image/png": "[encoded data removed]",
      "text/plain": [
       "<matplotlib.figure.Figure at 0x11c78bfd0>"
      ]
     },
     "metadata": {},
     "output_type": "display_data"
    }
   ],
   "source": [
    "trials = 10000\n",
    "\n",
    "prize_door = np.random.randint(1,4,size=trials)\n",
    "switch_wins = []\n",
    "open_door = 0\n",
    "\n",
    "for z in range(0,trials):\n",
    "    prz_door = prize_door[z]\n",
    "    if prz_door == 1:\n",
    "        open_door = np.random.randint(2,4)\n",
    "    else:\n",
    "        if prz_door == 3:\n",
    "            open_door = 2\n",
    "        else:\n",
    "            open_door = 3\n",
    "    if open_door == 2:\n",
    "        hidden_door = 3\n",
    "    else:\n",
    "        hidden_door = 2           \n",
    "    if hidden_door == prz_door:\n",
    "        switch_wins.append(1)\n",
    "    else:\n",
    "        switch_wins.append(0)\n",
    "\n",
    "print \"Switch win Probability: \",np.mean(switch_wins)\n",
    "        \n",
    "#put the data in a data frame\n",
    "\n",
    "sw = pd.DataFrame({'results':switch_wins})\n",
    "sw['values'] = sw['results']\n",
    "sw = sw.reset_index()\n",
    "\n",
    "Title = 'Monty Hall - Switch Strategy Results: ' + str(np.mean(switch_wins))\n",
    "        \n",
    "fig = plt.figure(figsize=(9,6))\n",
    "sns.factorplot(x='results', data=sw, kind='count')\n",
    "sns.plt.title(Title, fontsize=12)\n"
   ]
  },
  {
   "cell_type": "markdown",
   "metadata": {},
   "source": [
    "Generalize the Monty Hall problem to ten doors and graph the likelihood ratios as more doors are opened"
   ]
  },
  {
   "cell_type": "code",
   "execution_count": 26,
   "metadata": {
    "collapsed": false
   },
   "outputs": [
    {
     "data": {
      "text/plain": [
       "[1.0,\n",
       " 1.125,\n",
       " 1.2857142857142858,\n",
       " 1.4999999999999998,\n",
       " 1.7999999999999998,\n",
       " 2.25,\n",
       " 2.9999999999999996,\n",
       " 4.5,\n",
       " 9.0]"
      ]
     },
     "execution_count": 26,
     "metadata": {},
     "output_type": "execute_result"
    }
   ],
   "source": [
    "doors =10.\n",
    "Likelihood_Ratios = [(((doors-1)/doors)/(doors-door))/(1./doors) for door in range(1,int(doors))]\n",
    "Likelihood_Ratios"
   ]
  },
  {
   "cell_type": "code",
   "execution_count": 27,
   "metadata": {
    "collapsed": false
   },
   "outputs": [
    {
     "data": {
      "image/png": "[encoded data removed]",
      "text/plain": [
       "<matplotlib.figure.Figure at 0x13cebe990>"
      ]
     },
     "metadata": {},
     "output_type": "display_data"
    }
   ],
   "source": [
    "last_door = int(doors)\n",
    "xpoints = range(1,last_door)\n",
    "ypoints = Likelihood_Ratios\n",
    "fig = plt.figure(figsize=(11,7))\n",
    "  \n",
    "ax = fig.gca()\n",
    "ax.plot(xpoints, ypoints, linewidth=3, color='darkblue')\n",
    "ax.set_ylabel('Likelood Ratio (Alternative Prob / Status quo Prob)', fontsize=10)\n",
    "ax.set_xlabel('Doors Monte has opened', fontsize=12)\n",
    "ax.set_title(\"Likelihood Ratios -- Monte Hall, Doors = \" + str(last_door), fontsize=16)\n",
    "\n",
    "plt.show()"
   ]
  },
  {
   "cell_type": "markdown",
   "metadata": {
    "collapsed": true
   },
   "source": [
    "Bonus Materials:  Transition Matrices / Markov Chains  First some set up.  Read a vector of probabilities and convert it to a transition matrix.  Each element of the array a(i,j) represents the probability at a given iteration to move from i to j"
   ]
  },
  {
   "cell_type": "code",
   "execution_count": 89,
   "metadata": {
    "collapsed": true
   },
   "outputs": [],
   "source": [
    "z = np.matrix([[1, 2], [3, 4]]) #only here to illustrate a  matrix creation option"
   ]
  },
  {
   "cell_type": "code",
   "execution_count": 135,
   "metadata": {
    "collapsed": false
   },
   "outputs": [
    {
     "data": {
      "text/plain": [
       "5.0"
      ]
     },
     "execution_count": 135,
     "metadata": {},
     "output_type": "execute_result"
    }
   ],
   "source": [
    "prob_vector = [.70,.20,.0,.10,0.0,1.,0.0,0.0,0.0,0.0,.42,0.0,.41,.17,0.0,.0,.62,.25,.13,0.0,.25,.25,.25,.25,0.0]\n",
    "sum(prob_vector)"
   ]
  },
  {
   "cell_type": "code",
   "execution_count": 136,
   "metadata": {
    "collapsed": false
   },
   "outputs": [
    {
     "data": {
      "text/plain": [
       "array([[ 0.7 ,  0.2 ,  0.  ,  0.1 ,  0.  ],\n",
       "       [ 1.  ,  0.  ,  0.  ,  0.  ,  0.  ],\n",
       "       [ 0.42,  0.  ,  0.41,  0.17,  0.  ],\n",
       "       [ 0.  ,  0.62,  0.25,  0.13,  0.  ],\n",
       "       [ 0.25,  0.25,  0.25,  0.25,  0.  ]])"
      ]
     },
     "execution_count": 136,
     "metadata": {},
     "output_type": "execute_result"
    }
   ],
   "source": [
    "transition = np.reshape(prob_vector,(5,5))\n",
    "transition"
   ]
  },
  {
   "cell_type": "markdown",
   "metadata": {},
   "source": [
    "create a function that multiplies a matrix to a power"
   ]
  },
  {
   "cell_type": "code",
   "execution_count": 137,
   "metadata": {
    "collapsed": true
   },
   "outputs": [],
   "source": [
    "def matrix_mult(x,power):\n",
    "    z = x.copy()\n",
    "    for k in range(1,power):\n",
    "        z = np.matmul(x,z)\n",
    "    return z\n",
    "        "
   ]
  },
  {
   "cell_type": "raw",
   "metadata": {},
   "source": [
    "multiply the transition matrix five and 50times and review the probabilities.  What can you infer?"
   ]
  },
  {
   "cell_type": "code",
   "execution_count": 139,
   "metadata": {
    "collapsed": false
   },
   "outputs": [
    {
     "data": {
      "text/plain": [
       "array([[ 0.6878982 ,  0.19102802,  0.0352615 ,  0.08581228,  0.        ],\n",
       "       [ 0.68933   ,  0.1912048 ,  0.03372   ,  0.0857452 ,  0.        ],\n",
       "       [ 0.66844518,  0.18802052,  0.053809  ,  0.08972531,  0.        ],\n",
       "       [ 0.67971854,  0.18822674,  0.04483234,  0.08722238,  0.        ],\n",
       "       [ 0.67423668,  0.18907894,  0.04834134,  0.08834304,  0.        ]])"
      ]
     },
     "execution_count": 139,
     "metadata": {},
     "output_type": "execute_result"
    }
   ],
   "source": [
    "x_5 = matrix_mult(transition,5)\n",
    "x_5"
   ]
  },
  {
   "cell_type": "code",
   "execution_count": 140,
   "metadata": {
    "collapsed": false
   },
   "outputs": [
    {
     "data": {
      "text/plain": [
       "array([[ 0.68675788,  0.19071097,  0.0364676 ,  0.08606354,  0.        ],\n",
       "       [ 0.68675788,  0.19071097,  0.0364676 ,  0.08606354,  0.        ],\n",
       "       [ 0.68675788,  0.19071097,  0.0364676 ,  0.08606354,  0.        ],\n",
       "       [ 0.68675788,  0.19071097,  0.0364676 ,  0.08606354,  0.        ],\n",
       "       [ 0.68675788,  0.19071097,  0.0364676 ,  0.08606354,  0.        ]])"
      ]
     },
     "execution_count": 140,
     "metadata": {},
     "output_type": "execute_result"
    }
   ],
   "source": [
    "x_50 = matrix_mult(transition,50)\n",
    "x_50"
   ]
  },
  {
   "cell_type": "markdown",
   "metadata": {},
   "source": [
    "1) you can see after 5 iterations the model converging to steady state\n",
    "2) 5 is considered a transient class (col 5 = 0's).  anything leaving the state doesn not return\n",
    "3) The opposite fo a transient class is a recurrent class.  1-4 make up a recurring class\n"
   ]
  },
  {
   "cell_type": "code",
   "execution_count": null,
   "metadata": {
    "collapsed": true
   },
   "outputs": [],
   "source": []
  }
 ],
 "metadata": {
  "anaconda-cloud": {},
  "kernelspec": {
   "display_name": "Python [dsi]",
   "language": "python",
   "name": "Python [dsi]"
  },
  "language_info": {
   "codemirror_mode": {
    "name": "ipython",
    "version": 2
   },
   "file_extension": ".py",
   "mimetype": "text/x-python",
   "name": "python",
   "nbconvert_exporter": "python",
   "pygments_lexer": "ipython2",
   "version": "2.7.12"
  }
 },
 "nbformat": 4,
 "nbformat_minor": 0
}
