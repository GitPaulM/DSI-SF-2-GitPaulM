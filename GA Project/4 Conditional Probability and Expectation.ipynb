{
 "cells": [
  {
   "cell_type": "markdown",
   "metadata": {},
   "source": [
    "\n",
    "    "
   ]
  },
  {
   "cell_type": "markdown",
   "metadata": {
    "collapsed": false
   },
   "source": [
    "## Emphasis:\n",
    "\n",
    "Probability:\n",
    "\n",
    "- Events\n",
    "- Union  A or B\n",
    "- Intersection A and B\n",
    "- Conditional Probability \n",
    "    - P(A|B) which reads \"Probability of A given B has occurred\"\n",
    "- Calculating probability of event, weighted on other events\n",
    "    - Independent Events\n",
    "    - Mutually Exclusive Events\n",
    "- Conditional Expectation\n",
    "\n",
    "    "
   ]
  },
  {
   "cell_type": "markdown",
   "metadata": {},
   "source": [
    "## Key Terminology\n",
    "\n",
    "### Union: (Or: A or B or Both A and B)\n",
    "\n",
    "#### P(A or B) = P(A) + P(B) - P(AB) \n",
    "\n",
    "Think of a Venn Diagram, we counted the middle twice and thus have to subtract to compensate\n",
    "\n",
    "https://turnthewheel.files.wordpress.com/2012/09/union.jpg\n",
    "\n",
    "### Intersection: A and B.  Both Events Occur\n",
    "\n",
    "#### P(AB)\n",
    "\n",
    "\n",
    "https://share.ehs.uen.org/sites/default/files/images/AlgII_4l2.13_image1.png\n",
    "\n",
    "http://images.slideplayer.com/15/4547296/slides/slide_13.jpg\n",
    "\n",
    "### Independent Events: By definition A and B are independent if P(AB) = P(A)*P(B)\n",
    "\n",
    "\n",
    "\n",
    "### Independent events:  Knowledge of 1 does not impact the probabilty of the other.  For Independent Events:   P(AB) = P(A)P(B)\n",
    "\n",
    "Example:  Roll two dice.  The value of the first die does not provide information about the probability of the 2nd vs....\n",
    "\n",
    "### Dependent events:  Knowledge of 1 DOES impact the probabilty of the other. \n",
    "\n",
    "Example:  Pull a card from a deck of cards.  It is red and not replaced in the deck.  The probability the first card is red is 1/2.  But the probability the second is red is 25/51.  \n",
    "\n",
    "\n",
    "### Mutually Exclusive Events: A and B are mutually exclusive if they cannot both occur simultaneously.  Mutually Exclusive Events: P(AB) = 0\n",
    "\n",
    "Mutually Exclusive Events: P(A and B) = 0\n",
    "\n",
    "##### Note:  more key concepts under conditional probability below"
   ]
  },
  {
   "cell_type": "code",
   "execution_count": 7,
   "metadata": {
    "collapsed": false
   },
   "outputs": [
    {
     "name": "stderr",
     "output_type": "stream",
     "text": [
      "//anaconda/envs/dsi/lib/python2.7/site-packages/matplotlib/font_manager.py:273: UserWarning: Matplotlib is building the font cache using fc-list. This may take a moment.\n",
      "  warnings.warn('Matplotlib is building the font cache using fc-list. This may take a moment.')\n"
     ]
    }
   ],
   "source": [
    "import pandas as pd\n",
    "import numpy  as np\n",
    "import scipy.stats as stats\n",
    "import matplotlib.pyplot as plt\n",
    "import seaborn as sns\n",
    "import sympy as sy\n",
    "from scipy.integrate import quad\n",
    "\n",
    "%matplotlib inline"
   ]
  },
  {
   "cell_type": "markdown",
   "metadata": {},
   "source": [
    "Events:\n",
    "\n",
    "    Red = Card color is Red\n",
    "    Black = Card color is Black\n",
    "    \n",
    "    n = Card id number n, n = 2,10,J,Q,K,A \n",
    "    \n",
    "    Suit = Card is of suit: Heart, Diamond, Club, Spade \n"
   ]
  },
  {
   "cell_type": "markdown",
   "metadata": {},
   "source": [
    "Some probabilities: Random Card:  P(K), P(7), P(K|7), P(KDiamond) (king and a diamond)"
   ]
  },
  {
   "cell_type": "code",
   "execution_count": 8,
   "metadata": {
    "collapsed": false
   },
   "outputs": [
    {
     "name": "stdout",
     "output_type": "stream",
     "text": [
      "P(K):  0.0769230769231\n"
     ]
    }
   ],
   "source": [
    "P_K = 4/52.\n",
    "print \"P(K): \",P_K"
   ]
  },
  {
   "cell_type": "code",
   "execution_count": 9,
   "metadata": {
    "collapsed": false
   },
   "outputs": [
    {
     "name": "stdout",
     "output_type": "stream",
     "text": [
      "P(7):  0.0769230769231\n"
     ]
    }
   ],
   "source": [
    "P_7 = 4/52.\n",
    "print \"P(7): \",P_7"
   ]
  },
  {
   "cell_type": "code",
   "execution_count": 10,
   "metadata": {
    "collapsed": false
   },
   "outputs": [
    {
     "name": "stdout",
     "output_type": "stream",
     "text": [
      "P(K|7):  0\n"
     ]
    }
   ],
   "source": [
    "PK_7 = 0\n",
    "# Probability it is a K given it is a 7 is zero\n",
    "print \"P(K|7): \",PK_7"
   ]
  },
  {
   "cell_type": "code",
   "execution_count": 11,
   "metadata": {
    "collapsed": false
   },
   "outputs": [
    {
     "name": "stdout",
     "output_type": "stream",
     "text": [
      "P(KD):  0.0192307692308\n"
     ]
    }
   ],
   "source": [
    "PKD = 1/52.\n",
    "print \"P(KD): \",PKD\n",
    "#one king of diamonds in k2 cards"
   ]
  },
  {
   "cell_type": "markdown",
   "metadata": {
    "collapsed": true
   },
   "source": [
    "Now let's do similar problems and tie in the concepts."
   ]
  },
  {
   "cell_type": "markdown",
   "metadata": {},
   "source": [
    "Find:  P(K and Diamonds), P(K or 3), P(Q or Blck), P(Red and Club)"
   ]
  },
  {
   "cell_type": "markdown",
   "metadata": {},
   "source": [
    "Independent Events:  P(A and B) = P(A) * P(B)"
   ]
  },
  {
   "cell_type": "code",
   "execution_count": 12,
   "metadata": {
    "collapsed": false
   },
   "outputs": [
    {
     "name": "stdout",
     "output_type": "stream",
     "text": [
      "P(KD):  0.0192307692308\n",
      "Since Suit and Rank are Independent P(KD) = P(K)*P(D):  0.0192307692308\n"
     ]
    }
   ],
   "source": [
    "#one KD in the deck.....\n",
    "p = 1./52\n",
    "print \"P(KD): \",p\n",
    "# but using the  fact that knowing the suit does not tell you any information\n",
    "# about the rank (or vice versa) P(KD) = P(K)*P(D)\n",
    "p = (1./13)*(1./4)\n",
    "print \"Since Suit and Rank are Independent P(KD) = P(K)*P(D): \",p"
   ]
  },
  {
   "cell_type": "markdown",
   "metadata": {},
   "source": [
    "Probability Union:  P(A or B) = P(A) + P(B) - P(A and B) \n",
    "\n",
    "Mutually Exclusive:  P(A and B) = 0"
   ]
  },
  {
   "cell_type": "code",
   "execution_count": 13,
   "metadata": {
    "collapsed": false
   },
   "outputs": [
    {
     "name": "stdout",
     "output_type": "stream",
     "text": [
      "P(K or 3) = P(K) + P(3) - P(K3) = : 0.153846153846\n",
      "alternatively: P(K or 3)  = 8/52 :  0.153846153846\n"
     ]
    }
   ],
   "source": [
    "pk = 4./52\n",
    "p3 = 4./52\n",
    "pk3 = 0 # can't be both\n",
    "\n",
    "print \"P(K or 3) = P(K) + P(3) - P(K3) = :\",pk + p3 - pk3\n",
    "\n",
    "# or since there are 8 cards in the deck that are K or 3...\n",
    "\n",
    "\n",
    "print \"alternatively: P(K or 3)  = 8/52 : \", 8./52"
   ]
  },
  {
   "cell_type": "markdown",
   "metadata": {},
   "source": [
    "Probability Union: P(A or B) = P(A) + P(B) - P(A and B)\n",
    "\n",
    "Independent Events:  P(AB) = P(A)P(B)\n",
    "\n",
    "====> for Independent Events: P(A or B) = P(A) + P(B) - P(A)P(B)"
   ]
  },
  {
   "cell_type": "code",
   "execution_count": 14,
   "metadata": {
    "collapsed": false
   },
   "outputs": [
    {
     "name": "stdout",
     "output_type": "stream",
     "text": [
      "P(Q or B) = P(Q) + P(B) - P(QB) = : 0.538461538462\n",
      "alternatively: P(Q or b) = 28/52  : 0.538461538462\n"
     ]
    }
   ],
   "source": [
    "pq = 4./52\n",
    "pb = 26./52\n",
    "pqb = (4/52.) * (26./52) # using rank and suit independence:  Knowledge of one\n",
    "# says nothing about the other\n",
    "\n",
    "print \"P(Q or B) = P(Q) + P(B) - P(QB) = :\",pq + pb - pqb\n",
    "\n",
    "# or since there are 8 cards in the deck that are K or 3...\n",
    "\n",
    "print \"alternatively: P(Q or b) = 28/52  :\", 28./52"
   ]
  },
  {
   "cell_type": "markdown",
   "metadata": {},
   "source": [
    "Mutually Exclusive:  P(AB) = 0"
   ]
  },
  {
   "cell_type": "code",
   "execution_count": 15,
   "metadata": {
    "collapsed": false
   },
   "outputs": [
    {
     "name": "stdout",
     "output_type": "stream",
     "text": [
      "P(Red and Club) =  = : 0.0\n"
     ]
    }
   ],
   "source": [
    "print \"P(Red and Club) =  = :\",0.\n",
    "\n",
    "# Note suit and color are NOT independent.  If you know the suit, you know the color\n",
    "# if you know the color, it changes the probability of a suit. Red and Club are Mutually exclusive"
   ]
  },
  {
   "cell_type": "markdown",
   "metadata": {},
   "source": [
    "### Conditional Probability\n",
    "\n",
    "Conditional Probability measues the probability of an event (Say A) given that another event has occcurred.  It is written as\n",
    "\n",
    "#### P(A|B) (read \"Probability of A given B\")\n",
    "\n",
    "#### Prior Probability  (a priori):  In this context P(A) is sometimes known as the prior probabality (Prior to any additional knowledge)\n",
    "\n",
    "#### Posteri (a posteriori) P(A|B) \"ie given knowledge\", to what has as probabability of A  changed\n",
    "\n",
    "Note that conditional probablity might be larger, the same, or less than the prior\n",
    "distributions\n",
    "\n",
    "https://en.wikipedia.org/wiki/Conditional_probability#/media/File:Conditional_probability.svg\n",
    "\n",
    "\n",
    "### P(A|B) = P(AB) / P(B)\n",
    "\n",
    "https://en.wikipedia.org/wiki/Conditional_probability#/media/File:Conditional_probability.svg\n",
    "\n",
    "One way to understand the intuition for this formula is to think of of the relative weights between AB and B.  Now that b occurs the sample space has changed.   A given B will be relative to the new sample space.\n",
    "\n",
    "https://s3.amazonaws.com/classconnection/156/flashcards/10492156/jpg/conditional_probability-152F061E62D501DF63E.jpg\n",
    "\n",
    "Another way to build intuition for this formula is to consider P(AB).  To calulate this probability, B must occur and then given B, A must occur.\n",
    "\n",
    "Thus: \n",
    "\n",
    "###  P(A|B)P(B) = P(AB) = P(B|A)P(A)\n",
    "\n",
    "Note the relationshiop between P(A|B) and P(B|A) known as Bayes Theorem:\n",
    "\n",
    "### P(A|B) = P(AB)/P(B) = (P(B|A) * P(A)) / P(B)\n",
    "\n",
    "this is sometimes written as \n",
    "\n",
    "### P(A|B) = (P(B|A)/ P(B)) * P(A) \n",
    "\n",
    "i.e. Posterior is proportional to Prior \n",
    "\n"
   ]
  },
  {
   "cell_type": "markdown",
   "metadata": {},
   "source": [
    "Draw a card from a deck of cards.  Determine the prior probabilty that the card is black.   Suppose a second card is exposed from the remaining deck (i.e. no replacement) and it is red.   What is the posterior (aka conditional) probability that card 1 is black given card 2 is red?"
   ]
  },
  {
   "cell_type": "code",
   "execution_count": 34,
   "metadata": {
    "collapsed": false
   },
   "outputs": [
    {
     "name": "stdout",
     "output_type": "stream",
     "text": [
      "P(Black | Red Card Shown) = P(Red Card Shown | Black) / (P(Red Card Shown)) * P(Black) 0.509803921569\n",
      "Posterior / Prior Ratio:  1.01960784314\n"
     ]
    }
   ],
   "source": [
    "# Let A be a Red card event, B a black card\n",
    "prior = 26/52.\n",
    "p_b = 26/52.\n",
    "p_b_given_a = 26/51.\n",
    "posterior = (p_b_given_a/p_b)*prior\n",
    "\n",
    "print \"P(Black | Red Card Shown) = P(Red Card Shown | Black) / (P(Red Card Shown)) * P(Black)\",posterior\n",
    "\n",
    "print \"Posterior / Prior Ratio: \", posterior / prior\n"
   ]
  },
  {
   "cell_type": "markdown",
   "metadata": {},
   "source": [
    "Conditional expectation is a probability weighted sum.  The difference is that the probability weights are conditional proababilities.  "
   ]
  },
  {
   "cell_type": "markdown",
   "metadata": {
    "collapsed": true
   },
   "source": [
    "Game: Flip a coin.  It it his heads, you get to roll a single die.   You will be paid 2 times the value on the die if it is odd.  If the coin is tails, you will get 2 dollars.    A head and an odd roll will result in no payout.  The coin is not fair, but does flip a tail 40% of the time.\n",
    "\n",
    "Let Z be the expected payout: Determine the sample space for Z, the probability Z = 2, weighted by the coin probability: P(Z = 2), E[Z | Tail], E[Z | Head]\n"
   ]
  },
  {
   "cell_type": "code",
   "execution_count": 39,
   "metadata": {
    "collapsed": false
   },
   "outputs": [
    {
     "name": "stdout",
     "output_type": "stream",
     "text": [
      "P(Z=2):     0.5\n",
      "E[Z|Tail]:  2.0\n",
      "E[Z|Head]:  3.0\n"
     ]
    }
   ],
   "source": [
    "ptail = .4\n",
    "phead = 1-ptail\n",
    "\n",
    "# Given a tail\n",
    "Z_outcomes_T = [2]\n",
    "Z_prob_given_T = [1.]\n",
    "Ezt = np.dot(Z_outcomes_T,Z_prob_given_T)\n",
    "\n",
    "# Given a head\n",
    "Z_outcomes_H = [0,2,6,10]\n",
    "Z_prob_given_H = [.5,1/6.,1/6.,1/6.]\n",
    "Ezh = np.dot(Z_outcomes_H,Z_prob_given_H)\n",
    "\n",
    "P2 = ptail * Z_prob_given_T[0] + phead*Z_prob_given_H[1]\n",
    "\n",
    "print \"P(Z=2):    \", P2\n",
    "print \"E[Z|Tail]: \",Ezt\n",
    "print \"E[Z|Head]: \",Ezh\n"
   ]
  },
  {
   "cell_type": "markdown",
   "metadata": {
    "collapsed": true
   },
   "source": [
    "Key point: you can calculate the Expected value of a random variable by weighting the conditional expectations.   The notatation is E[E[Z|k]].  We sum across all values of k and multiply by the associated probability pk. (integrate if continuous)\n",
    "\n",
    "Calculate E[Z} using conditional Expectation\n"
   ]
  },
  {
   "cell_type": "code",
   "execution_count": 17,
   "metadata": {
    "collapsed": false
   },
   "outputs": [
    {
     "name": "stdout",
     "output_type": "stream",
     "text": [
      "E[Z] = E[Z|Head]*P(head) + E[Z|Tail]*P(head):  2.6\n"
     ]
    }
   ],
   "source": [
    "ez = Ezt * ptail + Ezh * phead\n",
    "print \"E[Z] = E[Z|Head]*P(head) + E[Z|Tail]*P(head): \", ez"
   ]
  },
  {
   "cell_type": "markdown",
   "metadata": {},
   "source": [
    "run an experiment and compare expected value to sample value"
   ]
  },
  {
   "cell_type": "code",
   "execution_count": 18,
   "metadata": {
    "collapsed": false
   },
   "outputs": [
    {
     "data": {
      "image/png": "[encoded data removed]",
      "text/plain": [
       "<matplotlib.figure.Figure at 0x1184384d0>"
      ]
     },
     "metadata": {},
     "output_type": "display_data"
    }
   ],
   "source": [
    "#coin flips\n",
    "\n",
    "flips = 10000000\n",
    "\n",
    "#die roll variables\n",
    "high = 6\n",
    "low = 1\n",
    "n = high-low+1\n",
    "\n",
    "#coin\n",
    "tail_payoff = 2.\n",
    "die_multiplier = 2.\n",
    "\n",
    "\n",
    "x = np.random.binomial(1,ptail,flips)\n",
    "y = np.random.randint(low,high+1,size=flips)\n",
    "z_payout = []\n",
    "for z in range(0,flips):\n",
    "    if x[z] == 1: #tail\n",
    "        z_payout.append(2.)\n",
    "    else:\n",
    "        if (y[z] % 2) == 0:\n",
    "            z_payout.append(0.)\n",
    "        else:\n",
    "            z_payout.append(die_multiplier * y[z])\n",
    "            \n",
    "z_mean = np.mean(z_payout)\n",
    "\n",
    "Title = 'Expected Payout Distribution with sample mean: ' + str(z_mean)\n",
    "        \n",
    "fig = plt.figure(figsize=(9,6))\n",
    "ax = fig.gca()\n",
    "ax = sns.distplot(z_payout, bins=8, hist=True, kde=False,\n",
    "                   ax=ax,color='darkblue')\n",
    "ax.set_ylabel('counts\\n', fontsize=16)\n",
    "ax.set_title(Title, fontsize=16)\n",
    "ax.axvline(z_mean, lw=3, ls='dashed', color='black')\n",
    "plt.show()\n"
   ]
  }
 ],
 "metadata": {
  "anaconda-cloud": {},
  "kernelspec": {
   "display_name": "Python [dsi]",
   "language": "python",
   "name": "Python [dsi]"
  },
  "language_info": {
   "codemirror_mode": {
    "name": "ipython",
    "version": 2
   },
   "file_extension": ".py",
   "mimetype": "text/x-python",
   "name": "python",
   "nbconvert_exporter": "python",
   "pygments_lexer": "ipython2",
   "version": "2.7.12"
  }
 },
 "nbformat": 4,
 "nbformat_minor": 0
}
